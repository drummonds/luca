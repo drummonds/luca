{
 "cells": [
  {
   "cell_type": "markdown",
   "metadata": {},
   "source": [
    "# Preparing Management Accounts\n",
    "Starting with a YTD TTB you need to add the begining of the year trial balance.    \n",
    "\n",
    "Note that during year during the first months we will not have the accountants adjustments and at some point we will.  At that point there will be a discontinuity in the accounting record.   \n",
    "\n",
    "If you are preparing part way through the year then you may take a mid year point as the starting point for the preperation of the accounts.  This happend in 2014-2015 and September 2015 was used as a starting point or the subsequent months of the year.\n",
    "\n",
    "In the first instance this starting point would be the January of the preceding financial year.\n"
   ]
  },
  {
   "cell_type": "markdown",
   "metadata": {},
   "source": [
    "## Get the Jan 15 accounts"
   ]
  },
  {
   "cell_type": "code",
   "execution_count": 1,
   "metadata": {
    "collapsed": true
   },
   "outputs": [],
   "source": [
    "import datetime as dt\n",
    "import math\n",
    "import pandas as pd\n",
    "import pickle\n",
    "import sqlite3\n",
    "\n",
    "from luca import SageData, TransactionalTrialBalance, p, PeriodReport, ExcelManagementReport,\\\n",
    "    LoadDatabaseError, LoadDatabase"
   ]
  },
  {
   "cell_type": "code",
   "execution_count": 2,
   "metadata": {
    "collapsed": false
   },
   "outputs": [],
   "source": [
    "rep = PeriodReport(dt.datetime(2015, 1, 1), \"historic_trial_balances.db\")"
   ]
  },
  {
   "cell_type": "code",
   "execution_count": 3,
   "metadata": {
    "collapsed": false
   },
   "outputs": [
    {
     "data": {
      "text/plain": [
       "10        9926.00\n",
       "1001    362381.70\n",
       "1100    303456.80\n",
       "1102         0.00\n",
       "1103    -30274.58\n",
       "dtype: object"
      ]
     },
     "execution_count": 3,
     "metadata": {},
     "output_type": "execute_result"
    }
   ],
   "source": [
    "emr = ExcelManagementReport()\n",
    "emr.create_one_report(rep)\n",
    "rep.period_ytd.to_series().head()"
   ]
  },
  {
   "cell_type": "code",
   "execution_count": 4,
   "metadata": {
    "collapsed": false
   },
   "outputs": [
    {
     "name": "stdout",
     "output_type": "stream",
     "text": [
      "Sum for period_mtd = -75044.01\n",
      "Sum for period_ytd = 0.00\n",
      "Sum for prior_mtd = -107345.59\n",
      "Sum for prior_ytd = 0.00\n"
     ]
    }
   ],
   "source": [
    "for attr in ('period_mtd', 'period_ytd', 'prior_mtd', 'prior_ytd'):\n",
    "    print('Sum for {} = {}'.format(attr, getattr(rep, attr).sum()))"
   ]
  },
  {
   "cell_type": "markdown",
   "metadata": {
    "collapsed": true
   },
   "source": [
    "## Convert YTD for prior year to start of year\n",
    "We need to close out the year by clearning the P&L and adding to the retained profit for the year.  (Note this doesn't have the accountants changes which we will need for Jan 16).   \n",
    "rep.period_ytd  --> to year_start.   \n",
    "Sum > 3000 and add to retained profit 2125\n",
    "Clear all > 3000"
   ]
  },
  {
   "cell_type": "code",
   "execution_count": 5,
   "metadata": {
    "collapsed": false
   },
   "outputs": [
    {
     "name": "stdout",
     "output_type": "stream",
     "text": [
      "P&L = -45685.49\n",
      "Prev retain = -509969.50, changing to -555654.99\n",
      "New retained profit = -555654.99\n",
      "Sum before clearing old balances = -45685.49\n",
      "Sum after clearing old balances = 0.00\n"
     ]
    },
    {
     "data": {
      "text/plain": [
       "10        9926.00\n",
       "1001    362381.70\n",
       "1100    303456.80\n",
       "1102         0.00\n",
       "1103    -30274.58\n",
       "dtype: object"
      ]
     },
     "execution_count": 5,
     "metadata": {},
     "output_type": "execute_result"
    }
   ],
   "source": [
    "start_year=rep.period_ytd.close_period()\n",
    "start_year.to_series().head()"
   ]
  },
  {
   "cell_type": "markdown",
   "metadata": {
    "collapsed": true
   },
   "source": [
    "## Add start of year to TTB\n",
    "In order to create the accounts for the YTD we need to add the TTB for the YTD to the year start.   \n",
    "This should be a generalised TB add."
   ]
  },
  {
   "cell_type": "code",
   "execution_count": 6,
   "metadata": {
    "collapsed": false
   },
   "outputs": [],
   "source": [
    "sage_2015 = pickle.load(open('sage2015.pickle', 'rb'))"
   ]
  },
  {
   "cell_type": "code",
   "execution_count": 7,
   "metadata": {
    "collapsed": false
   },
   "outputs": [
    {
     "name": "stdout",
     "output_type": "stream",
     "text": [
      "Sum ttb 0.00\n"
     ]
    },
    {
     "data": {
      "text/plain": [
       "1001     25646.21\n",
       "1100     60958.94\n",
       "1120       468.84\n",
       "1200    -70576.88\n",
       "1205         0.00\n",
       "dtype: object"
      ]
     },
     "execution_count": 7,
     "metadata": {},
     "output_type": "execute_result"
    }
   ],
   "source": [
    "ttb = sage_2015.transactional_trial_balance(dt.date(2015, 2, 1), dt.date(2015, 2, 28))\n",
    "print('Sum ttb {}'.format(ttb.sum()))\n",
    "ttb.to_series().head()"
   ]
  },
  {
   "cell_type": "code",
   "execution_count": 8,
   "metadata": {
    "collapsed": true
   },
   "outputs": [],
   "source": [
    "ttb_converter = TransactionalTrialBalance(start_year.chart_of_accounts)"
   ]
  },
  {
   "cell_type": "code",
   "execution_count": 10,
   "metadata": {
    "collapsed": false
   },
   "outputs": [],
   "source": [
    "ytd = start_year + ttb_converter.convert_trial_balance(ttb)"
   ]
  },
  {
   "cell_type": "markdown",
   "metadata": {
    "collapsed": true
   },
   "source": [
    "# Create account for the month\n",
    "Having created YTD and MTD then upload into the database under temporary notation\n",
    "Then load a report with the correct data and run the report."
   ]
  },
  {
   "cell_type": "code",
   "execution_count": 11,
   "metadata": {
    "collapsed": false
   },
   "outputs": [],
   "source": [
    "ttb_converter = TransactionalTrialBalance(start_year.chart_of_accounts)\n",
    "with LoadDatabase('historic_trial_balances.db') as ld:\n",
    "    ttb = sage_2015.transactional_trial_balance(dt.date(2015, 2, 1), dt.date(2015, 2, 28))\n",
    "    ytd = start_year + ttb_converter.convert_trial_balance(ttb)\n",
    "    ld.load_tb_to_database(ytd, 'AYTD-FEB-15', overwrite=True)\n",
    "    # TODO the signs of this are wrong it should be negative for 2107 so that in the BS\n",
    "    # it comes out as positive"
   ]
  },
  {
   "cell_type": "markdown",
   "metadata": {},
   "source": [
    "### Report on the new data"
   ]
  },
  {
   "cell_type": "code",
   "execution_count": null,
   "metadata": {
    "collapsed": true
   },
   "outputs": [],
   "source": []
  },
  {
   "cell_type": "code",
   "execution_count": 12,
   "metadata": {
    "collapsed": true
   },
   "outputs": [],
   "source": [
    "new_rep = PeriodReport(dt.datetime(2015, 2, 1), \"historic_trial_balances.db\", \n",
    "                       period_ytd_prefix=\"AYTD\")"
   ]
  },
  {
   "cell_type": "code",
   "execution_count": 14,
   "metadata": {
    "collapsed": false
   },
   "outputs": [
    {
     "data": {
      "text/plain": [
       "8430    678.98\n",
       "8433      0.00\n",
       "8435    311.91\n",
       "8440    860.04\n",
       "9999      0.00\n",
       "dtype: object"
      ]
     },
     "execution_count": 14,
     "metadata": {},
     "output_type": "execute_result"
    }
   ],
   "source": [
    "emr.create_one_report(new_rep)\n",
    "new_rep.prior_mtd.to_series().tail()"
   ]
  },
  {
   "cell_type": "code",
   "execution_count": null,
   "metadata": {
    "collapsed": false
   },
   "outputs": [],
   "source": [
    "print(mgmt_tb['TB'].sum())\n",
    "print(mgmt_tb.ix[10])"
   ]
  },
  {
   "cell_type": "markdown",
   "metadata": {},
   "source": [
    "## Create accounts for the year\n",
    "Iterate for the whole year."
   ]
  },
  {
   "cell_type": "markdown",
   "metadata": {},
   "source": [
    "## Using Jan 16 accounts generate accounts for 2016-2017\n",
    "This can be redone once we have finalised the Jan 16 accounts"
   ]
  },
  {
   "cell_type": "markdown",
   "metadata": {
    "collapsed": true
   },
   "source": [
    "# Playpit\n"
   ]
  },
  {
   "cell_type": "code",
   "execution_count": null,
   "metadata": {
    "collapsed": false
   },
   "outputs": [],
   "source": [
    "new_rep.period_ytd['TB']"
   ]
  },
  {
   "cell_type": "code",
   "execution_count": null,
   "metadata": {
    "collapsed": true
   },
   "outputs": [],
   "source": []
  }
 ],
 "metadata": {
  "kernelspec": {
   "display_name": "Python 3",
   "language": "python",
   "name": "python3"
  },
  "language_info": {
   "codemirror_mode": {
    "name": "ipython",
    "version": 3
   },
   "file_extension": ".py",
   "mimetype": "text/x-python",
   "name": "python",
   "nbconvert_exporter": "python",
   "pygments_lexer": "ipython3",
   "version": "3.5.1"
  }
 },
 "nbformat": 4,
 "nbformat_minor": 0
}
