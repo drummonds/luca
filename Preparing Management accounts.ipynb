{
 "cells": [
  {
   "cell_type": "markdown",
   "metadata": {},
   "source": [
    "# Preparing Management Accounts\n",
    "Starting with a YTD TTB you need to add the begining of the year trial balance.    \n",
    "\n",
    "Note that during year during the first months we will not have the accountants adjustments and at some point we will.  At that point there will be a discontinuity in the accounting record.   \n",
    "\n",
    "If you are preparing part way through the year then you may take a mid year point as the starting point for the preperation of the accounts.  This happend in 2014-2015 and September 2015 was used as a starting point or the subsequent months of the year.\n",
    "\n",
    "In the first instance this starting point would be the January of the preceding financial year.\n"
   ]
  },
  {
   "cell_type": "markdown",
   "metadata": {},
   "source": [
    "## Get the Jan 15 accounts"
   ]
  },
  {
   "cell_type": "code",
   "execution_count": 1,
   "metadata": {
    "collapsed": true
   },
   "outputs": [],
   "source": [
    "import datetime as dt\n",
    "import math\n",
    "import pandas as pd\n",
    "import pickle\n",
    "import sqlite3\n",
    "\n",
    "from luca import SageData, TransactionalTrialBalance, p, PeriodReport, ExcelManagementReport,\\\n",
    "    LoadDatabaseError, LoadDatabase, chart_of_accounts_from_db, journal_from_db, TrialBalance"
   ]
  },
  {
   "cell_type": "code",
   "execution_count": 2,
   "metadata": {
    "collapsed": false
   },
   "outputs": [],
   "source": [
    "rep = PeriodReport(dt.datetime(2015, 1, 1), \"historic_trial_balances.db\")"
   ]
  },
  {
   "cell_type": "code",
   "execution_count": 3,
   "metadata": {
    "collapsed": false
   },
   "outputs": [
    {
     "data": {
      "text/plain": [
       "10        9926.00\n",
       "1001    362381.70\n",
       "1100    303456.80\n",
       "1102         0.00\n",
       "1103    -30274.58\n",
       "dtype: object"
      ]
     },
     "execution_count": 3,
     "metadata": {},
     "output_type": "execute_result"
    }
   ],
   "source": [
    "emr = ExcelManagementReport()\n",
    "emr.create_one_report(rep)\n",
    "rep.period_ytd.to_series().head()"
   ]
  },
  {
   "cell_type": "code",
   "execution_count": 4,
   "metadata": {
    "collapsed": false
   },
   "outputs": [
    {
     "name": "stdout",
     "output_type": "stream",
     "text": [
      "Sum for period_mtd = -75044.01\n",
      "Sum for period_ytd = 0.00\n",
      "Sum for prior_mtd = -107345.59\n",
      "Sum for prior_ytd = 0.00\n"
     ]
    }
   ],
   "source": [
    "for attr in ('period_mtd', 'period_ytd', 'prior_mtd', 'prior_ytd'):\n",
    "    print('Sum for {} = {}'.format(attr, getattr(rep, attr).sum()))"
   ]
  },
  {
   "cell_type": "markdown",
   "metadata": {
    "collapsed": true
   },
   "source": [
    "## Convert YTD for prior year to start of year\n",
    "We need to close out the year by clearning the P&L and adding to the retained profit for the year.  (Note this doesn't have the accountants changes which we will need for Jan 16).   \n",
    "rep.period_ytd  --> to year_start.   \n",
    "Sum > 3000 and add to retained profit 2125\n",
    "Clear all > 3000"
   ]
  },
  {
   "cell_type": "code",
   "execution_count": 5,
   "metadata": {
    "collapsed": false
   },
   "outputs": [
    {
     "name": "stdout",
     "output_type": "stream",
     "text": [
      "P&L = -45685.49\n",
      "Prev retain = -509969.50, changing to -555654.99\n",
      "New retained profit = -555654.99\n",
      "Sum before clearing old balances = -45685.49\n",
      "Sum after clearing old balances = 0.00\n"
     ]
    },
    {
     "data": {
      "text/plain": [
       "10        9926.00\n",
       "1001    362381.70\n",
       "1100    303456.80\n",
       "1102         0.00\n",
       "1103    -30274.58\n",
       "dtype: object"
      ]
     },
     "execution_count": 5,
     "metadata": {},
     "output_type": "execute_result"
    }
   ],
   "source": [
    "start_year=rep.period_ytd.close_period()\n",
    "start_year.to_series().head()"
   ]
  },
  {
   "cell_type": "markdown",
   "metadata": {
    "collapsed": true
   },
   "source": [
    "## Add start of year to TTB\n",
    "In order to create the accounts for the YTD we need to add the TTB for the YTD to the year start.   \n",
    "This should be a generalised TB add."
   ]
  },
  {
   "cell_type": "code",
   "execution_count": 6,
   "metadata": {
    "collapsed": false
   },
   "outputs": [],
   "source": [
    "sage_2015 = pickle.load(open('sage2015.pickle', 'rb'))"
   ]
  },
  {
   "cell_type": "code",
   "execution_count": 7,
   "metadata": {
    "collapsed": false
   },
   "outputs": [
    {
     "name": "stdout",
     "output_type": "stream",
     "text": [
      "Sum ttb 0.00\n"
     ]
    },
    {
     "data": {
      "text/plain": [
       "1001     25646.21\n",
       "1100     60958.94\n",
       "1120       468.84\n",
       "1200    -70576.88\n",
       "1205         0.00\n",
       "dtype: object"
      ]
     },
     "execution_count": 7,
     "metadata": {},
     "output_type": "execute_result"
    }
   ],
   "source": [
    "ttb = sage_2015.transactional_trial_balance(dt.date(2015, 2, 1), dt.date(2015, 2, 28))\n",
    "print('Sum ttb {}'.format(ttb.sum()))\n",
    "ttb.to_series().head()"
   ]
  },
  {
   "cell_type": "code",
   "execution_count": 8,
   "metadata": {
    "collapsed": true
   },
   "outputs": [],
   "source": [
    "ttb_converter = TransactionalTrialBalance(start_year.chart_of_accounts)"
   ]
  },
  {
   "cell_type": "code",
   "execution_count": 9,
   "metadata": {
    "collapsed": false
   },
   "outputs": [],
   "source": [
    "ytd = start_year + ttb_converter.convert_trial_balance(ttb)"
   ]
  },
  {
   "cell_type": "markdown",
   "metadata": {
    "collapsed": true
   },
   "source": [
    "# Create account for the month\n",
    "Having created YTD and MTD then upload into the database under temporary notation\n",
    "Then load a report with the correct data and run the report."
   ]
  },
  {
   "cell_type": "code",
   "execution_count": 10,
   "metadata": {
    "collapsed": false
   },
   "outputs": [],
   "source": [
    "ttb_converter = TransactionalTrialBalance(start_year.chart_of_accounts)\n",
    "with LoadDatabase('historic_trial_balances.db') as ld:\n",
    "    ttb = sage_2015.transactional_trial_balance(dt.date(2015, 2, 1), dt.date(2015, 2, 28))\n",
    "    ytd = start_year + ttb_converter.convert_trial_balance(ttb)\n",
    "    ld.load_tb_to_database(ytd, 'AYTD-FEB-15', overwrite=True)\n",
    "    # TODO the signs of this are wrong it should be negative for 2107 so that in the BS\n",
    "    # it comes out as positive"
   ]
  },
  {
   "cell_type": "markdown",
   "metadata": {},
   "source": [
    "### Report on the new data"
   ]
  },
  {
   "cell_type": "code",
   "execution_count": 11,
   "metadata": {
    "collapsed": true
   },
   "outputs": [],
   "source": [
    "new_rep = PeriodReport(dt.datetime(2015, 2, 1), \"historic_trial_balances.db\", \n",
    "                       period_ytd_prefix=\"AYTD\")"
   ]
  },
  {
   "cell_type": "code",
   "execution_count": 12,
   "metadata": {
    "collapsed": false
   },
   "outputs": [
    {
     "data": {
      "text/plain": [
       "8430    678.98\n",
       "8433      0.00\n",
       "8435    311.91\n",
       "8440    860.04\n",
       "9999      0.00\n",
       "dtype: object"
      ]
     },
     "execution_count": 12,
     "metadata": {},
     "output_type": "execute_result"
    }
   ],
   "source": [
    "emr.create_one_report(new_rep)\n",
    "new_rep.prior_mtd.to_series().tail()"
   ]
  },
  {
   "cell_type": "markdown",
   "metadata": {},
   "source": [
    "## Create accounts for the year\n",
    "Turn into a function and Iterate for the whole year for 2015."
   ]
  },
  {
   "cell_type": "code",
   "execution_count": 13,
   "metadata": {
    "collapsed": true
   },
   "outputs": [],
   "source": [
    "def get_period_open(dbname, coa, period_string):\n",
    "    # Get data from historic trial balance database and store as TrialBalances\n",
    "    with journal_from_db(dbname, coa, journal_entry_class=TrialBalance) as js:\n",
    "        result = js.get_entry(period_string)  # YTD-FEB-15\n",
    "    result = result.close_period()\n",
    "    return result"
   ]
  },
  {
   "cell_type": "code",
   "execution_count": 14,
   "metadata": {
    "collapsed": true
   },
   "outputs": [],
   "source": [
    "def accounts_for_one_month(dbname, coa, year_open, month_open, start_of_year, start_of_month, end_of_month,\n",
    "                          period):\n",
    "    # Get opening trial balances for each perio\n",
    "    open_year= get_period_open(dbname, coa, year_open)\n",
    "    open_month= get_period_open(dbname, coa, month_open)\n",
    "    ttb_converter = TransactionalTrialBalance(open_year.chart_of_accounts)\n",
    "    with LoadDatabase(dbname) as ld:\n",
    "        ytd_ttb = sage_2015.transactional_trial_balance(start_of_year, end_of_month)\n",
    "        mtd_ttb = sage_2015.transactional_trial_balance(start_of_month, end_of_month)\n",
    "        ytd = open_year + ttb_converter.convert_trial_balance(ytd_ttb)\n",
    "        ld.load_tb_to_database(ytd, 'AYTD-{}'.format(period), overwrite=True)\n",
    "        mtd = open_month + ttb_converter.convert_trial_balance(mtd_ttb)\n",
    "        ld.load_tb_to_database(ytd, 'AMTD-{}'.format(period), overwrite=True)\n",
    "    # TODO the signs of this are wrong it should be negative for 2107 so that in the BS\n",
    "    # it comes out as positive"
   ]
  },
  {
   "cell_type": "markdown",
   "metadata": {},
   "source": [
    "# Fiscal year constants\n",
    "This would be better to calculate but quicker for two instances to just create the data table.  There are also exceptions.  Eg when do we switch from usingfinal versions of accounts to A.  This perhaps could be done programmatically."
   ]
  },
  {
   "cell_type": "code",
   "execution_count": 15,
   "metadata": {
    "collapsed": true
   },
   "outputs": [],
   "source": [
    "data_2015 = (('YTD-JAN-15', 'YTD-JAN-15', dt.date(2015, 2, 1), dt.date(2015, 2, 1), dt.date(2015, 2, 28), 'FEB-15', ''),\n",
    "       ('YTD-JAN-15', 'AYTD-FEB-15', dt.date(2015, 2, 1), dt.date(2015, 3, 1), dt.date(2015, 3, 31), 'MAR-15', ''),\n",
    "       ('YTD-JAN-15', 'AYTD-MAR-15', dt.date(2015, 2, 1), dt.date(2015, 4, 1), dt.date(2015, 4, 30), 'APR-15', ''),\n",
    "       ('YTD-JAN-15', 'AYTD-APR-15', dt.date(2015, 2, 1), dt.date(2015, 5, 1), dt.date(2015, 5, 31), 'MAY-15', ''),\n",
    "       ('YTD-JAN-15', 'AYTD-MAY-15', dt.date(2015, 2, 1), dt.date(2015, 6, 1), dt.date(2015, 6, 30), 'JUN-15', ''),\n",
    "       ('YTD-JAN-15', 'AYTD-JUN-15', dt.date(2015, 2, 1), dt.date(2015, 7, 1), dt.date(2015, 7, 31), 'JUL-15', ''),\n",
    "       ('YTD-JAN-15', 'AYTD-JUL-15', dt.date(2015, 2, 1), dt.date(2015, 8, 1), dt.date(2015, 8, 31), 'AUG-15', ''),\n",
    "       ('YTD-JAN-15', 'AYTD-AUG-15', dt.date(2015, 2, 1), dt.date(2015, 9, 1), dt.date(2015, 9, 30), 'SEP-15', ''),\n",
    "       ('YTD-JAN-15', 'AYTD-SEP-15', dt.date(2015, 2, 1), dt.date(2015, 10, 1), dt.date(2015, 10, 31), 'OCT-15', ''),\n",
    "       ('YTD-JAN-15', 'AYTD-OCT-15', dt.date(2015, 2, 1), dt.date(2015, 11, 1), dt.date(2015, 11, 30), 'NOV-15', ''),\n",
    "       ('YTD-JAN-15', 'AYTD-NOV-15', dt.date(2015, 2, 1), dt.date(2015, 12, 1), dt.date(2015, 12, 31), 'DEC-15', ''),\n",
    "       ('YTD-JAN-15', 'AYTD-DEC-15', dt.date(2015, 2, 1), dt.date(2016, 1, 1), dt.date(2016, 1, 31), 'JAN-16', '')\n",
    "       )"
   ]
  },
  {
   "cell_type": "code",
   "execution_count": 16,
   "metadata": {
    "collapsed": false
   },
   "outputs": [
    {
     "name": "stdout",
     "output_type": "stream",
     "text": [
      "P&L = -45685.49\n",
      "Prev retain = -509969.50, changing to -555654.99\n",
      "New retained profit = -555654.99\n",
      "Sum before clearing old balances = -45685.49\n",
      "Sum after clearing old balances = 0.00\n",
      "P&L = -45685.49\n",
      "Prev retain = -509969.50, changing to -555654.99\n",
      "New retained profit = -555654.99\n",
      "Sum before clearing old balances = -45685.49\n",
      "Sum after clearing old balances = 0.00\n",
      "P&L = -45685.49\n",
      "Prev retain = -509969.50, changing to -555654.99\n",
      "New retained profit = -555654.99\n",
      "Sum before clearing old balances = -45685.49\n",
      "Sum after clearing old balances = 0.00\n",
      "P&L = -12329.19\n",
      "Prev retain = -555654.99, changing to -567984.18\n",
      "New retained profit = -567984.18\n",
      "Sum before clearing old balances = -12329.19\n",
      "Sum after clearing old balances = 0.00\n",
      "P&L = -45685.49\n",
      "Prev retain = -509969.50, changing to -555654.99\n",
      "New retained profit = -555654.99\n",
      "Sum before clearing old balances = -45685.49\n",
      "Sum after clearing old balances = 0.00\n",
      "P&L = 2689.15\n",
      "Prev retain = -555654.99, changing to -552965.84\n",
      "New retained profit = -552965.84\n",
      "Sum before clearing old balances = 2689.15\n",
      "Sum after clearing old balances = 0.00\n",
      "P&L = -45685.49\n",
      "Prev retain = -509969.50, changing to -555654.99\n",
      "New retained profit = -555654.99\n",
      "Sum before clearing old balances = -45685.49\n",
      "Sum after clearing old balances = 0.00\n",
      "P&L = 17327.66\n",
      "Prev retain = -555654.99, changing to -538327.33\n",
      "New retained profit = -538327.33\n",
      "Sum before clearing old balances = 17327.66\n",
      "Sum after clearing old balances = 0.00\n",
      "P&L = -45685.49\n",
      "Prev retain = -509969.50, changing to -555654.99\n",
      "New retained profit = -555654.99\n",
      "Sum before clearing old balances = -45685.49\n",
      "Sum after clearing old balances = 0.00\n",
      "P&L = 25291.98\n",
      "Prev retain = -555654.99, changing to -530363.01\n",
      "New retained profit = -530363.01\n",
      "Sum before clearing old balances = 25291.98\n",
      "Sum after clearing old balances = 0.00\n",
      "P&L = -45685.49\n",
      "Prev retain = -509969.50, changing to -555654.99\n",
      "New retained profit = -555654.99\n",
      "Sum before clearing old balances = -45685.49\n",
      "Sum after clearing old balances = 0.00\n",
      "P&L = 25970.46\n",
      "Prev retain = -555654.99, changing to -529684.53\n",
      "New retained profit = -529684.53\n",
      "Sum before clearing old balances = 25970.46\n",
      "Sum after clearing old balances = 0.00\n",
      "P&L = -45685.49\n",
      "Prev retain = -509969.50, changing to -555654.99\n",
      "New retained profit = -555654.99\n",
      "Sum before clearing old balances = -45685.49\n",
      "Sum after clearing old balances = 0.00\n",
      "P&L = 18372.95\n",
      "Prev retain = -555654.99, changing to -537282.04\n",
      "New retained profit = -537282.04\n",
      "Sum before clearing old balances = 18372.95\n",
      "Sum after clearing old balances = 0.00\n",
      "P&L = -45685.49\n",
      "Prev retain = -509969.50, changing to -555654.99\n",
      "New retained profit = -555654.99\n",
      "Sum before clearing old balances = -45685.49\n",
      "Sum after clearing old balances = 0.00\n",
      "P&L = 6032.81\n",
      "Prev retain = -555654.99, changing to -549622.18\n",
      "New retained profit = -549622.18\n",
      "Sum before clearing old balances = 6032.81\n",
      "Sum after clearing old balances = 0.00\n",
      "P&L = -45685.49\n",
      "Prev retain = -509969.50, changing to -555654.99\n",
      "New retained profit = -555654.99\n",
      "Sum before clearing old balances = -45685.49\n",
      "Sum after clearing old balances = 0.00\n",
      "P&L = 10686.36\n",
      "Prev retain = -555654.99, changing to -544968.63\n",
      "New retained profit = -544968.63\n",
      "Sum before clearing old balances = 10686.36\n",
      "Sum after clearing old balances = 0.00\n",
      "P&L = -45685.49\n",
      "Prev retain = -509969.50, changing to -555654.99\n",
      "New retained profit = -555654.99\n",
      "Sum before clearing old balances = -45685.49\n",
      "Sum after clearing old balances = 0.00\n",
      "P&L = 29018.60\n",
      "Prev retain = -555654.99, changing to -526636.39\n",
      "New retained profit = -526636.39\n",
      "Sum before clearing old balances = 29018.60\n",
      "Sum after clearing old balances = 0.00\n",
      "P&L = -45685.49\n",
      "Prev retain = -509969.50, changing to -555654.99\n",
      "New retained profit = -555654.99\n",
      "Sum before clearing old balances = -45685.49\n",
      "Sum after clearing old balances = 0.00\n",
      "P&L = 13570.35\n",
      "Prev retain = -555654.99, changing to -542084.64\n",
      "New retained profit = -542084.64\n",
      "Sum before clearing old balances = 13570.35\n",
      "Sum after clearing old balances = 0.00\n",
      "P&L = -45685.49\n",
      "Prev retain = -509969.50, changing to -555654.99\n",
      "New retained profit = -555654.99\n",
      "Sum before clearing old balances = -45685.49\n",
      "Sum after clearing old balances = 0.00\n",
      "P&L = 20538.65\n",
      "Prev retain = -555654.99, changing to -535116.34\n",
      "New retained profit = -535116.34\n",
      "Sum before clearing old balances = 20538.65\n",
      "Sum after clearing old balances = 0.00\n"
     ]
    }
   ],
   "source": [
    "dbname='historic_trial_balances.db'\n",
    "with chart_of_accounts_from_db(dbname) as coa_s:\n",
    "    coa = coa_s.get_chart_of_account('SLF-MA')\n",
    "for year_open, month_open, start_of_year, start_of_month, end_of_month, period, prefix in data_2015:\n",
    "    accounts_for_one_month(dbname, coa, year_open, month_open, start_of_year, start_of_month, end_of_month, period)"
   ]
  },
  {
   "cell_type": "markdown",
   "metadata": {},
   "source": [
    "## Print all reports for 2015"
   ]
  },
  {
   "cell_type": "code",
   "execution_count": 17,
   "metadata": {
    "collapsed": false
   },
   "outputs": [],
   "source": [
    "try:\n",
    "    emr.open()\n",
    "    for year_open, month_open, start_of_year, start_of_month, end_of_month, period, prior_prefix in data_2015:\n",
    "        new_rep = PeriodReport(end_of_month, dbname,\n",
    "                               period_ytd_prefix=\"AYTD\",\n",
    "                               period_mtd_prefix=\"AMTD\",\n",
    "                               prior_ytd_prefix=\"{}YTD\".format(prior_prefix),\n",
    "                               prior_mtd_prefix=\"{}MTD\".format(prior_prefix)\n",
    "                              )\n",
    "        emr.add_sheet_pnl(new_rep)\n",
    "        emr.add_sheet_bs(new_rep)\n",
    "finally:\n",
    "    emr.close()"
   ]
  },
  {
   "cell_type": "markdown",
   "metadata": {},
   "source": [
    "## Using Jan 16 accounts generate accounts for 2016-2017\n",
    "This can be redone once we have finalised the Jan 16 accounts"
   ]
  },
  {
   "cell_type": "code",
   "execution_count": 18,
   "metadata": {
    "collapsed": false
   },
   "outputs": [],
   "source": [
    "data_2016 = (('AYTD-JAN-16', 'AYTD-JAN-16', dt.date(2016, 2, 1), dt.date(2016, 2, 1), dt.date(2016, 2, 29), 'FEB-16', ''),\n",
    "       ('AYTD-JAN-16', 'AYTD-FEB-16', dt.date(2016, 2, 1), dt.date(2016, 3, 1), dt.date(2016, 3, 31), 'MAR-16', ''),\n",
    "       ('AYTD-JAN-16', 'AYTD-MAR-16', dt.date(2016, 2, 1), dt.date(2016, 4, 1), dt.date(2016, 4, 30), 'APR-16', ''),\n",
    "       ('AYTD-JAN-16', 'AYTD-APR-16', dt.date(2016, 2, 1), dt.date(2016, 5, 1), dt.date(2016, 5, 31), 'MAY-16', ''),\n",
    "       ('AYTD-JAN-16', 'AYTD-MAY-16', dt.date(2016, 2, 1), dt.date(2016, 6, 1), dt.date(2016, 6, 30), 'JUN-16', ''),\n",
    "       ('AYTD-JAN-16', 'AYTD-JUN-16', dt.date(2016, 2, 1), dt.date(2016, 7, 1), dt.date(2016, 7, 31), 'JUL-16', ''),\n",
    "       ('AYTD-JAN-16', 'AYTD-JUL-16', dt.date(2016, 2, 1), dt.date(2016, 8, 1), dt.date(2016, 8, 31), 'AUG-16', ''),\n",
    "       ('AYTD-JAN-16', 'AYTD-AUG-16', dt.date(2016, 2, 1), dt.date(2016, 9, 1), dt.date(2016, 9, 30), 'SEP-16', ''),\n",
    "       ('AYTD-JAN-16', 'AYTD-SEP-16', dt.date(2016, 2, 1), dt.date(2016, 10, 1), dt.date(2016, 10, 31), 'OCT-16', ''),\n",
    "       ('AYTD-JAN-16', 'AYTD-OCT-16', dt.date(2016, 2, 1), dt.date(2016, 11, 1), dt.date(2016, 11, 30), 'NOV-16', ''),\n",
    "       ('AYTD-JAN-16', 'AYTD-NOV-16', dt.date(2016, 2, 1), dt.date(2016, 12, 1), dt.date(2016, 12, 31), 'DEC-16', ''),\n",
    "       ('AYTD-JAN-16', 'AYTD-DEC-16', dt.date(2016, 2, 1), dt.date(2017, 1, 1), dt.date(2017, 1, 31), 'JAN-17', '')\n",
    "       )"
   ]
  },
  {
   "cell_type": "code",
   "execution_count": 19,
   "metadata": {
    "collapsed": false
   },
   "outputs": [
    {
     "name": "stdout",
     "output_type": "stream",
     "text": [
      "P&L = 9085.73\n",
      "Prev retain = -555654.99, changing to -546569.26\n",
      "New retained profit = -546569.26\n",
      "Sum before clearing old balances = 9085.73\n",
      "Sum after clearing old balances = 0.00\n",
      "P&L = 9085.73\n",
      "Prev retain = -555654.99, changing to -546569.26\n",
      "New retained profit = -546569.26\n",
      "Sum before clearing old balances = 9085.73\n",
      "Sum after clearing old balances = 0.00\n",
      "P&L = 9085.73\n",
      "Prev retain = -555654.99, changing to -546569.26\n",
      "New retained profit = -546569.26\n",
      "Sum before clearing old balances = 9085.73\n",
      "Sum after clearing old balances = 0.00\n",
      "P&L = 20078.30\n",
      "Prev retain = -546569.26, changing to -526490.96\n",
      "New retained profit = -526490.96\n",
      "Sum before clearing old balances = 20078.30\n",
      "Sum after clearing old balances = 0.00\n",
      "P&L = 9085.73\n",
      "Prev retain = -555654.99, changing to -546569.26\n",
      "New retained profit = -546569.26\n",
      "Sum before clearing old balances = 9085.73\n",
      "Sum after clearing old balances = 0.00\n",
      "P&L = -46207.32\n",
      "Prev retain = -546569.26, changing to -592776.58\n",
      "New retained profit = -592776.58\n",
      "Sum before clearing old balances = -46207.32\n",
      "Sum after clearing old balances = 0.00\n",
      "P&L = 9085.73\n",
      "Prev retain = -555654.99, changing to -546569.26\n",
      "New retained profit = -546569.26\n",
      "Sum before clearing old balances = 9085.73\n",
      "Sum after clearing old balances = 0.00\n",
      "P&L = -65536.37\n",
      "Prev retain = -546569.26, changing to -612105.63\n",
      "New retained profit = -612105.63\n",
      "Sum before clearing old balances = -65536.37\n",
      "Sum after clearing old balances = 0.00\n",
      "P&L = 9085.73\n",
      "Prev retain = -555654.99, changing to -546569.26\n",
      "New retained profit = -546569.26\n",
      "Sum before clearing old balances = 9085.73\n",
      "Sum after clearing old balances = 0.00\n",
      "P&L = -65536.37\n",
      "Prev retain = -546569.26, changing to -612105.63\n",
      "New retained profit = -612105.63\n",
      "Sum before clearing old balances = -65536.37\n",
      "Sum after clearing old balances = 0.00\n",
      "P&L = 9085.73\n",
      "Prev retain = -555654.99, changing to -546569.26\n",
      "New retained profit = -546569.26\n",
      "Sum before clearing old balances = 9085.73\n",
      "Sum after clearing old balances = 0.00\n",
      "P&L = -65536.37\n",
      "Prev retain = -546569.26, changing to -612105.63\n",
      "New retained profit = -612105.63\n",
      "Sum before clearing old balances = -65536.37\n",
      "Sum after clearing old balances = 0.00\n",
      "P&L = 9085.73\n",
      "Prev retain = -555654.99, changing to -546569.26\n",
      "New retained profit = -546569.26\n",
      "Sum before clearing old balances = 9085.73\n",
      "Sum after clearing old balances = 0.00\n",
      "P&L = -65536.37\n",
      "Prev retain = -546569.26, changing to -612105.63\n",
      "New retained profit = -612105.63\n",
      "Sum before clearing old balances = -65536.37\n",
      "Sum after clearing old balances = 0.00\n",
      "P&L = 9085.73\n",
      "Prev retain = -555654.99, changing to -546569.26\n",
      "New retained profit = -546569.26\n",
      "Sum before clearing old balances = 9085.73\n",
      "Sum after clearing old balances = 0.00\n",
      "P&L = -65536.37\n",
      "Prev retain = -546569.26, changing to -612105.63\n",
      "New retained profit = -612105.63\n",
      "Sum before clearing old balances = -65536.37\n",
      "Sum after clearing old balances = 0.00\n",
      "P&L = 9085.73\n",
      "Prev retain = -555654.99, changing to -546569.26\n",
      "New retained profit = -546569.26\n",
      "Sum before clearing old balances = 9085.73\n",
      "Sum after clearing old balances = 0.00\n",
      "P&L = -65536.37\n",
      "Prev retain = -546569.26, changing to -612105.63\n",
      "New retained profit = -612105.63\n",
      "Sum before clearing old balances = -65536.37\n",
      "Sum after clearing old balances = 0.00\n",
      "P&L = 9085.73\n",
      "Prev retain = -555654.99, changing to -546569.26\n",
      "New retained profit = -546569.26\n",
      "Sum before clearing old balances = 9085.73\n",
      "Sum after clearing old balances = 0.00\n",
      "P&L = -65536.37\n",
      "Prev retain = -546569.26, changing to -612105.63\n",
      "New retained profit = -612105.63\n",
      "Sum before clearing old balances = -65536.37\n",
      "Sum after clearing old balances = 0.00\n",
      "P&L = 9085.73\n",
      "Prev retain = -555654.99, changing to -546569.26\n",
      "New retained profit = -546569.26\n",
      "Sum before clearing old balances = 9085.73\n",
      "Sum after clearing old balances = 0.00\n",
      "P&L = -65536.37\n",
      "Prev retain = -546569.26, changing to -612105.63\n",
      "New retained profit = -612105.63\n",
      "Sum before clearing old balances = -65536.37\n",
      "Sum after clearing old balances = 0.00\n",
      "P&L = 9085.73\n",
      "Prev retain = -555654.99, changing to -546569.26\n",
      "New retained profit = -546569.26\n",
      "Sum before clearing old balances = 9085.73\n",
      "Sum after clearing old balances = 0.00\n",
      "P&L = -65536.37\n",
      "Prev retain = -546569.26, changing to -612105.63\n",
      "New retained profit = -612105.63\n",
      "Sum before clearing old balances = -65536.37\n",
      "Sum after clearing old balances = 0.00\n"
     ]
    }
   ],
   "source": [
    "with chart_of_accounts_from_db(dbname) as coa_s:\n",
    "    coa = coa_s.get_chart_of_account('SLF-MA')\n",
    "for year_open, month_open, start_of_year, start_of_month, end_of_month, period, prefix in data_2016:\n",
    "    accounts_for_one_month(dbname, coa, year_open, month_open, start_of_year, start_of_month, end_of_month, period)"
   ]
  },
  {
   "cell_type": "code",
   "execution_count": 20,
   "metadata": {
    "collapsed": false
   },
   "outputs": [
    {
     "ename": "LucaError",
     "evalue": "Getting Journal Entries from db historic_trial_balances.db for period MTD-MAY-15 but no data",
     "output_type": "error",
     "traceback": [
      "\u001b[1;31m---------------------------------------------------------------------------\u001b[0m",
      "\u001b[1;31mLucaError\u001b[0m                                 Traceback (most recent call last)",
      "\u001b[1;32m<ipython-input-20-8a052230eb94>\u001b[0m in \u001b[0;36m<module>\u001b[1;34m()\u001b[0m\n\u001b[0;32m      6\u001b[0m                                \u001b[0mperiod_mtd_prefix\u001b[0m\u001b[1;33m=\u001b[0m\u001b[1;34m\"AMTD\"\u001b[0m\u001b[1;33m,\u001b[0m\u001b[1;33m\u001b[0m\u001b[0m\n\u001b[0;32m      7\u001b[0m                                \u001b[0mprior_ytd_prefix\u001b[0m\u001b[1;33m=\u001b[0m\u001b[1;34m\"{}YTD\"\u001b[0m\u001b[1;33m.\u001b[0m\u001b[0mformat\u001b[0m\u001b[1;33m(\u001b[0m\u001b[0mprior_prefix\u001b[0m\u001b[1;33m)\u001b[0m\u001b[1;33m,\u001b[0m\u001b[1;33m\u001b[0m\u001b[0m\n\u001b[1;32m----> 8\u001b[1;33m                                \u001b[0mprior_mtd_prefix\u001b[0m\u001b[1;33m=\u001b[0m\u001b[1;34m\"{}MTD\"\u001b[0m\u001b[1;33m.\u001b[0m\u001b[0mformat\u001b[0m\u001b[1;33m(\u001b[0m\u001b[0mprior_prefix\u001b[0m\u001b[1;33m)\u001b[0m\u001b[1;33m\u001b[0m\u001b[0m\n\u001b[0m\u001b[0;32m      9\u001b[0m                               )\n\u001b[0;32m     10\u001b[0m         \u001b[0memr\u001b[0m\u001b[1;33m.\u001b[0m\u001b[0madd_sheet_pnl\u001b[0m\u001b[1;33m(\u001b[0m\u001b[0mnew_rep\u001b[0m\u001b[1;33m)\u001b[0m\u001b[1;33m\u001b[0m\u001b[0m\n",
      "\u001b[1;32mC:\\Users\\hum3\\majorprojects\\luca\\luca\\period_report.py\u001b[0m in \u001b[0;36m__init__\u001b[1;34m(self, period, dbname, period_mtd_prefix, period_ytd_prefix, prior_mtd_prefix, prior_ytd_prefix)\u001b[0m\n\u001b[0;32m     42\u001b[0m             \u001b[0mself\u001b[0m\u001b[1;33m.\u001b[0m\u001b[0mperiod_ytd\u001b[0m \u001b[1;33m=\u001b[0m \u001b[0mjs\u001b[0m\u001b[1;33m.\u001b[0m\u001b[0mget_entry\u001b[0m\u001b[1;33m(\u001b[0m\u001b[1;34m'{}-{}'\u001b[0m\u001b[1;33m.\u001b[0m\u001b[0mformat\u001b[0m\u001b[1;33m(\u001b[0m\u001b[0mperiod_ytd_prefix\u001b[0m\u001b[1;33m,\u001b[0m \u001b[0mperiod_string\u001b[0m\u001b[1;33m)\u001b[0m\u001b[1;33m)\u001b[0m  \u001b[1;31m# YTD-FEB-15\u001b[0m\u001b[1;33m\u001b[0m\u001b[0m\n\u001b[0;32m     43\u001b[0m             \u001b[0mprior_period_string\u001b[0m \u001b[1;33m=\u001b[0m \u001b[0mself\u001b[0m\u001b[1;33m.\u001b[0m\u001b[0mprev_period\u001b[0m\u001b[1;33m.\u001b[0m\u001b[0mstrftime\u001b[0m\u001b[1;33m(\u001b[0m\u001b[1;34m'%b-%y'\u001b[0m\u001b[1;33m)\u001b[0m\u001b[1;33m.\u001b[0m\u001b[0mupper\u001b[0m\u001b[1;33m(\u001b[0m\u001b[1;33m)\u001b[0m\u001b[1;33m\u001b[0m\u001b[0m\n\u001b[1;32m---> 44\u001b[1;33m             \u001b[0mself\u001b[0m\u001b[1;33m.\u001b[0m\u001b[0mprior_mtd\u001b[0m \u001b[1;33m=\u001b[0m \u001b[0mjs\u001b[0m\u001b[1;33m.\u001b[0m\u001b[0mget_entry\u001b[0m\u001b[1;33m(\u001b[0m\u001b[1;34m'{}-{}'\u001b[0m\u001b[1;33m.\u001b[0m\u001b[0mformat\u001b[0m\u001b[1;33m(\u001b[0m\u001b[0mprior_mtd_prefix\u001b[0m\u001b[1;33m,\u001b[0m \u001b[0mprior_period_string\u001b[0m\u001b[1;33m)\u001b[0m\u001b[1;33m)\u001b[0m  \u001b[1;31m# MTD-FEB-14\u001b[0m\u001b[1;33m\u001b[0m\u001b[0m\n\u001b[0m\u001b[0;32m     45\u001b[0m             \u001b[0mself\u001b[0m\u001b[1;33m.\u001b[0m\u001b[0mprior_ytd\u001b[0m \u001b[1;33m=\u001b[0m \u001b[0mjs\u001b[0m\u001b[1;33m.\u001b[0m\u001b[0mget_entry\u001b[0m\u001b[1;33m(\u001b[0m\u001b[1;34m'{}-{}'\u001b[0m\u001b[1;33m.\u001b[0m\u001b[0mformat\u001b[0m\u001b[1;33m(\u001b[0m\u001b[0mprior_ytd_prefix\u001b[0m\u001b[1;33m,\u001b[0m \u001b[0mprior_period_string\u001b[0m\u001b[1;33m)\u001b[0m\u001b[1;33m)\u001b[0m  \u001b[1;31m# YTD-FEB-14\u001b[0m\u001b[1;33m\u001b[0m\u001b[0m\n\u001b[0;32m     46\u001b[0m         \u001b[0mself\u001b[0m\u001b[1;33m.\u001b[0m\u001b[0mchanged_data\u001b[0m\u001b[1;33m(\u001b[0m\u001b[1;33m)\u001b[0m\u001b[1;33m\u001b[0m\u001b[0m\n",
      "\u001b[1;32mC:\\Users\\hum3\\majorprojects\\luca\\luca\\journal_sqlite.py\u001b[0m in \u001b[0;36mget_entry\u001b[1;34m(self, period)\u001b[0m\n\u001b[0;32m     30\u001b[0m             \u001b[1;32mreturn\u001b[0m \u001b[0mje\u001b[0m\u001b[1;33m\u001b[0m\u001b[0m\n\u001b[0;32m     31\u001b[0m         \u001b[1;32melse\u001b[0m\u001b[1;33m:\u001b[0m  \u001b[1;31m# Prevents error of getting nothing back because you have got the period name wrong\u001b[0m\u001b[1;33m\u001b[0m\u001b[0m\n\u001b[1;32m---> 32\u001b[1;33m             \u001b[1;32mraise\u001b[0m \u001b[0mLucaError\u001b[0m\u001b[1;33m(\u001b[0m\u001b[1;34m'Getting Journal Entries from db {} for period {} but no data'\u001b[0m\u001b[1;33m.\u001b[0m\u001b[0mformat\u001b[0m\u001b[1;33m(\u001b[0m\u001b[0mself\u001b[0m\u001b[1;33m.\u001b[0m\u001b[0mdbname\u001b[0m\u001b[1;33m,\u001b[0m \u001b[0mperiod\u001b[0m\u001b[1;33m)\u001b[0m\u001b[1;33m)\u001b[0m\u001b[1;33m\u001b[0m\u001b[0m\n\u001b[0m\u001b[0;32m     33\u001b[0m \u001b[1;33m\u001b[0m\u001b[0m\n\u001b[0;32m     34\u001b[0m \u001b[1;33m\u001b[0m\u001b[0m\n",
      "\u001b[1;31mLucaError\u001b[0m: Getting Journal Entries from db historic_trial_balances.db for period MTD-MAY-15 but no data"
     ]
    }
   ],
   "source": [
    "try:\n",
    "    emr.open()\n",
    "    for year_open, month_open, start_of_year, start_of_month, end_of_month, period, prior_prefix in data_2016:\n",
    "        new_rep = PeriodReport(end_of_month, dbname,\n",
    "                               period_ytd_prefix=\"AYTD\",\n",
    "                               period_mtd_prefix=\"AMTD\",\n",
    "                               prior_ytd_prefix=\"{}YTD\".format(prior_prefix),\n",
    "                               prior_mtd_prefix=\"{}MTD\".format(prior_prefix)\n",
    "                              )\n",
    "        emr.add_sheet_pnl(new_rep)\n",
    "        emr.add_sheet_bs(new_rep)\n",
    "finally:\n",
    "    emr.close()"
   ]
  },
  {
   "cell_type": "markdown",
   "metadata": {
    "collapsed": true
   },
   "source": [
    "# Playpit\n"
   ]
  },
  {
   "cell_type": "code",
   "execution_count": null,
   "metadata": {
    "collapsed": false
   },
   "outputs": [],
   "source": [
    "new_rep.period_ytd['TB']"
   ]
  },
  {
   "cell_type": "code",
   "execution_count": null,
   "metadata": {
    "collapsed": true
   },
   "outputs": [],
   "source": []
  }
 ],
 "metadata": {
  "kernelspec": {
   "display_name": "Python 3",
   "language": "python",
   "name": "python3"
  },
  "language_info": {
   "codemirror_mode": {
    "name": "ipython",
    "version": 3
   },
   "file_extension": ".py",
   "mimetype": "text/x-python",
   "name": "python",
   "nbconvert_exporter": "python",
   "pygments_lexer": "ipython3",
   "version": "3.5.1"
  }
 },
 "nbformat": 4,
 "nbformat_minor": 0
}
