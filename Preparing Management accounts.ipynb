{
 "cells": [
  {
   "cell_type": "markdown",
   "metadata": {},
   "source": [
    "# Preparing Management Accounts\n",
    "Starting with a YTD TTB you need to add the begining of the year trial balance.    \n",
    "\n",
    "Note that during year during the first months we will not have the accountants adjustments and at some point we will.  At that point there will be a discontinuity in the accounting record.   \n",
    "\n",
    "If you are preparing part way through the year then you may take a mid year point as the starting point for the preperation of the accounts.  This happend in 2014-2015 and September 2015 was used as a starting point or the subsequent months of the year.\n",
    "\n",
    "In the first instance this starting point would be the January of the preceding financial year.\n"
   ]
  },
  {
   "cell_type": "markdown",
   "metadata": {},
   "source": [
    "## Get the Jan 15 accounts"
   ]
  },
  {
   "cell_type": "code",
   "execution_count": 1,
   "metadata": {
    "collapsed": true
   },
   "outputs": [],
   "source": [
    "import datetime as dt\n",
    "import math\n",
    "import pandas as pd\n",
    "import pickle\n",
    "import sqlite3\n",
    "\n",
    "from luca import SageData, TransactionalTrialBalance, p, PeriodReport, ExcelManagementReport"
   ]
  },
  {
   "cell_type": "code",
   "execution_count": 2,
   "metadata": {
    "collapsed": false
   },
   "outputs": [],
   "source": [
    "rep = PeriodReport(dt.datetime(2015, 1, 1), \"historic_trial_balances.db\")"
   ]
  },
  {
   "cell_type": "code",
   "execution_count": 3,
   "metadata": {
    "collapsed": false
   },
   "outputs": [
    {
     "data": {
      "text/plain": [
       "10        9926.00\n",
       "1001    362381.70\n",
       "1100    303456.80\n",
       "1102         0.00\n",
       "1103    -30274.58\n",
       "dtype: object"
      ]
     },
     "execution_count": 3,
     "metadata": {},
     "output_type": "execute_result"
    }
   ],
   "source": [
    "emr = ExcelManagementReport()\n",
    "emr.create_one_report(rep)\n",
    "rep.period_ytd.to_series().head()"
   ]
  },
  {
   "cell_type": "code",
   "execution_count": 4,
   "metadata": {
    "collapsed": false
   },
   "outputs": [
    {
     "name": "stdout",
     "output_type": "stream",
     "text": [
      "Sum for period_mtd = -75044.01\n",
      "Sum for period_ytd = 0.00\n",
      "Sum for prior_mtd = -107345.59\n",
      "Sum for prior_ytd = 0.00\n"
     ]
    }
   ],
   "source": [
    "for attr in ('period_mtd', 'period_ytd', 'prior_mtd', 'prior_ytd'):\n",
    "    print('Sum for {} = {}'.format(attr, getattr(rep, attr).sum()))"
   ]
  },
  {
   "cell_type": "markdown",
   "metadata": {
    "collapsed": true
   },
   "source": [
    "## Convert YTD for prior year to start of year\n",
    "We need to close out the year by clearning the P&L and adding to the retained profit for the year.  (Note this doesn't have the accountants changes which we will need for Jan 16).   \n",
    "rep.period_ytd  --> to year_start.   \n",
    "Sum > 3000 and add to retained profit 2125\n",
    "Clear all > 3000"
   ]
  },
  {
   "cell_type": "code",
   "execution_count": 5,
   "metadata": {
    "collapsed": false
   },
   "outputs": [
    {
     "name": "stdout",
     "output_type": "stream",
     "text": [
      "P&L = -45685.49\n",
      "Prev retain = -509969.50, changing to -555654.99\n",
      "New retained profit = -555654.99\n",
      "Sum before clearing old balances = -45685.49\n",
      "Sum after clearing old balances = 0.00\n"
     ]
    },
    {
     "data": {
      "text/plain": [
       "10        9926.00\n",
       "1001    362381.70\n",
       "1100    303456.80\n",
       "1102         0.00\n",
       "1103    -30274.58\n",
       "dtype: object"
      ]
     },
     "execution_count": 5,
     "metadata": {},
     "output_type": "execute_result"
    }
   ],
   "source": [
    "start_year=rep.period_ytd.close_period()\n",
    "start_year.to_series().head()"
   ]
  },
  {
   "cell_type": "markdown",
   "metadata": {
    "collapsed": true
   },
   "source": [
    "## Add start of year to TTB\n",
    "In order to create the accounts for the YTD we need to add the TTB for the YTD to the year start.   \n",
    "This should be a generalised TB add."
   ]
  },
  {
   "cell_type": "code",
   "execution_count": 6,
   "metadata": {
    "collapsed": false
   },
   "outputs": [],
   "source": [
    "sage_2015 = pickle.load(open('sage2015.pickle', 'rb'))"
   ]
  },
  {
   "cell_type": "code",
   "execution_count": 7,
   "metadata": {
    "collapsed": false
   },
   "outputs": [
    {
     "name": "stdout",
     "output_type": "stream",
     "text": [
      "Sum ttb 0.00\n"
     ]
    },
    {
     "data": {
      "text/plain": [
       "1001     25646.21\n",
       "1100     60958.94\n",
       "1120       468.84\n",
       "1200    -70576.88\n",
       "1205         0.00\n",
       "dtype: object"
      ]
     },
     "execution_count": 7,
     "metadata": {},
     "output_type": "execute_result"
    }
   ],
   "source": [
    "ttb = sage_2015.transactional_trial_balance(dt.date(2015, 2, 1), dt.date(2015, 2, 28))\n",
    "print('Sum ttb {}'.format(ttb.sum()))\n",
    "ttb.to_series().head()"
   ]
  },
  {
   "cell_type": "code",
   "execution_count": 8,
   "metadata": {
    "collapsed": false
   },
   "outputs": [
    {
     "data": {
      "text/plain": [
       "[5000,\n",
       " 1260,\n",
       " 8204,\n",
       " 9998,\n",
       " 1240,\n",
       " 1262,\n",
       " 2200,\n",
       " 2201,\n",
       " 2204,\n",
       " 7200,\n",
       " 7202,\n",
       " 2211,\n",
       " 7204,\n",
       " 7206,\n",
       " 4905,\n",
       " 2220,\n",
       " 1200,\n",
       " 8200,\n",
       " 2100,\n",
       " 1205,\n",
       " 6200,\n",
       " 6201,\n",
       " 1210,\n",
       " 7100,\n",
       " 2109,\n",
       " 7102,\n",
       " 7103,\n",
       " 7105,\n",
       " 4000,\n",
       " 1100,\n",
       " 2210,\n",
       " 1230,\n",
       " 7503,\n",
       " 1232,\n",
       " 8402,\n",
       " 6100,\n",
       " 8405,\n",
       " 7000,\n",
       " 1252,\n",
       " 8410,\n",
       " 8408,\n",
       " 8414,\n",
       " 1120,\n",
       " 8400,\n",
       " 1250,\n",
       " 8420,\n",
       " 8421,\n",
       " 1254,\n",
       " 1256,\n",
       " 1001,\n",
       " 8426,\n",
       " 8300,\n",
       " 8430,\n",
       " 8424,\n",
       " 8435,\n",
       " 4009,\n",
       " 8440,\n",
       " 7906]"
      ]
     },
     "execution_count": 8,
     "metadata": {},
     "output_type": "execute_result"
    }
   ],
   "source": [
    "list(ttb.chart_of_accounts.dict.keys())"
   ]
  },
  {
   "cell_type": "code",
   "execution_count": 9,
   "metadata": {
    "collapsed": false
   },
   "outputs": [
    {
     "ename": "AssertionError",
     "evalue": "Chart of accounts must be the same SLF-MA, Sage",
     "output_type": "error",
     "traceback": [
      "\u001b[1;31m---------------------------------------------------------------------------\u001b[0m",
      "\u001b[1;31mAssertionError\u001b[0m                            Traceback (most recent call last)",
      "\u001b[1;32m<ipython-input-9-5802fd7bb175>\u001b[0m in \u001b[0;36m<module>\u001b[1;34m()\u001b[0m\n\u001b[1;32m----> 1\u001b[1;33m \u001b[0mytd\u001b[0m \u001b[1;33m=\u001b[0m \u001b[0mstart_year\u001b[0m \u001b[1;33m+\u001b[0m \u001b[0mttb\u001b[0m\u001b[1;33m\u001b[0m\u001b[0m\n\u001b[0m",
      "\u001b[1;32mC:\\Users\\Humphrey\\Major Projects\\luca\\luca\\journal_entry.py\u001b[0m in \u001b[0;36m__add__\u001b[1;34m(self, b)\u001b[0m\n\u001b[0;32m     90\u001b[0m \u001b[1;33m\u001b[0m\u001b[0m\n\u001b[0;32m     91\u001b[0m         \u001b[1;32massert\u001b[0m \u001b[0mself\u001b[0m\u001b[1;33m.\u001b[0m\u001b[0mchart_of_accounts\u001b[0m\u001b[1;33m.\u001b[0m\u001b[0mname\u001b[0m \u001b[1;33m==\u001b[0m \u001b[0mb\u001b[0m\u001b[1;33m.\u001b[0m\u001b[0mchart_of_accounts\u001b[0m\u001b[1;33m.\u001b[0m\u001b[0mname\u001b[0m\u001b[1;33m,\u001b[0m \u001b[1;34m'Chart of accounts must be the same {}, {}'\u001b[0m\u001b[1;33m.\u001b[0m\u001b[0;31m\\\u001b[0m\u001b[1;33m\u001b[0m\u001b[0m\n\u001b[1;32m---> 92\u001b[1;33m             \u001b[0mformat\u001b[0m\u001b[1;33m(\u001b[0m\u001b[0mself\u001b[0m\u001b[1;33m.\u001b[0m\u001b[0mchart_of_accounts\u001b[0m\u001b[1;33m.\u001b[0m\u001b[0mname\u001b[0m\u001b[1;33m,\u001b[0m \u001b[0mb\u001b[0m\u001b[1;33m.\u001b[0m\u001b[0mchart_of_accounts\u001b[0m\u001b[1;33m.\u001b[0m\u001b[0mname\u001b[0m\u001b[1;33m)\u001b[0m\u001b[1;33m\u001b[0m\u001b[0m\n\u001b[0m\u001b[0;32m     93\u001b[0m         \u001b[1;31m# TODO should really check that chart of accounts is correct\u001b[0m\u001b[1;33m\u001b[0m\u001b[1;33m\u001b[0m\u001b[0m\n\u001b[0;32m     94\u001b[0m         \u001b[1;31m# Create union of nominal codes\u001b[0m\u001b[1;33m\u001b[0m\u001b[1;33m\u001b[0m\u001b[0m\n",
      "\u001b[1;31mAssertionError\u001b[0m: Chart of accounts must be the same SLF-MA, Sage"
     ]
    }
   ],
   "source": [
    "ytd = start_year + ttb"
   ]
  },
  {
   "cell_type": "code",
   "execution_count": null,
   "metadata": {
    "collapsed": true
   },
   "outputs": [],
   "source": []
  },
  {
   "cell_type": "code",
   "execution_count": null,
   "metadata": {
    "collapsed": true
   },
   "outputs": [],
   "source": []
  },
  {
   "cell_type": "code",
   "execution_count": null,
   "metadata": {
    "collapsed": false
   },
   "outputs": [],
   "source": [
    "r = 0\n",
    "\n",
    "rep_month = PeriodReport(dt.datetime(2015, 1, 1), \"historic_trial_balances.db\")\n",
    "\n",
    "ytd = add_tb(start_year, ttb)\n",
    "print('Sum of new YTD = {}'.format(ytd['TB'].sum()))  # Has year start and YTD added together\n",
    "ytd.head()"
   ]
  },
  {
   "cell_type": "code",
   "execution_count": null,
   "metadata": {
    "collapsed": false
   },
   "outputs": [],
   "source": [
    "ytd.ix[[2107, 2210, 2211]]"
   ]
  },
  {
   "cell_type": "markdown",
   "metadata": {
    "collapsed": true
   },
   "source": [
    "# Create account for the month\n",
    "Having created YTD and MTD then upload into the database under temporary notation\n",
    "Then load a report with the correct data and run the report."
   ]
  },
  {
   "cell_type": "code",
   "execution_count": null,
   "metadata": {
    "collapsed": false
   },
   "outputs": [],
   "source": [
    "class LoadDatabaseError(Exception):\n",
    "    pass\n",
    "\n",
    "class LoadDatabase():\n",
    "    \"\"\"Does not have the ability to create a database or chart of acconts if they don't exist.\"\"\"\n",
    "    \n",
    "    def __init__(self, dbname):\n",
    "        self.conn = sqlite3.connect(dbname)\n",
    "        self.cursor = self.conn.cursor()\n",
    "        \n",
    "    def __enter__(self):\n",
    "        return self\n",
    "\n",
    "    def __exit__(self, exc_type, exc_value, traceback):\n",
    "        self.commit()\n",
    "        self.close()\n",
    " \n",
    "    def commit(self):\n",
    "        self.conn.commit()\n",
    "\n",
    "    def close(self):\n",
    "        self.conn.close()\n",
    " \n",
    "    def empty(self, period):\n",
    "        \"\"\"Check if no data for Balance sheet period is in database\"\"\"\n",
    "        count=self.cursor.execute(\"SELECT COUNT(*) FROM trial_balance WHERE period='{}' and code < 4000\".\n",
    "                                  format(period)).fetchone()[0]\n",
    "        return count==0\n",
    "\n",
    "    def get_coa(self, coa):\n",
    "        sql = \"SELECT code as Code, name as NC_Name, category as Category  FROM chart_of_accounts WHERE chart = '{}'\".format(coa)\n",
    "        return  pd.read_sql(sql, self.conn, index_col='Code')\n",
    "\n",
    "    \n",
    "    def load_tb_to_database(self, df, period, overwrite = False):\n",
    "        \"\"\"Assume the data already has the correct sign\"\"\"\n",
    "        self.df = df\n",
    "        if self.empty(period) or overwrite:\n",
    "            if overwrite:\n",
    "                    self.cursor.execute(\"DELETE FROM trial_balance WHERE period = '{}'\".format(period))                \n",
    "            coa=self.get_coa('SLF-MA')\n",
    "            s = df['TB']\n",
    "            l = s.index.tolist()\n",
    "            #print(l)\n",
    "            for i,v in enumerate(s):\n",
    "                code = str(int(l[i]))\n",
    "                # print(l[i], type(l[i]), str(l[i]), v)\n",
    "                # Insert a row of data\n",
    "                if v == '-' or math.isnan(v):\n",
    "                    v = p(0)\n",
    "                else:\n",
    "                    v = p(v)\n",
    "                process_normally = not( ((code=='5001') and (v == p(0)))  # leave out end of year adjustments unless needed\n",
    "                                      or (code == '2126'))  # Leave out YTD carried forwad P&L which is done from the trial balance\n",
    "                if process_normally:\n",
    "                    category = coa.ix[int(code)].Category\n",
    "                    self.cursor.execute(\"INSERT INTO trial_balance (period, code, balance) VALUES ('{}', {}, {})\".format(\n",
    "                            period, code, v))\n",
    "        else:\n",
    "            raise LoadDatabaseError('{} already is in managegment report database'.format(period))"
   ]
  },
  {
   "cell_type": "code",
   "execution_count": null,
   "metadata": {
    "collapsed": false
   },
   "outputs": [],
   "source": [
    "ttb_converter = TransactionalTrialBalance()\n",
    "with LoadDatabase('historic_trial_balances.db') as ld:\n",
    "    coa=ld.get_coa('SLF-MA')\n",
    "    coa.sort_index()\n",
    "    # print(coa)\n",
    "    mgmt_tb=ttb_converter.convert_trial_balance(ytd)\n",
    "    ld.load_tb_to_database(mgmt_tb, 'AYTD-FEB-15', overwrite=True)\n",
    "    # TODO the signs of this are wrong it should be negative for 2107 so that in the BS\n",
    "    # it comes out as positive"
   ]
  },
  {
   "cell_type": "code",
   "execution_count": null,
   "metadata": {
    "collapsed": true
   },
   "outputs": [],
   "source": [
    "new_rep = PeriodReport(dt.datetime(2015, 2, 1), \"historic_trial_balances.db\", period_ytd_prefix=\"AYTD\")"
   ]
  },
  {
   "cell_type": "code",
   "execution_count": null,
   "metadata": {
    "collapsed": false
   },
   "outputs": [],
   "source": [
    "emr.create_one_report(new_rep)\n",
    "new_rep.prior_mtd.tail()"
   ]
  },
  {
   "cell_type": "code",
   "execution_count": null,
   "metadata": {
    "collapsed": false
   },
   "outputs": [],
   "source": [
    "print(mgmt_tb['TB'].sum())\n",
    "print(mgmt_tb.ix[10])"
   ]
  },
  {
   "cell_type": "markdown",
   "metadata": {},
   "source": [
    "## Create accounts for the year\n",
    "Iterate for the whole year."
   ]
  },
  {
   "cell_type": "markdown",
   "metadata": {},
   "source": [
    "## Using Jan 16 accounts generate accounts for 2016-2017\n",
    "This can be redone once we have finalised the Jan 16 accounts"
   ]
  },
  {
   "cell_type": "markdown",
   "metadata": {
    "collapsed": true
   },
   "source": [
    "# Playpit\n"
   ]
  },
  {
   "cell_type": "code",
   "execution_count": null,
   "metadata": {
    "collapsed": false
   },
   "outputs": [],
   "source": [
    "new_rep.period_ytd['TB']"
   ]
  },
  {
   "cell_type": "code",
   "execution_count": null,
   "metadata": {
    "collapsed": true
   },
   "outputs": [],
   "source": []
  }
 ],
 "metadata": {
  "kernelspec": {
   "display_name": "Python 3",
   "language": "python",
   "name": "python3"
  },
  "language_info": {
   "codemirror_mode": {
    "name": "ipython",
    "version": 3
   },
   "file_extension": ".py",
   "mimetype": "text/x-python",
   "name": "python",
   "nbconvert_exporter": "python",
   "pygments_lexer": "ipython3",
   "version": "3.5.1"
  }
 },
 "nbformat": 4,
 "nbformat_minor": 0
}
