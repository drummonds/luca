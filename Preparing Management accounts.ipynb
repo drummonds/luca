{
 "cells": [
  {
   "cell_type": "markdown",
   "metadata": {},
   "source": [
    "# Preparing Management Accounts\n",
    "Starting with a YTD TTB you need to add the begining of the year trial balance.    \n",
    "\n",
    "Note that during year during the first months we will not have the accountants adjustments and at some point we will.  At that point there will be a discontinuity in the accounting record.   \n",
    "\n",
    "If you are preparing part way through the year then you may take a mid year point as the starting point for the preperation of the accounts.  This happend in 2014-2015 and September 2015 was used as a starting point or the subsequent months of the year.\n",
    "\n",
    "In the first instance this starting point would be the January of the preceding financial year.\n"
   ]
  },
  {
   "cell_type": "markdown",
   "metadata": {},
   "source": [
    "## Get the Jan 15 accounts"
   ]
  },
  {
   "cell_type": "code",
   "execution_count": 1,
   "metadata": {
    "collapsed": true
   },
   "outputs": [],
   "source": [
    "import datetime as dt\n",
    "import math\n",
    "import pandas as pd\n",
    "import pickle\n",
    "import sqlite3\n",
    "\n",
    "from luca import SageData, TransactionalTrialBalance, p, PeriodReport, ExcelManagementReport,\\\n",
    "    LoadDatabaseError, LoadDatabase, chart_of_accounts_from_db, journal_from_db, TrialBalance"
   ]
  },
  {
   "cell_type": "code",
   "execution_count": 2,
   "metadata": {
    "collapsed": false
   },
   "outputs": [],
   "source": [
    "emr = ExcelManagementReport()"
   ]
  },
  {
   "cell_type": "markdown",
   "metadata": {
    "collapsed": true
   },
   "source": [
    "## Get Sage data by unpickling it"
   ]
  },
  {
   "cell_type": "code",
   "execution_count": 3,
   "metadata": {
    "collapsed": false
   },
   "outputs": [],
   "source": [
    "sage_2015 = pickle.load(open('sage2015.pickle', 'rb'))"
   ]
  },
  {
   "cell_type": "markdown",
   "metadata": {},
   "source": [
    "## Create accounts for the year\n",
    "Turn into a function and Iterate for the whole year for 2015."
   ]
  },
  {
   "cell_type": "code",
   "execution_count": 4,
   "metadata": {
    "collapsed": true
   },
   "outputs": [],
   "source": [
    "def get_period_open(dbname, coa, period_string):\n",
    "    # Get data from historic trial balance database and store as TrialBalances\n",
    "    with journal_from_db(dbname, coa, journal_entry_class=TrialBalance) as js:\n",
    "        result = js.get_entry(period_string)  # YTD-FEB-15\n",
    "    result = result.close_period()\n",
    "    return result"
   ]
  },
  {
   "cell_type": "code",
   "execution_count": 5,
   "metadata": {
    "collapsed": true
   },
   "outputs": [],
   "source": [
    "def accounts_for_one_month(dbname, coa, year_open, month_open, start_of_year, start_of_month, end_of_month,\n",
    "                          period):\n",
    "    # Get opening trial balances for each perio\n",
    "    open_year= get_period_open(dbname, coa, year_open)\n",
    "    open_month= get_period_open(dbname, coa, month_open)\n",
    "    ttb_converter = TransactionalTrialBalance(open_year.chart_of_accounts)\n",
    "    with LoadDatabase(dbname) as ld:\n",
    "        ytd_ttb = sage_2015.transactional_trial_balance(start_of_year, end_of_month)\n",
    "        mtd_ttb = sage_2015.transactional_trial_balance(start_of_month, end_of_month)\n",
    "        ytd = open_year + ttb_converter.convert_trial_balance(ytd_ttb)\n",
    "        ld.load_tb_to_database(ytd, 'AYTD-{}'.format(period), overwrite=True)\n",
    "        mtd = open_month + ttb_converter.convert_trial_balance(mtd_ttb)\n",
    "        ld.load_tb_to_database(mtd, 'AMTD-{}'.format(period), overwrite=True)\n",
    "    # TODO the signs of this are wrong it should be negative for 2107 so that in the BS\n",
    "    # it comes out as positive"
   ]
  },
  {
   "cell_type": "markdown",
   "metadata": {},
   "source": [
    "# Fiscal year constants\n",
    "This would be better to calculate but quicker for two instances to just create the data table.  There are also exceptions.  Eg when do we switch from usingfinal versions of accounts to A.  This perhaps could be done programmatically."
   ]
  },
  {
   "cell_type": "code",
   "execution_count": 6,
   "metadata": {
    "collapsed": true
   },
   "outputs": [],
   "source": [
    "data_2015 = (('YTD-JAN-15', 'YTD-JAN-15', dt.date(2015, 2, 1), dt.date(2015, 2, 1), dt.date(2015, 2, 28), 'FEB-15', ''),\n",
    "       ('YTD-JAN-15', 'AYTD-FEB-15', dt.date(2015, 2, 1), dt.date(2015, 3, 1), dt.date(2015, 3, 31), 'MAR-15', ''),\n",
    "       ('YTD-JAN-15', 'AYTD-MAR-15', dt.date(2015, 2, 1), dt.date(2015, 4, 1), dt.date(2015, 4, 30), 'APR-15', ''),\n",
    "       ('YTD-JAN-15', 'AYTD-APR-15', dt.date(2015, 2, 1), dt.date(2015, 5, 1), dt.date(2015, 5, 31), 'MAY-15', ''),\n",
    "       ('YTD-JAN-15', 'AYTD-MAY-15', dt.date(2015, 2, 1), dt.date(2015, 6, 1), dt.date(2015, 6, 30), 'JUN-15', ''),\n",
    "       ('YTD-JAN-15', 'AYTD-JUN-15', dt.date(2015, 2, 1), dt.date(2015, 7, 1), dt.date(2015, 7, 31), 'JUL-15', ''),\n",
    "       ('YTD-JAN-15', 'AYTD-JUL-15', dt.date(2015, 2, 1), dt.date(2015, 8, 1), dt.date(2015, 8, 31), 'AUG-15', ''),\n",
    "       ('YTD-JAN-15', 'AYTD-AUG-15', dt.date(2015, 2, 1), dt.date(2015, 9, 1), dt.date(2015, 9, 30), 'SEP-15', ''),\n",
    "       ('YTD-JAN-15', 'AYTD-SEP-15', dt.date(2015, 2, 1), dt.date(2015, 10, 1), dt.date(2015, 10, 31), 'OCT-15', ''),\n",
    "       ('YTD-JAN-15', 'AYTD-OCT-15', dt.date(2015, 2, 1), dt.date(2015, 11, 1), dt.date(2015, 11, 30), 'NOV-15', ''),\n",
    "       ('YTD-JAN-15', 'AYTD-NOV-15', dt.date(2015, 2, 1), dt.date(2015, 12, 1), dt.date(2015, 12, 31), 'DEC-15', ''),\n",
    "       ('YTD-JAN-15', 'AYTD-DEC-15', dt.date(2015, 2, 1), dt.date(2016, 1, 1), dt.date(2016, 1, 31), 'JAN-16', '')\n",
    "       )"
   ]
  },
  {
   "cell_type": "markdown",
   "metadata": {},
   "source": [
    "### Load into database all data for 2015"
   ]
  },
  {
   "cell_type": "code",
   "execution_count": 7,
   "metadata": {
    "collapsed": false
   },
   "outputs": [],
   "source": [
    "dbname='historic_trial_balances.db'\n",
    "with chart_of_accounts_from_db(dbname) as coa_s:\n",
    "    coa = coa_s.get_chart_of_account('SLF-MA')\n",
    "for year_open, month_open, start_of_year, start_of_month, end_of_month, period, prefix in data_2015:\n",
    "    accounts_for_one_month(dbname, coa, year_open, month_open, start_of_year, start_of_month,\n",
    "                           end_of_month, period)"
   ]
  },
  {
   "cell_type": "markdown",
   "metadata": {},
   "source": [
    "## Print all reports for 2015"
   ]
  },
  {
   "cell_type": "code",
   "execution_count": 8,
   "metadata": {
    "collapsed": false
   },
   "outputs": [],
   "source": [
    "try:\n",
    "    emr.open()\n",
    "    for year_open, month_open, start_of_year, start_of_month, end_of_month, period, prior_prefix in data_2015:\n",
    "        new_rep = PeriodReport(end_of_month, dbname,\n",
    "                               period_ytd_prefix=\"AYTD\",\n",
    "                               period_mtd_prefix=\"AMTD\",\n",
    "                               prior_ytd_prefix=\"{}YTD\".format(prior_prefix),\n",
    "                               prior_mtd_prefix=\"{}MTD\".format(prior_prefix)\n",
    "                              )\n",
    "        emr.add_sheet_pnl(new_rep)\n",
    "        emr.add_sheet_bs(new_rep)\n",
    "finally:\n",
    "    emr.close()"
   ]
  },
  {
   "cell_type": "markdown",
   "metadata": {},
   "source": [
    "## Using Jan 16 accounts generate accounts for 2016-2017\n",
    "This can be redone once we have finalised the Jan 16 accounts"
   ]
  },
  {
   "cell_type": "code",
   "execution_count": 9,
   "metadata": {
    "collapsed": false
   },
   "outputs": [],
   "source": [
    "data_2016 = (('AYTD-JAN-16', 'AYTD-JAN-16', dt.date(2016, 2, 1), dt.date(2016, 2, 1), dt.date(2016, 2, 29), 'FEB-16', ''),\n",
    "       ('AYTD-JAN-16', 'AYTD-FEB-16', dt.date(2016, 2, 1), dt.date(2016, 3, 1), dt.date(2016, 3, 31), 'MAR-16', ''),\n",
    "       ('AYTD-JAN-16', 'AYTD-MAR-16', dt.date(2016, 2, 1), dt.date(2016, 4, 1), dt.date(2016, 4, 30), 'APR-16', ''),\n",
    "       ('AYTD-JAN-16', 'AYTD-APR-16', dt.date(2016, 2, 1), dt.date(2016, 5, 1), dt.date(2016, 5, 31), 'MAY-16', ''),\n",
    "       ('AYTD-JAN-16', 'AYTD-MAY-16', dt.date(2016, 2, 1), dt.date(2016, 6, 1), dt.date(2016, 6, 30), 'JUN-16', ''),\n",
    "       ('AYTD-JAN-16', 'AYTD-JUN-16', dt.date(2016, 2, 1), dt.date(2016, 7, 1), dt.date(2016, 7, 31), 'JUL-16', ''),\n",
    "       ('AYTD-JAN-16', 'AYTD-JUL-16', dt.date(2016, 2, 1), dt.date(2016, 8, 1), dt.date(2016, 8, 31), 'AUG-16', ''),\n",
    "       ('AYTD-JAN-16', 'AYTD-AUG-16', dt.date(2016, 2, 1), dt.date(2016, 9, 1), dt.date(2016, 9, 30), 'SEP-16', ''),\n",
    "       ('AYTD-JAN-16', 'AYTD-SEP-16', dt.date(2016, 2, 1), dt.date(2016, 10, 1), dt.date(2016, 10, 31), 'OCT-16', ''),\n",
    "       ('AYTD-JAN-16', 'AYTD-OCT-16', dt.date(2016, 2, 1), dt.date(2016, 11, 1), dt.date(2016, 11, 30), 'NOV-16', ''),\n",
    "       ('AYTD-JAN-16', 'AYTD-NOV-16', dt.date(2016, 2, 1), dt.date(2016, 12, 1), dt.date(2016, 12, 31), 'DEC-16', ''),\n",
    "       ('AYTD-JAN-16', 'AYTD-DEC-16', dt.date(2016, 2, 1), dt.date(2017, 1, 1), dt.date(2017, 1, 31), 'JAN-17', '')\n",
    "       )"
   ]
  },
  {
   "cell_type": "code",
   "execution_count": 10,
   "metadata": {
    "collapsed": false
   },
   "outputs": [],
   "source": [
    "with chart_of_accounts_from_db(dbname) as coa_s:\n",
    "    coa = coa_s.get_chart_of_account('SLF-MA')\n",
    "for year_open, month_open, start_of_year, start_of_month, end_of_month, period, prefix in data_2016:\n",
    "    accounts_for_one_month(dbname, coa, year_open, month_open, start_of_year, start_of_month, end_of_month, period)"
   ]
  },
  {
   "cell_type": "code",
   "execution_count": 11,
   "metadata": {
    "collapsed": false
   },
   "outputs": [
    {
     "ename": "LucaError",
     "evalue": "Getting Journal Entries from db historic_trial_balances.db for period MTD-MAY-15 but no data",
     "output_type": "error",
     "traceback": [
      "\u001b[1;31m---------------------------------------------------------------------------\u001b[0m",
      "\u001b[1;31mLucaError\u001b[0m                                 Traceback (most recent call last)",
      "\u001b[1;32m<ipython-input-11-8a052230eb94>\u001b[0m in \u001b[0;36m<module>\u001b[1;34m()\u001b[0m\n\u001b[0;32m      6\u001b[0m                                \u001b[0mperiod_mtd_prefix\u001b[0m\u001b[1;33m=\u001b[0m\u001b[1;34m\"AMTD\"\u001b[0m\u001b[1;33m,\u001b[0m\u001b[1;33m\u001b[0m\u001b[0m\n\u001b[0;32m      7\u001b[0m                                \u001b[0mprior_ytd_prefix\u001b[0m\u001b[1;33m=\u001b[0m\u001b[1;34m\"{}YTD\"\u001b[0m\u001b[1;33m.\u001b[0m\u001b[0mformat\u001b[0m\u001b[1;33m(\u001b[0m\u001b[0mprior_prefix\u001b[0m\u001b[1;33m)\u001b[0m\u001b[1;33m,\u001b[0m\u001b[1;33m\u001b[0m\u001b[0m\n\u001b[1;32m----> 8\u001b[1;33m                                \u001b[0mprior_mtd_prefix\u001b[0m\u001b[1;33m=\u001b[0m\u001b[1;34m\"{}MTD\"\u001b[0m\u001b[1;33m.\u001b[0m\u001b[0mformat\u001b[0m\u001b[1;33m(\u001b[0m\u001b[0mprior_prefix\u001b[0m\u001b[1;33m)\u001b[0m\u001b[1;33m\u001b[0m\u001b[0m\n\u001b[0m\u001b[0;32m      9\u001b[0m                               )\n\u001b[0;32m     10\u001b[0m         \u001b[0memr\u001b[0m\u001b[1;33m.\u001b[0m\u001b[0madd_sheet_pnl\u001b[0m\u001b[1;33m(\u001b[0m\u001b[0mnew_rep\u001b[0m\u001b[1;33m)\u001b[0m\u001b[1;33m\u001b[0m\u001b[0m\n",
      "\u001b[1;32mZ:\\IT\\MajorProjects\\luca\\luca\\period_report.py\u001b[0m in \u001b[0;36m__init__\u001b[1;34m(self, period, dbname, period_mtd_prefix, period_ytd_prefix, prior_mtd_prefix, prior_ytd_prefix)\u001b[0m\n\u001b[0;32m     42\u001b[0m             \u001b[0mself\u001b[0m\u001b[1;33m.\u001b[0m\u001b[0mperiod_ytd\u001b[0m \u001b[1;33m=\u001b[0m \u001b[0mjs\u001b[0m\u001b[1;33m.\u001b[0m\u001b[0mget_entry\u001b[0m\u001b[1;33m(\u001b[0m\u001b[1;34m'{}-{}'\u001b[0m\u001b[1;33m.\u001b[0m\u001b[0mformat\u001b[0m\u001b[1;33m(\u001b[0m\u001b[0mperiod_ytd_prefix\u001b[0m\u001b[1;33m,\u001b[0m \u001b[0mperiod_string\u001b[0m\u001b[1;33m)\u001b[0m\u001b[1;33m)\u001b[0m  \u001b[1;31m# YTD-FEB-15\u001b[0m\u001b[1;33m\u001b[0m\u001b[0m\n\u001b[0;32m     43\u001b[0m             \u001b[0mprior_period_string\u001b[0m \u001b[1;33m=\u001b[0m \u001b[0mself\u001b[0m\u001b[1;33m.\u001b[0m\u001b[0mprev_period\u001b[0m\u001b[1;33m.\u001b[0m\u001b[0mstrftime\u001b[0m\u001b[1;33m(\u001b[0m\u001b[1;34m'%b-%y'\u001b[0m\u001b[1;33m)\u001b[0m\u001b[1;33m.\u001b[0m\u001b[0mupper\u001b[0m\u001b[1;33m(\u001b[0m\u001b[1;33m)\u001b[0m\u001b[1;33m\u001b[0m\u001b[0m\n\u001b[1;32m---> 44\u001b[1;33m             \u001b[0mself\u001b[0m\u001b[1;33m.\u001b[0m\u001b[0mprior_mtd\u001b[0m \u001b[1;33m=\u001b[0m \u001b[0mjs\u001b[0m\u001b[1;33m.\u001b[0m\u001b[0mget_entry\u001b[0m\u001b[1;33m(\u001b[0m\u001b[1;34m'{}-{}'\u001b[0m\u001b[1;33m.\u001b[0m\u001b[0mformat\u001b[0m\u001b[1;33m(\u001b[0m\u001b[0mprior_mtd_prefix\u001b[0m\u001b[1;33m,\u001b[0m \u001b[0mprior_period_string\u001b[0m\u001b[1;33m)\u001b[0m\u001b[1;33m)\u001b[0m  \u001b[1;31m# MTD-FEB-14\u001b[0m\u001b[1;33m\u001b[0m\u001b[0m\n\u001b[0m\u001b[0;32m     45\u001b[0m             \u001b[0mself\u001b[0m\u001b[1;33m.\u001b[0m\u001b[0mprior_ytd\u001b[0m \u001b[1;33m=\u001b[0m \u001b[0mjs\u001b[0m\u001b[1;33m.\u001b[0m\u001b[0mget_entry\u001b[0m\u001b[1;33m(\u001b[0m\u001b[1;34m'{}-{}'\u001b[0m\u001b[1;33m.\u001b[0m\u001b[0mformat\u001b[0m\u001b[1;33m(\u001b[0m\u001b[0mprior_ytd_prefix\u001b[0m\u001b[1;33m,\u001b[0m \u001b[0mprior_period_string\u001b[0m\u001b[1;33m)\u001b[0m\u001b[1;33m)\u001b[0m  \u001b[1;31m# YTD-FEB-14\u001b[0m\u001b[1;33m\u001b[0m\u001b[0m\n\u001b[0;32m     46\u001b[0m         \u001b[0mself\u001b[0m\u001b[1;33m.\u001b[0m\u001b[0mchanged_data\u001b[0m\u001b[1;33m(\u001b[0m\u001b[1;33m)\u001b[0m\u001b[1;33m\u001b[0m\u001b[0m\n",
      "\u001b[1;32mZ:\\IT\\MajorProjects\\luca\\luca\\journal_sqlite.py\u001b[0m in \u001b[0;36mget_entry\u001b[1;34m(self, period)\u001b[0m\n\u001b[0;32m     30\u001b[0m             \u001b[1;32mreturn\u001b[0m \u001b[0mje\u001b[0m\u001b[1;33m\u001b[0m\u001b[0m\n\u001b[0;32m     31\u001b[0m         \u001b[1;32melse\u001b[0m\u001b[1;33m:\u001b[0m  \u001b[1;31m# Prevents error of getting nothing back because you have got the period name wrong\u001b[0m\u001b[1;33m\u001b[0m\u001b[0m\n\u001b[1;32m---> 32\u001b[1;33m             \u001b[1;32mraise\u001b[0m \u001b[0mLucaError\u001b[0m\u001b[1;33m(\u001b[0m\u001b[1;34m'Getting Journal Entries from db {} for period {} but no data'\u001b[0m\u001b[1;33m.\u001b[0m\u001b[0mformat\u001b[0m\u001b[1;33m(\u001b[0m\u001b[0mself\u001b[0m\u001b[1;33m.\u001b[0m\u001b[0mdbname\u001b[0m\u001b[1;33m,\u001b[0m \u001b[0mperiod\u001b[0m\u001b[1;33m)\u001b[0m\u001b[1;33m)\u001b[0m\u001b[1;33m\u001b[0m\u001b[0m\n\u001b[0m\u001b[0;32m     33\u001b[0m \u001b[1;33m\u001b[0m\u001b[0m\n\u001b[0;32m     34\u001b[0m \u001b[1;33m\u001b[0m\u001b[0m\n",
      "\u001b[1;31mLucaError\u001b[0m: Getting Journal Entries from db historic_trial_balances.db for period MTD-MAY-15 but no data"
     ]
    }
   ],
   "source": [
    "try:\n",
    "    emr.open()\n",
    "    for year_open, month_open, start_of_year, start_of_month, end_of_month, period, prior_prefix in data_2016:\n",
    "        new_rep = PeriodReport(end_of_month, dbname,\n",
    "                               period_ytd_prefix=\"AYTD\",\n",
    "                               period_mtd_prefix=\"AMTD\",\n",
    "                               prior_ytd_prefix=\"{}YTD\".format(prior_prefix),\n",
    "                               prior_mtd_prefix=\"{}MTD\".format(prior_prefix)\n",
    "                              )\n",
    "        emr.add_sheet_pnl(new_rep)\n",
    "        emr.add_sheet_bs(new_rep)\n",
    "finally:\n",
    "    emr.close()"
   ]
  }
 ],
 "metadata": {
  "kernelspec": {
   "display_name": "Python 3",
   "language": "python",
   "name": "python3"
  },
  "language_info": {
   "codemirror_mode": {
    "name": "ipython",
    "version": 3
   },
   "file_extension": ".py",
   "mimetype": "text/x-python",
   "name": "python",
   "nbconvert_exporter": "python",
   "pygments_lexer": "ipython3",
   "version": "3.5.1"
  }
 },
 "nbformat": 4,
 "nbformat_minor": 0
}
