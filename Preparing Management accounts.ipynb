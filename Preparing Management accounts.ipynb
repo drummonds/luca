{
 "cells": [
  {
   "cell_type": "markdown",
   "metadata": {},
   "source": [
    "# Preparing Management Accounts\n",
    "Starting with a YTD TTB you need to add the begining of the year trial balance.    \n",
    "\n",
    "Note that during year during the first months we will not have the accountants adjustments and at some point we will.  At that point there will be a discontinuity in the accounting record.   \n",
    "\n",
    "If you are preparing part way through the year then you may take a mid year point as the starting point for the preperation of the accounts.  This happend in 2014-2015 and September 2015 was used as a starting point or the subsequent months of the year.\n",
    "\n",
    "In the first instance this starting point would be the January of the preceding financial year.\n"
   ]
  },
  {
   "cell_type": "markdown",
   "metadata": {},
   "source": [
    "## Get the Jan 15 accounts"
   ]
  },
  {
   "cell_type": "code",
   "execution_count": 1,
   "metadata": {
    "collapsed": true
   },
   "outputs": [],
   "source": [
    "import datetime as dt\n",
    "import math\n",
    "import pandas as pd\n",
    "import pickle\n",
    "import sqlite3\n",
    "\n",
    "from luca import SageData, TransactionalTrialBalance, p, PeriodReport, ExcelManagementReport"
   ]
  },
  {
   "cell_type": "code",
   "execution_count": 2,
   "metadata": {
    "collapsed": false
   },
   "outputs": [],
   "source": [
    "rep = PeriodReport(dt.datetime(2015, 1, 1), \"historic_trial_balances.db\")"
   ]
  },
  {
   "cell_type": "code",
   "execution_count": 3,
   "metadata": {
    "collapsed": false
   },
   "outputs": [
    {
     "data": {
      "text/html": [
       "<div>\n",
       "<table border=\"1\" class=\"dataframe\">\n",
       "  <thead>\n",
       "    <tr style=\"text-align: right;\">\n",
       "      <th></th>\n",
       "      <th>TB</th>\n",
       "    </tr>\n",
       "    <tr>\n",
       "      <th>Code</th>\n",
       "      <th></th>\n",
       "    </tr>\n",
       "  </thead>\n",
       "  <tbody>\n",
       "    <tr>\n",
       "      <th>8430</th>\n",
       "      <td>397.45</td>\n",
       "    </tr>\n",
       "    <tr>\n",
       "      <th>8433</th>\n",
       "      <td>0.00</td>\n",
       "    </tr>\n",
       "    <tr>\n",
       "      <th>8435</th>\n",
       "      <td>1560.49</td>\n",
       "    </tr>\n",
       "    <tr>\n",
       "      <th>8440</th>\n",
       "      <td>1877.36</td>\n",
       "    </tr>\n",
       "    <tr>\n",
       "      <th>9999</th>\n",
       "      <td>0.00</td>\n",
       "    </tr>\n",
       "  </tbody>\n",
       "</table>\n",
       "</div>"
      ],
      "text/plain": [
       "           TB\n",
       "Code         \n",
       "8430   397.45\n",
       "8433     0.00\n",
       "8435  1560.49\n",
       "8440  1877.36\n",
       "9999     0.00"
      ]
     },
     "execution_count": 3,
     "metadata": {},
     "output_type": "execute_result"
    }
   ],
   "source": [
    "emr = ExcelManagementReport()\n",
    "emr.create_one_report(rep)\n",
    "rep.prior_mtd.tail()"
   ]
  },
  {
   "cell_type": "code",
   "execution_count": 4,
   "metadata": {
    "collapsed": false
   },
   "outputs": [
    {
     "name": "stdout",
     "output_type": "stream",
     "text": [
      "Sum for period_mtd = -75044.01\n",
      "Sum for period_ytd = 0.0\n",
      "Sum for prior_mtd = -107345.59\n",
      "Sum for prior_ytd = 0.0\n"
     ]
    }
   ],
   "source": [
    "for attr in ('period_mtd', 'period_ytd', 'prior_mtd', 'prior_ytd'):\n",
    "    print('Sum for {} = {}'.format(attr, getattr(rep, attr).sum()[0]))"
   ]
  },
  {
   "cell_type": "markdown",
   "metadata": {
    "collapsed": true
   },
   "source": [
    "## Convert YTD for prior year to start of year\n",
    "We need to close out the year by clearning the P&L and adding to the retained profit for the year.  (Note this doesn't have the accountants changes which we will need for Jan 16).   \n",
    "rep.period_ytd  --> to year_start.   \n",
    "Sum > 3000 and add to retained profit 2125\n",
    "Clear all > 3000"
   ]
  },
  {
   "cell_type": "code",
   "execution_count": 5,
   "metadata": {
    "collapsed": false
   },
   "outputs": [
    {
     "name": "stdout",
     "output_type": "stream",
     "text": [
      "P&L = -45685.49\n",
      "Prev retain = -509969.50, changing to -555654.99\n",
      "New retained profit = -555654.99\n",
      "Sum before clearing old balances = -45685.49\n",
      "Sum after clearing old balances = 0.0\n"
     ]
    },
    {
     "data": {
      "text/html": [
       "<div>\n",
       "<table border=\"1\" class=\"dataframe\">\n",
       "  <thead>\n",
       "    <tr style=\"text-align: right;\">\n",
       "      <th></th>\n",
       "      <th>TB</th>\n",
       "    </tr>\n",
       "    <tr>\n",
       "      <th>Code</th>\n",
       "      <th></th>\n",
       "    </tr>\n",
       "  </thead>\n",
       "  <tbody>\n",
       "    <tr>\n",
       "      <th>2109</th>\n",
       "      <td>15151.58</td>\n",
       "    </tr>\n",
       "    <tr>\n",
       "      <th>2110</th>\n",
       "      <td>0.00</td>\n",
       "    </tr>\n",
       "    <tr>\n",
       "      <th>2120</th>\n",
       "      <td>-100.00</td>\n",
       "    </tr>\n",
       "    <tr>\n",
       "      <th>2125</th>\n",
       "      <td>-555654.99</td>\n",
       "    </tr>\n",
       "    <tr>\n",
       "      <th>1001</th>\n",
       "      <td>362381.70</td>\n",
       "    </tr>\n",
       "  </tbody>\n",
       "</table>\n",
       "</div>"
      ],
      "text/plain": [
       "              TB\n",
       "Code            \n",
       "2109    15151.58\n",
       "2110        0.00\n",
       "2120     -100.00\n",
       "2125  -555654.99\n",
       "1001   362381.70"
      ]
     },
     "execution_count": 5,
     "metadata": {},
     "output_type": "execute_result"
    }
   ],
   "source": [
    "def close_year(df):\n",
    "    a = df\n",
    "    pnl = p(a[a.index > 3000].sum()[0])\n",
    "    print(\"P&L = {}\".format(pnl))\n",
    "    old_pnl = a.ix[2125][0]\n",
    "    print(\"Prev retain = {}, changing to {}\".format(old_pnl, old_pnl+pnl))\n",
    "    b = a.copy()\n",
    "    b.ix[2125] = old_pnl+pnl\n",
    "    new_pnl = b.ix[2125][0]\n",
    "    print(\"New retained profit = {}\".format(new_pnl))\n",
    "    print(\"Sum before clearing old balances = {}\".format(b.sum()[0]))\n",
    "    b[b.index > 3000] = p(0)\n",
    "    print(\"Sum after clearing old balances = {}\".format(b.sum()[0]))\n",
    "    return b\n",
    "start_year=close_year(rep.period_ytd)\n",
    "start_year.tail()"
   ]
  },
  {
   "cell_type": "markdown",
   "metadata": {
    "collapsed": true
   },
   "source": [
    "## Add start of year to TTB\n",
    "In order to create the accounts for the YTD we need to add the TTB for the YTD to the year start.   \n",
    "This should be a generalised TB add."
   ]
  },
  {
   "cell_type": "code",
   "execution_count": 6,
   "metadata": {
    "collapsed": false
   },
   "outputs": [],
   "source": [
    "sage_2015 = pickle.load(open('sage2015.pickle', 'rb'))"
   ]
  },
  {
   "cell_type": "code",
   "execution_count": 7,
   "metadata": {
    "collapsed": false
   },
   "outputs": [
    {
     "name": "stdout",
     "output_type": "stream",
     "text": [
      "Sum ttb 0.00\n"
     ]
    },
    {
     "data": {
      "text/plain": [
       "ACCOUNT_REF\n",
       "1001     25646.21\n",
       "1100     60958.94\n",
       "1120       468.84\n",
       "1200    -70576.88\n",
       "1205         0.00\n",
       "dtype: object"
      ]
     },
     "execution_count": 7,
     "metadata": {},
     "output_type": "execute_result"
    }
   ],
   "source": [
    "ttb = sage_2015.transactional_trial_balance(dt.date(2015, 2, 1), dt.date(2015, 2, 28))\n",
    "print('Sum ttb {}'.format(ttb.sum()))\n",
    "ttb.head()"
   ]
  },
  {
   "cell_type": "code",
   "execution_count": 9,
   "metadata": {
    "collapsed": false
   },
   "outputs": [
    {
     "name": "stdout",
     "output_type": "stream",
     "text": [
      "Added trial balance\n",
      "Sum of new YTD = 0.00\n"
     ]
    },
    {
     "data": {
      "text/html": [
       "<div>\n",
       "<table border=\"1\" class=\"dataframe\">\n",
       "  <thead>\n",
       "    <tr style=\"text-align: right;\">\n",
       "      <th></th>\n",
       "      <th>TB</th>\n",
       "    </tr>\n",
       "  </thead>\n",
       "  <tbody>\n",
       "    <tr>\n",
       "      <th>10</th>\n",
       "      <td>9926.00</td>\n",
       "    </tr>\n",
       "    <tr>\n",
       "      <th>1001</th>\n",
       "      <td>388027.91</td>\n",
       "    </tr>\n",
       "    <tr>\n",
       "      <th>1100</th>\n",
       "      <td>364415.74</td>\n",
       "    </tr>\n",
       "    <tr>\n",
       "      <th>1102</th>\n",
       "      <td>0.00</td>\n",
       "    </tr>\n",
       "    <tr>\n",
       "      <th>1103</th>\n",
       "      <td>-30274.58</td>\n",
       "    </tr>\n",
       "  </tbody>\n",
       "</table>\n",
       "</div>"
      ],
      "text/plain": [
       "             TB\n",
       "10      9926.00\n",
       "1001  388027.91\n",
       "1100  364415.74\n",
       "1102       0.00\n",
       "1103  -30274.58"
      ]
     },
     "execution_count": 9,
     "metadata": {},
     "output_type": "execute_result"
    }
   ],
   "source": [
    "r = 0\n",
    "def add_tb(year_open, ttb):\n",
    "    \n",
    "    def fill(nc):\n",
    "        try:\n",
    "            y_value = ttb[nc]\n",
    "        except:\n",
    "            y_value=p(0)\n",
    "        try:\n",
    "            t_value = year_open.ix[nc]['TB']\n",
    "        except:\n",
    "            t_value = p(0)\n",
    "        return y_value + t_value\n",
    "    \n",
    "    # Create union of nominal codes\n",
    "    year_nc = list(year_open.index.values)\n",
    "    ttb_nc = list(ttb.axes[0])\n",
    "    nc_list = list(set(ttb_nc) | set(year_nc))\n",
    "    # For each nominal code add from both\n",
    "    print('Added trial balance')\n",
    "    nc_list.sort()\n",
    "    df = pd.DataFrame([p(0)]*len(nc_list), index = nc_list, columns=['TB'])\n",
    "    df['TB'] = [fill(r) for r in df.index]\n",
    "    return df\n",
    "\n",
    "rep_month = PeriodReport(dt.datetime(2015, 1, 1), \"historic_trial_balances.db\")\n",
    "\n",
    "ytd = add_tb(start_year, ttb)\n",
    "print('Sum of new YTD = {}'.format(ytd['TB'].sum()))  # Has year start and YTD added together\n",
    "ytd.head()"
   ]
  },
  {
   "cell_type": "code",
   "execution_count": 29,
   "metadata": {
    "collapsed": false
   },
   "outputs": [
    {
     "data": {
      "text/html": [
       "<div>\n",
       "<table border=\"1\" class=\"dataframe\">\n",
       "  <thead>\n",
       "    <tr style=\"text-align: right;\">\n",
       "      <th></th>\n",
       "      <th>TB</th>\n",
       "    </tr>\n",
       "  </thead>\n",
       "  <tbody>\n",
       "    <tr>\n",
       "      <th>2107</th>\n",
       "      <td>-4606.31</td>\n",
       "    </tr>\n",
       "    <tr>\n",
       "      <th>2210</th>\n",
       "      <td>122.18</td>\n",
       "    </tr>\n",
       "    <tr>\n",
       "      <th>2211</th>\n",
       "      <td>156.59</td>\n",
       "    </tr>\n",
       "  </tbody>\n",
       "</table>\n",
       "</div>"
      ],
      "text/plain": [
       "            TB\n",
       "2107  -4606.31\n",
       "2210    122.18\n",
       "2211    156.59"
      ]
     },
     "execution_count": 29,
     "metadata": {},
     "output_type": "execute_result"
    }
   ],
   "source": [
    "ytd.ix[[2107, 2210, 2211]]"
   ]
  },
  {
   "cell_type": "markdown",
   "metadata": {
    "collapsed": true
   },
   "source": [
    "# Create account for the month\n",
    "Having created YTD and MTD then upload into the database under temporary notation\n",
    "Then load a report with the correct data and run the report."
   ]
  },
  {
   "cell_type": "code",
   "execution_count": 30,
   "metadata": {
    "collapsed": false
   },
   "outputs": [],
   "source": [
    "class LoadDatabaseError(Exception):\n",
    "    pass\n",
    "\n",
    "class LoadDatabase():\n",
    "    \"\"\"Does not have the ability to create a database or chart of acconts if they don't exist.\"\"\"\n",
    "    \n",
    "    def __init__(self, dbname):\n",
    "        self.conn = sqlite3.connect(dbname)\n",
    "        self.cursor = self.conn.cursor()\n",
    "        \n",
    "    def __enter__(self):\n",
    "        return self\n",
    "\n",
    "    def __exit__(self, exc_type, exc_value, traceback):\n",
    "        self.commit()\n",
    "        self.close()\n",
    " \n",
    "    def commit(self):\n",
    "        self.conn.commit()\n",
    "\n",
    "    def close(self):\n",
    "        self.conn.close()\n",
    " \n",
    "    def empty(self, period):\n",
    "        \"\"\"Check if no data for Balance sheet period is in database\"\"\"\n",
    "        count=self.cursor.execute(\"SELECT COUNT(*) FROM trial_balance WHERE period='{}' and code < 4000\".\n",
    "                                  format(period)).fetchone()[0]\n",
    "        return count==0\n",
    "\n",
    "    def get_coa(self, coa):\n",
    "        sql = \"SELECT code as Code, name as NC_Name, category as Category  FROM chart_of_accounts WHERE chart = '{}'\".format(coa)\n",
    "        return  pd.read_sql(sql, self.conn, index_col='Code')\n",
    "\n",
    "    \n",
    "    def load_tb_to_database(self, df, period, overwrite = False):\n",
    "        \"\"\"Assume the data already has the correct sign\"\"\"\n",
    "        self.df = df\n",
    "        if self.empty(period) or overwrite:\n",
    "            if overwrite:\n",
    "                    self.cursor.execute(\"DELETE FROM trial_balance WHERE period = '{}'\".format(period))                \n",
    "            coa=self.get_coa('SLF-MA')\n",
    "            s = df['TB']\n",
    "            l = s.index.tolist()\n",
    "            #print(l)\n",
    "            for i,v in enumerate(s):\n",
    "                code = str(int(l[i]))\n",
    "                # print(l[i], type(l[i]), str(l[i]), v)\n",
    "                # Insert a row of data\n",
    "                if v == '-' or math.isnan(v):\n",
    "                    v = p(0)\n",
    "                else:\n",
    "                    v = p(v)\n",
    "                process_normally = not( ((code=='5001') and (v == p(0)))  # leave out end of year adjustments unless needed\n",
    "                                      or (code == '2126'))  # Leave out YTD carried forwad P&L which is done from the trial balance\n",
    "                if process_normally:\n",
    "                    category = coa.ix[int(code)].Category\n",
    "                    self.cursor.execute(\"INSERT INTO trial_balance (period, code, balance) VALUES ('{}', {}, {})\".format(\n",
    "                            period, code, v))\n",
    "        else:\n",
    "            raise LoadDatabaseError('{} already is in managegment report database'.format(period))"
   ]
  },
  {
   "cell_type": "code",
   "execution_count": 31,
   "metadata": {
    "collapsed": false
   },
   "outputs": [],
   "source": [
    "ttb_converter = TransactionalTrialBalance()\n",
    "with LoadDatabase('historic_trial_balances.db') as ld:\n",
    "    coa=ld.get_coa('SLF-MA')\n",
    "    coa.sort_index()\n",
    "    # print(coa)\n",
    "    mgmt_tb=ttb_converter.convert_trial_balance(ytd)\n",
    "    ld.load_tb_to_database(mgmt_tb, 'AYTD-FEB-15', overwrite=True)\n",
    "    # TODO the signs of this are wrong it should be negative for 2107 so that in the BS\n",
    "    # it comes out as positive"
   ]
  },
  {
   "cell_type": "code",
   "execution_count": 32,
   "metadata": {
    "collapsed": true
   },
   "outputs": [],
   "source": [
    "new_rep = PeriodReport(dt.datetime(2015, 2, 1), \"historic_trial_balances.db\", period_ytd_prefix=\"AYTD\")"
   ]
  },
  {
   "cell_type": "code",
   "execution_count": 33,
   "metadata": {
    "collapsed": false
   },
   "outputs": [
    {
     "data": {
      "text/html": [
       "<div>\n",
       "<table border=\"1\" class=\"dataframe\">\n",
       "  <thead>\n",
       "    <tr style=\"text-align: right;\">\n",
       "      <th></th>\n",
       "      <th>TB</th>\n",
       "    </tr>\n",
       "    <tr>\n",
       "      <th>Code</th>\n",
       "      <th></th>\n",
       "    </tr>\n",
       "  </thead>\n",
       "  <tbody>\n",
       "    <tr>\n",
       "      <th>8430</th>\n",
       "      <td>678.98</td>\n",
       "    </tr>\n",
       "    <tr>\n",
       "      <th>8433</th>\n",
       "      <td>0.00</td>\n",
       "    </tr>\n",
       "    <tr>\n",
       "      <th>8435</th>\n",
       "      <td>311.91</td>\n",
       "    </tr>\n",
       "    <tr>\n",
       "      <th>8440</th>\n",
       "      <td>860.04</td>\n",
       "    </tr>\n",
       "    <tr>\n",
       "      <th>9999</th>\n",
       "      <td>0.00</td>\n",
       "    </tr>\n",
       "  </tbody>\n",
       "</table>\n",
       "</div>"
      ],
      "text/plain": [
       "          TB\n",
       "Code        \n",
       "8430  678.98\n",
       "8433    0.00\n",
       "8435  311.91\n",
       "8440  860.04\n",
       "9999    0.00"
      ]
     },
     "execution_count": 33,
     "metadata": {},
     "output_type": "execute_result"
    }
   ],
   "source": [
    "emr.create_one_report(new_rep)\n",
    "new_rep.prior_mtd.tail()"
   ]
  },
  {
   "cell_type": "code",
   "execution_count": 34,
   "metadata": {
    "collapsed": false
   },
   "outputs": [
    {
     "name": "stdout",
     "output_type": "stream",
     "text": [
      "-52297.94\n",
      "TB    9926.00\n",
      "Name: 10, dtype: object\n"
     ]
    }
   ],
   "source": [
    "print(mgmt_tb['TB'].sum())\n",
    "print(mgmt_tb.ix[10])"
   ]
  },
  {
   "cell_type": "markdown",
   "metadata": {},
   "source": [
    "## Create accounts for the year\n",
    "Iterate for the whole year."
   ]
  },
  {
   "cell_type": "markdown",
   "metadata": {},
   "source": [
    "## Using Jan 16 accounts generate accounts for 2016-2017\n",
    "This can be redone once we have finalised the Jan 16 accounts"
   ]
  },
  {
   "cell_type": "markdown",
   "metadata": {
    "collapsed": true
   },
   "source": [
    "# Playpit\n"
   ]
  },
  {
   "cell_type": "code",
   "execution_count": 35,
   "metadata": {
    "collapsed": false
   },
   "outputs": [
    {
     "data": {
      "text/plain": [
       "Code\n",
       "10         9926.00\n",
       "1001     385051.72\n",
       "1100     364415.74\n",
       "1102          0.00\n",
       "1103     -29805.74\n",
       "1115      65539.72\n",
       "1200      56886.11\n",
       "1202     -12178.72\n",
       "1203          0.00\n",
       "1204        856.64\n",
       "2100     -81293.82\n",
       "2103    -235301.85\n",
       "2104      24214.33\n",
       "2105          0.00\n",
       "2106          0.00\n",
       "2107      -4327.54\n",
       "2108      -6742.16\n",
       "2109       6497.86\n",
       "2110     -27952.05\n",
       "2120       -100.00\n",
       "2125    -555654.99\n",
       "4000    -156580.95\n",
       "4009       1209.13\n",
       "4905       5171.06\n",
       "5000      91169.17\n",
       "6100       1430.99\n",
       "6200       1569.50\n",
       "6201       1325.00\n",
       "7000       9347.17\n",
       "7006          0.00\n",
       "7020          0.00\n",
       "7100        750.00\n",
       "7102       3131.62\n",
       "7103        194.45\n",
       "7105        982.83\n",
       "7200         35.00\n",
       "7202        920.00\n",
       "7204       7500.00\n",
       "7206       1331.01\n",
       "7906          0.00\n",
       "8100          0.00\n",
       "8200        300.00\n",
       "8201          0.00\n",
       "8204        150.23\n",
       "8300        250.00\n",
       "8310          0.00\n",
       "8400        125.00\n",
       "8402        564.68\n",
       "8405        365.00\n",
       "8408        168.07\n",
       "8410       2020.00\n",
       "8414        260.00\n",
       "8420      11787.08\n",
       "8424        215.10\n",
       "8426        722.43\n",
       "8430        195.95\n",
       "8433          0.00\n",
       "8435        324.89\n",
       "8440        736.40\n",
       "Name: TB, dtype: object"
      ]
     },
     "execution_count": 35,
     "metadata": {},
     "output_type": "execute_result"
    }
   ],
   "source": [
    "new_rep.period_ytd['TB']"
   ]
  },
  {
   "cell_type": "code",
   "execution_count": null,
   "metadata": {
    "collapsed": true
   },
   "outputs": [],
   "source": []
  }
 ],
 "metadata": {
  "kernelspec": {
   "display_name": "Python 3",
   "language": "python",
   "name": "python3"
  },
  "language_info": {
   "codemirror_mode": {
    "name": "ipython",
    "version": 3
   },
   "file_extension": ".py",
   "mimetype": "text/x-python",
   "name": "python",
   "nbconvert_exporter": "python",
   "pygments_lexer": "ipython3",
   "version": "3.5.1"
  }
 },
 "nbformat": 4,
 "nbformat_minor": 0
}
