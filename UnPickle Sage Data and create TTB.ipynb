{
 "cells": [
  {
   "cell_type": "markdown",
   "metadata": {},
   "source": [
    "# UnPickle Sage Data\n",
    "Unpickle data created on another system with Sage.  Should then be able to create a transaction trial balances."
   ]
  },
  {
   "cell_type": "code",
   "execution_count": 21,
   "metadata": {
    "collapsed": false
   },
   "outputs": [],
   "source": [
    "import datetime as dt\n",
    "import pandas as pd\n",
    "\n",
    "from h3_yearend import p\n"
   ]
  },
  {
   "cell_type": "code",
   "execution_count": 2,
   "metadata": {
    "collapsed": false
   },
   "outputs": [
    {
     "name": "stdout",
     "output_type": "stream",
     "text": [
      "56792\n"
     ]
    },
    {
     "data": {
      "text/html": [
       "<div>\n",
       "<table border=\"1\" class=\"dataframe\">\n",
       "  <thead>\n",
       "    <tr style=\"text-align: right;\">\n",
       "      <th></th>\n",
       "      <th>TRAN_NUMBER</th>\n",
       "      <th>TYPE</th>\n",
       "      <th>DATE</th>\n",
       "      <th>ACCOUNT_REF</th>\n",
       "      <th>ALT_REF</th>\n",
       "      <th>INV_REF</th>\n",
       "      <th>DETAILS</th>\n",
       "      <th>TAX_CODE</th>\n",
       "      <th>AMOUNT</th>\n",
       "      <th>FOREIGN_AMOUNT</th>\n",
       "      <th>BANK_FLAG</th>\n",
       "      <th>DATE_BANK_RECONCILED</th>\n",
       "    </tr>\n",
       "  </thead>\n",
       "  <tbody>\n",
       "    <tr>\n",
       "      <th>0</th>\n",
       "      <td>1</td>\n",
       "      <td>SI</td>\n",
       "      <td>2015-02-03</td>\n",
       "      <td>1100</td>\n",
       "      <td>X458</td>\n",
       "      <td>55774</td>\n",
       "      <td>SGL  S/F COTTON TOPPER</td>\n",
       "      <td>T1</td>\n",
       "      <td>64.44</td>\n",
       "      <td>64.44</td>\n",
       "      <td>-</td>\n",
       "      <td>NaN</td>\n",
       "    </tr>\n",
       "    <tr>\n",
       "      <th>1</th>\n",
       "      <td>2</td>\n",
       "      <td>SI</td>\n",
       "      <td>2015-02-03</td>\n",
       "      <td>1100</td>\n",
       "      <td>X458</td>\n",
       "      <td>55774</td>\n",
       "      <td>KNG S/F COTTON TOPPER</td>\n",
       "      <td>T1</td>\n",
       "      <td>80.10</td>\n",
       "      <td>80.10</td>\n",
       "      <td>-</td>\n",
       "      <td>NaN</td>\n",
       "    </tr>\n",
       "  </tbody>\n",
       "</table>\n",
       "</div>"
      ],
      "text/plain": [
       "   TRAN_NUMBER TYPE       DATE  ACCOUNT_REF ALT_REF INV_REF  \\\n",
       "0            1   SI 2015-02-03         1100    X458   55774   \n",
       "1            2   SI 2015-02-03         1100    X458   55774   \n",
       "\n",
       "                  DETAILS TAX_CODE  AMOUNT  FOREIGN_AMOUNT BANK_FLAG  \\\n",
       "0  SGL  S/F COTTON TOPPER       T1   64.44           64.44         -   \n",
       "1   KNG S/F COTTON TOPPER       T1   80.10           80.10         -   \n",
       "\n",
       "  DATE_BANK_RECONCILED  \n",
       "0                  NaN  \n",
       "1                  NaN  "
      ]
     },
     "execution_count": 2,
     "metadata": {},
     "output_type": "execute_result"
    }
   ],
   "source": [
    "import pickle\n",
    "sage_2015 = pickle.load(open('sage2015.pickle', 'rb'))\n",
    "df = sage_2015.df\n",
    "print(len(df))\n",
    "df.head(2)"
   ]
  },
  {
   "cell_type": "markdown",
   "metadata": {
    "collapsed": true
   },
   "source": [
    "# Get transaction trial balance"
   ]
  },
  {
   "cell_type": "code",
   "execution_count": 3,
   "metadata": {
    "collapsed": false
   },
   "outputs": [
    {
     "data": {
      "text/plain": [
       "ACCOUNT_REF\n",
       "30         687.54\n",
       "1001    -74899.48\n",
       "1100    124204.64\n",
       "1104         0.00\n",
       "1115      1479.20\n",
       "dtype: object"
      ]
     },
     "execution_count": 3,
     "metadata": {},
     "output_type": "execute_result"
    }
   ],
   "source": [
    "tb = sage_2015.transactional_trial_balance(dt.date(2015, 1, 1), dt.date(2016, 1, 31))\n",
    "tb.head()"
   ]
  },
  {
   "cell_type": "code",
   "execution_count": 4,
   "metadata": {
    "collapsed": false
   },
   "outputs": [],
   "source": [
    "assert tb.sum() == p(0)"
   ]
  },
  {
   "cell_type": "markdown",
   "metadata": {
    "collapsed": true
   },
   "source": [
    "# Working towards conversion\n",
    "Sage Trial Balance to Management Trial Balance"
   ]
  },
  {
   "cell_type": "code",
   "execution_count": 7,
   "metadata": {
    "collapsed": false
   },
   "outputs": [],
   "source": [
    "conversion = {\n",
    "     10: (20, 21, 30, 31, 40, 41, ),\n",
    "     1001: (1001, 1004, 1254, 1256, 7906, ),\n",
    "     1100: (1100, 1101, ),\n",
    "     1102: (1102, ),\n",
    "     1103: (1110, 1120, ),\n",
    "     1115: (1104, 1115, 1117, ),\n",
    "     1200: (1200, 1205, 1240, 1250, 1260, 1262, 1263, 9998, 9999, ),\n",
    "     1202: (1207, 1210, 1212, 1252, ),\n",
    "     1203: (1220, ),\n",
    "     1204: (1230, 1232, ),\n",
    "     2100: (2100, 2220, ),\n",
    "     2103: (2101, ),\n",
    "     2104: (2102, ),\n",
    "     2105: (2105, ),\n",
    "     2106: (2320, ),\n",
    "     2107: (2210, 2211, ),\n",
    "     2108: (2200, 2201, 2202, 2204, ),\n",
    "     2109: (2109, ),\n",
    "     2110: (2108, ),\n",
    "     2120: (3000, ),\n",
    "     2125: (3210, ),\n",
    "     2126: (3200, ),\n",
    "     4000: (4000, ),\n",
    "     4009: (4009, ),\n",
    "     4905: (4905, ),\n",
    "     5000: (5000, ),\n",
    "     5001: (5001, ),\n",
    "     6100: (6100, ),\n",
    "     6200: (6200, ),\n",
    "     6201: (6201, ),\n",
    "     7000: (7000, ),\n",
    "     7006: (7006, ),\n",
    "     7020: (7020, ),\n",
    "     7100: (7100, ),\n",
    "     7102: (7102, ),\n",
    "     7103: (7103, ),\n",
    "     7105: (7105, ),\n",
    "     7200: (7200, ),\n",
    "     7202: (7202, ),\n",
    "     7204: (7204, ),\n",
    "     7206: (7206, ),\n",
    "     7906: (),\n",
    "     8100: (8100, 8102, ),\n",
    "     8200: (8200, ),\n",
    "     8201: (7604, 8201, ),\n",
    "     8204: (7901, 8204, ),\n",
    "     8300: (8300, ),\n",
    "     8310: (8310, ),\n",
    "     8400: (8400, ),\n",
    "     8402: (8402, ),\n",
    "     8405: (8301, 8405, ),\n",
    "     8408: (8408, ),\n",
    "     8410: (8410, ),\n",
    "     8414: (8414, ),\n",
    "     8420: (8420, 8421, ),\n",
    "     8424: (8424, ),\n",
    "     8426: (8426, ),\n",
    "     8430: (8430, ),\n",
    "     8433: (8433, ),\n",
    "     8435: (8435, ),\n",
    "     8440: (7503, 8440, ),\n",
    "    }"
   ]
  },
  {
   "cell_type": "code",
   "execution_count": 34,
   "metadata": {
    "collapsed": false
   },
   "outputs": [
    {
     "name": "stdout",
     "output_type": "stream",
     "text": [
      "10         687.54\n",
      "1001    -67891.11\n",
      "1100    124204.64\n",
      "1102            0\n",
      "1103     61709.78\n",
      "dtype: object\n",
      "Sum of new trial balance = 0.00\n"
     ]
    }
   ],
   "source": [
    "def convert_trial_balance(old_tb, conversion):\n",
    "    index = []\n",
    "    for key, value in conversion.items():\n",
    "        index.append(key)\n",
    "    index.sort()\n",
    "    new = pd.Series([p(0)]*len(index), index = index)\n",
    "    for name, value in new.iteritems():\n",
    "        result = 0\n",
    "        old_tb_list = conversion[name]\n",
    "        for nc in old_tb_list:  # a list of accounts in the old trial balance\n",
    "            try:\n",
    "                result += old_tb[nc]\n",
    "            except KeyError:  # Ignore where there are no entries\n",
    "                pass\n",
    "        new[name]=result\n",
    "    return new\n",
    "\n",
    "new_tb = convert_trial_balance(tb, conversion)\n",
    "print(new_tb.head())\n",
    "print('Sum of new trial balance = {}'.format(new_tb.sum()))\n",
    "assert new_tb.sum() == 0"
   ]
  },
  {
   "cell_type": "code",
   "execution_count": 26,
   "metadata": {
    "collapsed": false
   },
   "outputs": [
    {
     "data": {
      "text/plain": [
       "[0, 0]"
      ]
     },
     "execution_count": 26,
     "metadata": {},
     "output_type": "execute_result"
    }
   ],
   "source": [
    "[0]*2"
   ]
  },
  {
   "cell_type": "code",
   "execution_count": null,
   "metadata": {
    "collapsed": true
   },
   "outputs": [],
   "source": []
  }
 ],
 "metadata": {
  "kernelspec": {
   "display_name": "Python 3",
   "language": "python",
   "name": "python3"
  },
  "language_info": {
   "codemirror_mode": {
    "name": "ipython",
    "version": 3
   },
   "file_extension": ".py",
   "mimetype": "text/x-python",
   "name": "python",
   "nbconvert_exporter": "python",
   "pygments_lexer": "ipython3",
   "version": "3.5.1"
  }
 },
 "nbformat": 4,
 "nbformat_minor": 0
}
