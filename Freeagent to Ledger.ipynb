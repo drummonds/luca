{
 "cells": [
  {
   "cell_type": "markdown",
   "metadata": {},
   "source": [
    "# Freeagent to Ledger\n",
    "This converts an excel dump file from Freeagent into Ledger entries.\n",
    "This is done by importing into Pandas and then writing out the entries.\n"
   ]
  },
  {
   "cell_type": "code",
   "execution_count": 1,
   "metadata": {
    "collapsed": false
   },
   "outputs": [
    {
     "name": "stdout",
     "output_type": "stream",
     "text": [
      "WARNING *** file size (460289) not 512 + multiple of sector size (512)\n",
      "['Bank Accounts', 'Bank Account Entries', 'Bank Account Transactions', 'Payslips', 'Contacts', 'Projects', 'Invoices', 'Estimates', 'Bills', 'Expenses', 'Tasks', 'Timeslips', 'VAT Returns', 'Recurring Invoices']\n"
     ]
    }
   ],
   "source": [
    "import pandas as pd\n",
    "\n",
    "from h3_yearend import p\n",
    "\n",
    "fn = 'company-export-2016-04-07-05-55.xls'\n",
    "xl = pd.ExcelFile(fn)\n",
    "print(xl.sheet_names)"
   ]
  },
  {
   "cell_type": "code",
   "execution_count": 2,
   "metadata": {
    "collapsed": true
   },
   "outputs": [],
   "source": [
    "df = xl.parse('Bank Account Entries')"
   ]
  },
  {
   "cell_type": "code",
   "execution_count": 3,
   "metadata": {
    "collapsed": false
   },
   "outputs": [
    {
     "data": {
      "text/html": [
       "<div>\n",
       "<table border=\"1\" class=\"dataframe\">\n",
       "  <thead>\n",
       "    <tr style=\"text-align: right;\">\n",
       "      <th></th>\n",
       "      <th>Bank Account Name</th>\n",
       "      <th>Description</th>\n",
       "      <th>Date</th>\n",
       "      <th>Type</th>\n",
       "      <th>Gross Value</th>\n",
       "      <th>Receipt Reference</th>\n",
       "      <th>Cheque Number</th>\n",
       "      <th>Sales Tax Rate</th>\n",
       "    </tr>\n",
       "  </thead>\n",
       "  <tbody>\n",
       "    <tr>\n",
       "      <th>0</th>\n",
       "      <td>Drummonds.net at Barclays</td>\n",
       "      <td>Dividend paid to Humphrey Drummond</td>\n",
       "      <td>2009-04-01</td>\n",
       "      <td>Dividend</td>\n",
       "      <td>-8000.00</td>\n",
       "      <td>NaN</td>\n",
       "      <td>NaN</td>\n",
       "      <td>0</td>\n",
       "    </tr>\n",
       "    <tr>\n",
       "      <th>1</th>\n",
       "      <td>Drummonds.net at Barclays</td>\n",
       "      <td>Dividend paid to Humphrey Drummond</td>\n",
       "      <td>2009-05-19</td>\n",
       "      <td>Dividend</td>\n",
       "      <td>-450.00</td>\n",
       "      <td>NaN</td>\n",
       "      <td>NaN</td>\n",
       "      <td>0</td>\n",
       "    </tr>\n",
       "    <tr>\n",
       "      <th>2</th>\n",
       "      <td>Drummonds.net at Barclays</td>\n",
       "      <td>203590 00278289 New Server Ft</td>\n",
       "      <td>2009-05-19</td>\n",
       "      <td>Web Hosting</td>\n",
       "      <td>-745.20</td>\n",
       "      <td>NaN</td>\n",
       "      <td>NaN</td>\n",
       "      <td>15</td>\n",
       "    </tr>\n",
       "    <tr>\n",
       "      <th>3</th>\n",
       "      <td>Drummonds.net at Barclays</td>\n",
       "      <td>Dividend paid to Humphrey Drummond</td>\n",
       "      <td>2009-05-19</td>\n",
       "      <td>Dividend</td>\n",
       "      <td>-4000.00</td>\n",
       "      <td>NaN</td>\n",
       "      <td>NaN</td>\n",
       "      <td>0</td>\n",
       "    </tr>\n",
       "    <tr>\n",
       "      <th>4</th>\n",
       "      <td>Drummonds.net at Barclays</td>\n",
       "      <td>203590 00278289 Hard Disks Serve</td>\n",
       "      <td>2009-05-19</td>\n",
       "      <td>Office Costs</td>\n",
       "      <td>-550.97</td>\n",
       "      <td>NaN</td>\n",
       "      <td>NaN</td>\n",
       "      <td>15</td>\n",
       "    </tr>\n",
       "  </tbody>\n",
       "</table>\n",
       "</div>"
      ],
      "text/plain": [
       "           Bank Account Name                         Description       Date  \\\n",
       "0  Drummonds.net at Barclays  Dividend paid to Humphrey Drummond 2009-04-01   \n",
       "1  Drummonds.net at Barclays  Dividend paid to Humphrey Drummond 2009-05-19   \n",
       "2  Drummonds.net at Barclays       203590 00278289 New Server Ft 2009-05-19   \n",
       "3  Drummonds.net at Barclays  Dividend paid to Humphrey Drummond 2009-05-19   \n",
       "4  Drummonds.net at Barclays    203590 00278289 Hard Disks Serve 2009-05-19   \n",
       "\n",
       "           Type  Gross Value Receipt Reference  Cheque Number  Sales Tax Rate  \n",
       "0      Dividend     -8000.00               NaN            NaN               0  \n",
       "1      Dividend      -450.00               NaN            NaN               0  \n",
       "2   Web Hosting      -745.20               NaN            NaN              15  \n",
       "3      Dividend     -4000.00               NaN            NaN               0  \n",
       "4  Office Costs      -550.97               NaN            NaN              15  "
      ]
     },
     "execution_count": 3,
     "metadata": {},
     "output_type": "execute_result"
    }
   ],
   "source": [
    "df.head()"
   ]
  },
  {
   "cell_type": "code",
   "execution_count": 9,
   "metadata": {
    "collapsed": false
   },
   "outputs": [],
   "source": [
    "transaction_types = list(set(df['Type'].values))"
   ]
  },
  {
   "cell_type": "code",
   "execution_count": 11,
   "metadata": {
    "collapsed": false
   },
   "outputs": [
    {
     "name": "stdout",
     "output_type": "stream",
     "text": [
      "Number of transaction types = 43\n"
     ]
    },
    {
     "data": {
      "text/plain": [
       "['Other Sales Income',\n",
       " 'Net Salary and Bonuses',\n",
       " 'Payment from Director Loan Account',\n",
       " 'Payment to Director Loan Account']"
      ]
     },
     "execution_count": 11,
     "metadata": {},
     "output_type": "execute_result"
    }
   ],
   "source": [
    "print('Number of transaction types = {}'.format(len(transaction_types)))\n",
    "transaction_types[0:4]"
   ]
  },
  {
   "cell_type": "code",
   "execution_count": null,
   "metadata": {
    "collapsed": true
   },
   "outputs": [],
   "source": [
    ""
   ]
  },
  {
   "cell_type": "markdown",
   "metadata": {},
   "source": [
    "## Parse the dataframe by row"
   ]
  },
  {
   "cell_type": "code",
   "execution_count": 13,
   "metadata": {
    "collapsed": false
   },
   "outputs": [
    {
     "name": "stdout",
     "output_type": "stream",
     "text": [
      "Hello\n"
     ]
    }
   ],
   "source": [
    "import sys\n",
    "\n",
    "print('Hello', file=sys.stdout)"
   ]
  },
  {
   "cell_type": "code",
   "execution_count": 14,
   "metadata": {
    "collapsed": false
   },
   "outputs": [],
   "source": [
    "class LedgerDefaults:\n",
    "    \n",
    "    def __init__(self, comment):\n",
    "        self.comment=comment\n",
    "    \n",
    "    def to_print(self, file=sys.stdout):\n",
    "        print('; {}'.format(self.comment))\n",
    "        print('D £1,000,000   ; Default currency is sterling')\n",
    "        \n",
    "\n",
    "class LedgerEntry:\n",
    "    \n",
    "    def __init__(self, date, description, transactions_list={}, commment=''):\n",
    "        self.date= date\n",
    "        self.description = description\n",
    "        self.transactions_list = transactions_list\n",
    "        self.comment=comment\n",
    "    \n",
    "    def to_print(self, file):\n",
    "        print('; {}'.format(self.comment))\n",
    "        print('')"
   ]
  },
  {
   "cell_type": "code",
   "execution_count": 24,
   "metadata": {
    "collapsed": false
   },
   "outputs": [
    {
     "name": "stdout",
     "output_type": "stream",
     "text": [
      "; Export from Freeagent\n",
      "D £1,000,000   ; Default currency is sterling\n",
      "; Dividend (from Freeagent)\n",
      "\n",
      "2009-04-01 00:00:00 Dividend paid to Humphrey Drummond\n",
      "    Assets:Bank  -8000.00\n",
      "    Equity:RetainedProfits  8000.00\n",
      "; Dividend (from Freeagent)\n",
      "\n",
      "2009-05-19 00:00:00 Dividend paid to Humphrey Drummond\n",
      "    Assets:Bank  -450.00\n",
      "    Equity:RetainedProfits  450.00\n",
      "; Dividend (from Freeagent)\n",
      "\n",
      "2009-05-19 00:00:00 Dividend paid to Humphrey Drummond\n",
      "    Assets:Bank  -4000.00\n",
      "    Equity:RetainedProfits  4000.00\n"
     ]
    }
   ],
   "source": [
    "def print_header():\n",
    "    print('; Export from Freeagent')\n",
    "    print('D £1,000,000   ; Default currency is sterling')\n",
    "\n",
    "\n",
    "\n",
    "def bank_entry_to_ledger(idx, row):\n",
    "    # print(\"{} {} |{}|\".format(idx, row['Date'], row['Type']))\n",
    "    if row['Type'] == 'Dividend':\n",
    "        le.comment = 'Dividend (from Freeagent)'\n",
    "        le.transaction= = {'Assets:Bank':row['Gross Value'], 'Equity:RetainedProfits':-p(row['Gross Value'])))\n",
    "    else:\n",
    "        pass\n",
    "        \n",
    "\n",
    "print_header()\n",
    "count = 0\n",
    "for idx, row in df.iterrows():\n",
    "    count +=1\n",
    "    if count < 5:\n",
    "        bank_entry_to_ledger(idx, row)"
   ]
  },
  {
   "cell_type": "code",
   "execution_count": 15,
   "metadata": {
    "collapsed": false
   },
   "outputs": [
    {
     "name": "stdout",
     "output_type": "stream",
     "text": [
      "; Export from Freeagent\n",
      "D £1,000,000   ; Default currency is sterling\n",
      "; Dividend (from Freeagent)\n",
      "\n",
      "2009-04-01 00:00:00 Dividend paid to Humphrey Drummond\n",
      "    Assets:Bank  -8000.00\n",
      "    Equity:RetainedProfits  8000.00\n",
      "; Dividend (from Freeagent)\n",
      "\n",
      "2009-05-19 00:00:00 Dividend paid to Humphrey Drummond\n",
      "    Assets:Bank  -450.00\n",
      "    Equity:RetainedProfits  450.00\n",
      "; Dividend (from Freeagent)\n",
      "\n",
      "2009-05-19 00:00:00 Dividend paid to Humphrey Drummond\n",
      "    Assets:Bank  -4000.00\n",
      "    Equity:RetainedProfits  4000.00\n"
     ]
    }
   ],
   "source": [
    "def bank_entry_to_ledger(idx, row):\n",
    "    le = LedgerEntry(row['Date'], row[]'Description'])\n",
    "    # print(\"{} {} |{}|\".format(idx, row['Date'], row['Type']))\n",
    "    if row['Type'] == 'Dividend':\n",
    "        le = LedgerEntry(row['Date'], row[]'Description'])\n",
    "        ,\n",
    "                        {'Assets:Bank':row['Gross Value']])\n",
    "        \n",
    "        print('; Dividend (from Freeagent)')\n",
    "        print('')\n",
    "        print('{} {}'.format(row['Date'], row['Description']))\n",
    "        print('    Assets:Bank  {}'.format(p(row['Gross Value'])))\n",
    "        print('    Equity:RetainedProfits  {}'.format(-p(row['Gross Value'])))\n",
    "    else:\n",
    "        pass\n",
    "\n",
    "def create_ledger(f, df):\n",
    "    ld = LedgerDefaults('Export from Freeagent')\n",
    "    ld.to_print(f)\n",
    "    count = 0\n",
    "    for idx, row in df.iterrows():\n",
    "        count +=1\n",
    "        if count < 5:\n",
    "            bank_entry_to_ledger(idx, row)\n",
    "\n",
    "create_ledger(sys.stdout, df)"
   ]
  },
  {
   "cell_type": "markdown",
   "metadata": {
    "collapsed": true
   },
   "source": [
    "# Write out a ledger entry\n",
    "\n"
   ]
  }
 ],
 "metadata": {
  "kernelspec": {
   "display_name": "Python 3",
   "language": "python",
   "name": "python3"
  },
  "language_info": {
   "codemirror_mode": {
    "name": "ipython",
    "version": 3.0
   },
   "file_extension": ".py",
   "mimetype": "text/x-python",
   "name": "python",
   "nbconvert_exporter": "python",
   "pygments_lexer": "ipython3",
   "version": "3.5.1"
  }
 },
 "nbformat": 4,
 "nbformat_minor": 0
}