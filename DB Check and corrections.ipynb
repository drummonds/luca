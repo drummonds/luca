{
 "cells": [
  {
   "cell_type": "markdown",
   "metadata": {},
   "source": [
    "# Test trial balance data in database"
   ]
  },
  {
   "cell_type": "code",
   "execution_count": 18,
   "metadata": {
    "collapsed": true
   },
   "outputs": [],
   "source": [
    "import pandas as pd\n",
    "import sqlite3\n",
    "\n",
    "from luca import p, chart_of_accounts_from_db, journal_from_db, TrialBalance"
   ]
  },
  {
   "cell_type": "markdown",
   "metadata": {},
   "source": [
    "# Corrections\n",
    "Some of the data has been input incorrectly and needs correcting.  This is safe to repeat."
   ]
  },
  {
   "cell_type": "code",
   "execution_count": 3,
   "metadata": {
    "collapsed": false
   },
   "outputs": [
    {
     "name": "stdout",
     "output_type": "stream",
     "text": [
      "DELETE FROM trial_balance WHERE period = 'YTD-DEC-15' and code = 6100\n",
      "INSERT INTO trial_balance VALUES ('YTD-DEC-15', 6100, 15590.9)\n",
      "DELETE FROM trial_balance WHERE period = 'YTD-DEC-15' and code = 8414\n",
      "INSERT INTO trial_balance VALUES ('YTD-DEC-15', 8414, 1547.4)\n",
      "DELETE FROM trial_balance WHERE period = 'YTD-JAN-15' and code = 1001\n",
      "INSERT INTO trial_balance VALUES ('YTD-JAN-15', 1001, 362381.7)\n"
     ]
    }
   ],
   "source": [
    "con = sqlite3.connect(\"historic_trial_balances.db\")\n",
    "cursor = con.cursor()\n",
    "for c in [('YTD-DEC-15', 6100, 15590.9, ),  # Error in Excel spreadsheet\n",
    "          ('YTD-DEC-15', 8414, 1547.4, ),   # Error in Excel spreadsheet\n",
    "          ('YTD-JAN-15', 1001, 362381.70, ),  # Unknown error changing fomr 364193.12 to make BS balance\n",
    "         ]:\n",
    "    sql_d = \"DELETE FROM trial_balance WHERE period = '{}' and code = {}\".format(c[0], c[1]) # no unique index so delete \n",
    "    print(sql_d)\n",
    "    cursor.execute(sql_d)\n",
    "    #  multiple versions\n",
    "    sql = \"INSERT INTO trial_balance VALUES ('{}', {}, {})\".format(c[0], c[1], c[2])\n",
    "    print(sql)\n",
    "    cursor.execute(sql)\n",
    "con.commit()\n",
    "con.close()\n"
   ]
  },
  {
   "cell_type": "markdown",
   "metadata": {
    "collapsed": true
   },
   "source": [
    "# Investigate data in database to see if ok"
   ]
  },
  {
   "cell_type": "code",
   "execution_count": 5,
   "metadata": {
    "collapsed": true
   },
   "outputs": [],
   "source": [
    "dbname='historic_trial_balances.db'"
   ]
  },
  {
   "cell_type": "code",
   "execution_count": 19,
   "metadata": {
    "collapsed": false
   },
   "outputs": [],
   "source": [
    "with chart_of_accounts_from_db(dbname) as coa_s:\n",
    "    coa = coa_s.get_chart_of_account('SLF-MA')"
   ]
  },
  {
   "cell_type": "code",
   "execution_count": 26,
   "metadata": {
    "collapsed": false
   },
   "outputs": [
    {
     "data": {
      "text/html": [
       "<div>\n",
       "<table border=\"1\" class=\"dataframe\">\n",
       "  <thead>\n",
       "    <tr style=\"text-align: right;\">\n",
       "      <th></th>\n",
       "      <th>Period</th>\n",
       "    </tr>\n",
       "  </thead>\n",
       "  <tbody>\n",
       "    <tr>\n",
       "      <th>AMTD-APR-15</th>\n",
       "      <td>AMTD-APR-15</td>\n",
       "    </tr>\n",
       "    <tr>\n",
       "      <th>AMTD-APR-16</th>\n",
       "      <td>AMTD-APR-16</td>\n",
       "    </tr>\n",
       "    <tr>\n",
       "      <th>AMTD-AUG-15</th>\n",
       "      <td>AMTD-AUG-15</td>\n",
       "    </tr>\n",
       "    <tr>\n",
       "      <th>AMTD-AUG-16</th>\n",
       "      <td>AMTD-AUG-16</td>\n",
       "    </tr>\n",
       "    <tr>\n",
       "      <th>AMTD-DEC-15</th>\n",
       "      <td>AMTD-DEC-15</td>\n",
       "    </tr>\n",
       "  </tbody>\n",
       "</table>\n",
       "</div>"
      ],
      "text/plain": [
       "                  Period\n",
       "AMTD-APR-15  AMTD-APR-15\n",
       "AMTD-APR-16  AMTD-APR-16\n",
       "AMTD-AUG-15  AMTD-AUG-15\n",
       "AMTD-AUG-16  AMTD-AUG-16\n",
       "AMTD-DEC-15  AMTD-DEC-15"
      ]
     },
     "execution_count": 26,
     "metadata": {},
     "output_type": "execute_result"
    }
   ],
   "source": [
    "con = sqlite3.connect(\"historic_trial_balances.db\")\n",
    "sql = \"SELECT * FROM trial_balance\"\n",
    "df2 = pd.read_sql(sql, con)\n",
    "con.close()\n",
    "df2.tail()\n",
    "periods = list(set(df2['period'].tolist()))\n",
    "periods.sort()\n",
    "df = pd.DataFrame(periods, index=periods, columns=['Period'])\n",
    "df.head()"
   ]
  },
  {
   "cell_type": "code",
   "execution_count": 27,
   "metadata": {
    "collapsed": false
   },
   "outputs": [
    {
     "name": "stdout",
     "output_type": "stream",
     "text": [
      "AMTD-APR-15\n",
      "AMTD-APR-16\n",
      "AMTD-AUG-15\n",
      "AMTD-AUG-16\n"
     ]
    },
    {
     "data": {
      "text/html": [
       "<div>\n",
       "<table border=\"1\" class=\"dataframe\">\n",
       "  <thead>\n",
       "    <tr style=\"text-align: right;\">\n",
       "      <th></th>\n",
       "      <th>Period</th>\n",
       "      <th>Sum</th>\n",
       "      <th>Sales</th>\n",
       "    </tr>\n",
       "  </thead>\n",
       "  <tbody>\n",
       "    <tr>\n",
       "      <th>AMTD-APR-15</th>\n",
       "      <td>AMTD-APR-15</td>\n",
       "      <td>0.00</td>\n",
       "      <td>-390552.68</td>\n",
       "    </tr>\n",
       "    <tr>\n",
       "      <th>AMTD-APR-16</th>\n",
       "      <td>AMTD-APR-16</td>\n",
       "      <td>0.00</td>\n",
       "      <td>-205602.75</td>\n",
       "    </tr>\n",
       "    <tr>\n",
       "      <th>AMTD-AUG-15</th>\n",
       "      <td>AMTD-AUG-15</td>\n",
       "      <td>0.00</td>\n",
       "      <td>-974147.29</td>\n",
       "    </tr>\n",
       "    <tr>\n",
       "      <th>AMTD-AUG-16</th>\n",
       "      <td>AMTD-AUG-16</td>\n",
       "      <td>0.00</td>\n",
       "      <td>-205602.75</td>\n",
       "    </tr>\n",
       "    <tr>\n",
       "      <th>AMTD-DEC-15</th>\n",
       "      <td>AMTD-DEC-15</td>\n",
       "      <td>0.00</td>\n",
       "      <td>-1496178.37</td>\n",
       "    </tr>\n",
       "    <tr>\n",
       "      <th>AMTD-DEC-16</th>\n",
       "      <td>AMTD-DEC-16</td>\n",
       "      <td>0.00</td>\n",
       "      <td>-205602.75</td>\n",
       "    </tr>\n",
       "    <tr>\n",
       "      <th>AMTD-FEB-15</th>\n",
       "      <td>AMTD-FEB-15</td>\n",
       "      <td>0.00</td>\n",
       "      <td>-156580.95</td>\n",
       "    </tr>\n",
       "    <tr>\n",
       "      <th>AMTD-FEB-16</th>\n",
       "      <td>AMTD-FEB-16</td>\n",
       "      <td>0.00</td>\n",
       "      <td>-82969.42</td>\n",
       "    </tr>\n",
       "    <tr>\n",
       "      <th>AMTD-JAN-16</th>\n",
       "      <td>AMTD-JAN-16</td>\n",
       "      <td>0.00</td>\n",
       "      <td>-1656832.85</td>\n",
       "    </tr>\n",
       "    <tr>\n",
       "      <th>AMTD-JAN-17</th>\n",
       "      <td>AMTD-JAN-17</td>\n",
       "      <td>0.00</td>\n",
       "      <td>-205602.75</td>\n",
       "    </tr>\n",
       "    <tr>\n",
       "      <th>AMTD-JUL-15</th>\n",
       "      <td>AMTD-JUL-15</td>\n",
       "      <td>0.00</td>\n",
       "      <td>-785434.11</td>\n",
       "    </tr>\n",
       "    <tr>\n",
       "      <th>AMTD-JUL-16</th>\n",
       "      <td>AMTD-JUL-16</td>\n",
       "      <td>0.00</td>\n",
       "      <td>-205602.75</td>\n",
       "    </tr>\n",
       "    <tr>\n",
       "      <th>AMTD-JUN-15</th>\n",
       "      <td>AMTD-JUN-15</td>\n",
       "      <td>0.00</td>\n",
       "      <td>-618349.87</td>\n",
       "    </tr>\n",
       "    <tr>\n",
       "      <th>AMTD-JUN-16</th>\n",
       "      <td>AMTD-JUN-16</td>\n",
       "      <td>0.00</td>\n",
       "      <td>-205602.75</td>\n",
       "    </tr>\n",
       "    <tr>\n",
       "      <th>AMTD-MAR-15</th>\n",
       "      <td>AMTD-MAR-15</td>\n",
       "      <td>0.00</td>\n",
       "      <td>-275526.15</td>\n",
       "    </tr>\n",
       "    <tr>\n",
       "      <th>AMTD-MAR-16</th>\n",
       "      <td>AMTD-MAR-16</td>\n",
       "      <td>0.00</td>\n",
       "      <td>-183215.40</td>\n",
       "    </tr>\n",
       "    <tr>\n",
       "      <th>AMTD-MAY-15</th>\n",
       "      <td>AMTD-MAY-15</td>\n",
       "      <td>0.00</td>\n",
       "      <td>-498025.91</td>\n",
       "    </tr>\n",
       "    <tr>\n",
       "      <th>AMTD-MAY-16</th>\n",
       "      <td>AMTD-MAY-16</td>\n",
       "      <td>0.00</td>\n",
       "      <td>-205602.75</td>\n",
       "    </tr>\n",
       "    <tr>\n",
       "      <th>AMTD-NOV-15</th>\n",
       "      <td>AMTD-NOV-15</td>\n",
       "      <td>0.00</td>\n",
       "      <td>-1357980.24</td>\n",
       "    </tr>\n",
       "    <tr>\n",
       "      <th>AMTD-NOV-16</th>\n",
       "      <td>AMTD-NOV-16</td>\n",
       "      <td>0.00</td>\n",
       "      <td>-205602.75</td>\n",
       "    </tr>\n",
       "  </tbody>\n",
       "</table>\n",
       "</div>"
      ],
      "text/plain": [
       "                  Period   Sum        Sales\n",
       "AMTD-APR-15  AMTD-APR-15  0.00   -390552.68\n",
       "AMTD-APR-16  AMTD-APR-16  0.00   -205602.75\n",
       "AMTD-AUG-15  AMTD-AUG-15  0.00   -974147.29\n",
       "AMTD-AUG-16  AMTD-AUG-16  0.00   -205602.75\n",
       "AMTD-DEC-15  AMTD-DEC-15  0.00  -1496178.37\n",
       "AMTD-DEC-16  AMTD-DEC-16  0.00   -205602.75\n",
       "AMTD-FEB-15  AMTD-FEB-15  0.00   -156580.95\n",
       "AMTD-FEB-16  AMTD-FEB-16  0.00    -82969.42\n",
       "AMTD-JAN-16  AMTD-JAN-16  0.00  -1656832.85\n",
       "AMTD-JAN-17  AMTD-JAN-17  0.00   -205602.75\n",
       "AMTD-JUL-15  AMTD-JUL-15  0.00   -785434.11\n",
       "AMTD-JUL-16  AMTD-JUL-16  0.00   -205602.75\n",
       "AMTD-JUN-15  AMTD-JUN-15  0.00   -618349.87\n",
       "AMTD-JUN-16  AMTD-JUN-16  0.00   -205602.75\n",
       "AMTD-MAR-15  AMTD-MAR-15  0.00   -275526.15\n",
       "AMTD-MAR-16  AMTD-MAR-16  0.00   -183215.40\n",
       "AMTD-MAY-15  AMTD-MAY-15  0.00   -498025.91\n",
       "AMTD-MAY-16  AMTD-MAY-16  0.00   -205602.75\n",
       "AMTD-NOV-15  AMTD-NOV-15  0.00  -1357980.24\n",
       "AMTD-NOV-16  AMTD-NOV-16  0.00   -205602.75"
      ]
     },
     "execution_count": 27,
     "metadata": {},
     "output_type": "execute_result"
    }
   ],
   "source": [
    "result = []\n",
    "sales = []\n",
    "for i, row in enumerate(df.iterrows()):\n",
    "    if i < 4:\n",
    "        print(row[0])\n",
    "    with journal_from_db(dbname, coa, journal_entry_class=TrialBalance) as js:\n",
    "        tb = js.get_entry(row[0])  # YTD-FEB-15\n",
    "    result.append(tb.sum())\n",
    "    sales.append(tb[4000])\n",
    "df['Sum']=result\n",
    "df['Sales']=sales\n",
    "df.head(20)"
   ]
  },
  {
   "cell_type": "code",
   "execution_count": 28,
   "metadata": {
    "collapsed": false
   },
   "outputs": [
    {
     "data": {
      "text/html": [
       "<div>\n",
       "<table border=\"1\" class=\"dataframe\">\n",
       "  <thead>\n",
       "    <tr style=\"text-align: right;\">\n",
       "      <th></th>\n",
       "      <th>Period</th>\n",
       "      <th>Sum</th>\n",
       "      <th>Sales</th>\n",
       "    </tr>\n",
       "  </thead>\n",
       "  <tbody>\n",
       "    <tr>\n",
       "      <th>AMTD-JAN-16</th>\n",
       "      <td>AMTD-JAN-16</td>\n",
       "      <td>0.00</td>\n",
       "      <td>-1656832.85</td>\n",
       "    </tr>\n",
       "    <tr>\n",
       "      <th>AYTD-JAN-16</th>\n",
       "      <td>AYTD-JAN-16</td>\n",
       "      <td>0.00</td>\n",
       "      <td>-1656832.85</td>\n",
       "    </tr>\n",
       "  </tbody>\n",
       "</table>\n",
       "</div>"
      ],
      "text/plain": [
       "                  Period   Sum        Sales\n",
       "AMTD-JAN-16  AMTD-JAN-16  0.00  -1656832.85\n",
       "AYTD-JAN-16  AYTD-JAN-16  0.00  -1656832.85"
      ]
     },
     "execution_count": 28,
     "metadata": {},
     "output_type": "execute_result"
    }
   ],
   "source": [
    "df.ix[['AMTD-JAN-16', 'AYTD-JAN-16']]"
   ]
  },
  {
   "cell_type": "code",
   "execution_count": 41,
   "metadata": {
    "collapsed": false,
    "scrolled": true
   },
   "outputs": [
    {
     "name": "stdout",
     "output_type": "stream",
     "text": [
      "-----\n",
      ">> OCT-14\n",
      "MTD-OCT-14 -4425.40\n",
      "YTD-OCT-14 -845.03\n",
      "-----\n",
      ">> NOV-14\n",
      "MTD-NOV-14 -3933.83\n",
      "YTD-NOV-14 -0.08\n",
      "-----\n",
      ">> MAR-15\n",
      "MTD-MAR-15 15018.34\n",
      "YTD-MAR-15 4299.19\n",
      "-----\n",
      ">> APR-15\n",
      "MTD-APR-15 14638.51\n",
      "YTD-APR-15 973.55\n",
      "-----\n",
      ">> MAY-15\n",
      "MTD-MAY-15 0.00\n",
      "YTD-MAY-15 0.00\n",
      "-----\n",
      ">> DEC-15\n",
      "MTD-DEC-15 6837.50\n",
      "YTD-DEC-15 -799.00\n"
     ]
    }
   ],
   "source": [
    "for period in ('OCT-14', 'NOV-14', 'MAR-15', 'APR-15', 'MAY-15', 'DEC-15'):\n",
    "    print('-----')\n",
    "    print('>> {}'.format(period))\n",
    "    for prefix in ('MTD-', 'YTD-', ):\n",
    "        tb = prefix + period\n",
    "        con = sqlite3.connect(\"historic_trial_balances.db\")\n",
    "        sql = \"SELECT code as Code, balance as TB FROM trial_balance WHERE period = '{}'\".format(tb)\n",
    "        df1 = pd.read_sql(sql, con, index_col='Code')\n",
    "        con.close()\n",
    "        print('{} {}'.format(tb, p(df1['TB'].sum())))\n",
    "        # print(df1)"
   ]
  },
  {
   "cell_type": "code",
   "execution_count": 29,
   "metadata": {
    "collapsed": false
   },
   "outputs": [
    {
     "data": {
      "text/plain": [
       "Decimal('-6726.90')"
      ]
     },
     "execution_count": 29,
     "metadata": {},
     "output_type": "execute_result"
    }
   ],
   "source": [
    "p(df1['TB'].sum())"
   ]
  },
  {
   "cell_type": "code",
   "execution_count": 39,
   "metadata": {
    "collapsed": false
   },
   "outputs": [
    {
     "name": "stdout",
     "output_type": "stream",
     "text": [
      "              TB\n",
      "Code            \n",
      "4000 -1496178.37\n",
      "4009    34550.90\n",
      "4905    35866.66\n",
      "5000   920189.26\n",
      "6200    26024.18\n",
      "6201     6213.85\n",
      "7000   106124.34\n",
      "7006        0.00\n",
      "7020        0.00\n",
      "7100     8250.00\n",
      "7102    29935.53\n",
      "7103     1038.41\n",
      "7105    10143.92\n",
      "7200      105.00\n",
      "7202    10120.00\n",
      "7204    83511.15\n",
      "7206    16310.95\n",
      "7906        0.00\n",
      "8100        1.21\n",
      "8200     3300.00\n",
      "8201     1123.50\n",
      "8204     1713.29\n",
      "8300     2020.00\n",
      "8310        0.00\n",
      "8400     1375.00\n",
      "8402     5262.99\n",
      "8405    10243.02\n",
      "8408      894.44\n",
      "8410    22220.00\n",
      "8414     4547.40\n",
      "8420   135545.57\n",
      "8424     2769.57\n",
      "8426     7966.54\n",
      "8430     6869.37\n",
      "8433     1235.00\n",
      "8435     1506.38\n",
      "8440     6218.89\n",
      "9999        0.00\n",
      "10      10613.54\n",
      "1001   235986.42\n",
      "1100   277026.42\n",
      "1102        0.00\n",
      "1103    31181.08\n",
      "1115    67841.16\n",
      "1200    87485.92\n",
      "1202    58270.26\n",
      "1203        0.00\n",
      "1204      586.12\n",
      "2100   -13480.90\n",
      "2103  -231405.93\n",
      "2104    26017.94\n",
      "2105        0.00\n",
      "2106        0.00\n",
      "2107    -9308.70\n",
      "2108   -28746.76\n",
      "2109    26316.38\n",
      "2110        0.00\n",
      "2120     -100.00\n",
      "2125  -558690.80\n",
      "6100    15590.90\n"
     ]
    }
   ],
   "source": [
    "print(df1)"
   ]
  },
  {
   "cell_type": "code",
   "execution_count": 12,
   "metadata": {
    "collapsed": false
   },
   "outputs": [
    {
     "data": {
      "text/plain": [
       "TB    13680.95\n",
       "dtype: float64"
      ]
     },
     "execution_count": 12,
     "metadata": {},
     "output_type": "execute_result"
    }
   ],
   "source": [
    "df1[df1.index > 3000].sum()"
   ]
  },
  {
   "cell_type": "code",
   "execution_count": null,
   "metadata": {
    "collapsed": true
   },
   "outputs": [],
   "source": []
  }
 ],
 "metadata": {
  "kernelspec": {
   "display_name": "Python 3",
   "language": "python",
   "name": "python3"
  },
  "language_info": {
   "codemirror_mode": {
    "name": "ipython",
    "version": 3
   },
   "file_extension": ".py",
   "mimetype": "text/x-python",
   "name": "python",
   "nbconvert_exporter": "python",
   "pygments_lexer": "ipython3",
   "version": "3.5.1"
  }
 },
 "nbformat": 4,
 "nbformat_minor": 0
}
