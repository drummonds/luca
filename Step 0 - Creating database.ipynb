{
 "cells": [
  {
   "cell_type": "markdown",
   "metadata": {},
   "source": [
    "# Step 0 Creating the data base\n",
    "Inserting default information\n"
   ]
  },
  {
   "cell_type": "markdown",
   "metadata": {},
   "source": [
    "#### This may not still be relevant"
   ]
  },
  {
   "cell_type": "code",
   "execution_count": 1,
   "metadata": {
    "collapsed": false
   },
   "outputs": [],
   "source": [
    "import sqlite3\n",
    "\n",
    "from settings import *"
   ]
  },
  {
   "cell_type": "code",
   "execution_count": 2,
   "metadata": {
    "collapsed": true
   },
   "outputs": [],
   "source": [
    "class LoadDatabase():\n",
    "    \n",
    "    def __init__(self, dbname, df):\n",
    "        self.conn = sqlite3.connect(dbname)\n",
    "        self.cursor = self.conn.cursor()\n",
    "        self.load_management_chart_of_accounts()\n",
    "        self.cursor.execute('CREATE TABLE IF NOT EXISTS trial_balance (period text, code integer, balance real)')\n",
    "        self.df=df\n",
    "        \n",
    "    def load_management_chart_of_accounts(self):\n",
    "        \"\"\"Assets - Liabilities - OwnersEquity = 0\n",
    "        Asset - Liability - Equity - Income + Expense = 0\n",
    "        \"\"\"\n",
    "        self.cursor.execute('CREATE TABLE IF NOT EXISTS chart_of_accounts (chart text, code integer, name text, category text)')\n",
    "        coa_name = 'SLF-MA'\n",
    "        if self.empty_coa(coa_name):\n",
    "            coa= {'4000': 'Sales',\n",
    "            '4009': 'Discounts Allowed',\n",
    "            '4905': 'Carriage',\n",
    "            '5000': 'Materials Cost',\n",
    "            '5001': 'Material Cost Adjustment',\n",
    "            '6100': 'Commissions',\n",
    "            '6200': 'Sales Manager',\n",
    "            '6201': 'Advertising',\n",
    "            '7000': 'Factory Wages',\n",
    "            '7006': 'Redundancy Costs',\n",
    "            '7020': 'Delapidations Provision',\n",
    "            '7100': 'Factory Gas & Elec',\n",
    "            '7102': 'Packaging',\n",
    "            '7103': 'Machine Repairs',\n",
    "            '7105': 'Works Sundries',\n",
    "            '7200': 'Factory Depreciation',\n",
    "            '7202': 'Factory Insurance',\n",
    "            '7204': 'Factory Rent & Rates',\n",
    "            '7206': 'Factory Salaries',\n",
    "            '7906': 'Exchange Rate Variance',\n",
    "            '8100': 'Bad Debts',\n",
    "            '8200': 'Audit Fees',\n",
    "            '8201': 'Legal/Professional',\n",
    "            '8204': 'Bank Charges/Interest',\n",
    "            '8300': 'Admin Depreciation',\n",
    "            '8310': 'Gain/Loss on Disposal of Assets',\n",
    "            '8400': 'Admin Gas & Electricity',\n",
    "            '8402': 'Admin Insurance',\n",
    "            '8405': 'Motor Running',\n",
    "            '8408': 'Postage',\n",
    "            '8410': 'Admin Rent & Rates',\n",
    "            '8414': 'Repairs/Maint/Bldgs',\n",
    "            '8420': 'Admin Salaries',\n",
    "            '8424': 'Stationary',\n",
    "            '8426': 'Telephone',\n",
    "            '8430': 'Computer/EDI/Internet',\n",
    "            '8433': 'New Product Development',\n",
    "            '8435': 'Admin Travel',\n",
    "            '8440': 'Admin Sundries'}\n",
    "            for k,v in coa.items():\n",
    "                self.cursor.execute(\"INSERT INTO chart_of_accounts (chart, code, name) VALUES ('{}', {}, '{}')\".format(coa_name, k, v))\n",
    "            self.cursor.execute(\"UPDATE chart_of_accounts SET category='Income' WHERE code in (4000)\")\n",
    "            self.cursor.execute(\"UPDATE chart_of_accounts SET category='Expense' WHERE code > 4000\")\n",
    "\n",
    "        \n",
    "    def __enter__(self):\n",
    "        return self\n",
    "\n",
    "    \n",
    "    def __exit__(self, exc_type, exc_value, traceback):\n",
    "        self.commit()\n",
    "        self.close()\n",
    " \n",
    "\n",
    "    def commit(self):\n",
    "        self.conn.commit()\n",
    "\n",
    "        \n",
    "    def close(self):\n",
    "        self.conn.close()\n",
    " \n",
    "\n",
    "    def empty_coa(self, coa):\n",
    "        \"\"\"Check if this chart of management accounts hasn't been entered.\"\"\"\n",
    "        count=self.cursor.execute(\"SELECT COUNT(*) FROM chart_of_accounts WHERE chart='{}'\".format(coa)).fetchone()[0]\n",
    "        return count==0\n",
    "\n",
    "    \n",
    "    def empty(self, period):\n",
    "        \"\"\"Check if not data for period is in database\"\"\"\n",
    "        count=self.cursor.execute(\"SELECT COUNT(*) FROM trial_balance WHERE period='{}'\".format(period)).fetchone()[0]\n",
    "        return count==0\n",
    "\n",
    "    \n",
    "    def load_mtd_to_database(self, period):\n",
    "        if self.empty(period):\n",
    "            s = self.df['PLTD-{}'.format(period)]\n",
    "            l = s.index.tolist()\n",
    "            for i,v in enumerate(s):\n",
    "                code = str(l[i])\n",
    "                # print(l[i], type(l[i]), str(l[i]), v)\n",
    "                # Insert a row of data\n",
    "                if v == '-' or math.isnan(v):\n",
    "                    v = p(0)\n",
    "                else:\n",
    "                    v = p(v)\n",
    "                process_normally = not( (code=='5001' and (v == p(0))))\n",
    "                if process_normally:                \n",
    "                    if code == '4000':\n",
    "                        v = -v\n",
    "                    self.cursor.execute(\"INSERT INTO trial_balance VALUES ('{}', {}, {})\".format(period, code, v))\n",
    "        else:\n",
    "            raise LoadDatabaseError('{} already is in MTD database'.format(period))"
   ]
  },
  {
   "cell_type": "markdown",
   "metadata": {},
   "source": [
    "## Extending the database definition\n",
    "Want to have a summary table for each set of trial balances.  This should have some text such as what do the suffixes mean.\n",
    "Perhaps Inception data shoul\n",
    "Each Entry should have more information such as Period start and end, Balance sheet start and end"
   ]
  },
  {
   "cell_type": "code",
   "execution_count": 4,
   "metadata": {
    "collapsed": false
   },
   "outputs": [
    {
     "name": "stdout",
     "output_type": "stream",
     "text": [
      "Insert company data for Slumberfleece\n",
      "INSERT INTO company \n",
      "(name, description, inception_date, extra_data, company_number)\n",
      "VALUES('Slumberfleece', '# Slumberfleece Trial Balance Information\n",
      "This is a list of the trial balance naming convention used.',\n",
      "       '1988-03-24', '---\n",
      "- Slumberfleece  # Place to store additional info.\n",
      "...\n",
      "', '02235270')\n"
     ]
    },
    {
     "ename": "OperationalError",
     "evalue": "database is locked",
     "traceback": [
      "\u001b[1;31m---------------------------------------------------------------------------\u001b[0m",
      "\u001b[1;31mOperationalError\u001b[0m                          Traceback (most recent call last)",
      "\u001b[1;32m<ipython-input-4-8216c8c8e621>\u001b[0m in \u001b[0;36m<module>\u001b[1;34m()\u001b[0m\n\u001b[0;32m     20\u001b[0m                     company, number, inception_date)\n\u001b[0;32m     21\u001b[0m         \u001b[0mprint\u001b[0m\u001b[1;33m(\u001b[0m\u001b[0msql\u001b[0m\u001b[1;33m)\u001b[0m\u001b[1;33m\u001b[0m\u001b[0m\n\u001b[1;32m---> 22\u001b[1;33m         \u001b[0mcursor\u001b[0m\u001b[1;33m.\u001b[0m\u001b[0mexecute\u001b[0m\u001b[1;33m(\u001b[0m\u001b[0msql\u001b[0m\u001b[1;33m)\u001b[0m\u001b[1;33m\u001b[0m\u001b[0m\n\u001b[0m\u001b[0;32m     23\u001b[0m \u001b[0mconn\u001b[0m\u001b[1;33m.\u001b[0m\u001b[0mcommit\u001b[0m\u001b[1;33m\u001b[0m\u001b[0m\n\u001b[0;32m     24\u001b[0m \u001b[0mconn\u001b[0m\u001b[1;33m.\u001b[0m\u001b[0mclose\u001b[0m\u001b[1;33m\u001b[0m\u001b[0m\n",
      "\u001b[1;31mOperationalError\u001b[0m: database is locked"
     ],
     "output_type": "error"
    }
   ],
   "source": [
    "conn = sqlite3.connect(dbname)\n",
    "cursor = conn.cursor()\n",
    "cursor.execute(\"\"\"CREATE TABLE IF NOT EXISTS company \n",
    "(name text, description text, inception_date text, extra_data text, company_number text)\"\"\")\n",
    "\n",
    "def empty(company):\n",
    "    \"\"\"Check if this chart of management accounts hasn't been entered.\"\"\"\n",
    "    count=cursor.execute(\"SELECT COUNT(*) FROM company WHERE name='{}'\".format(company)).fetchone()[0]\n",
    "    return count==0\n",
    "\n",
    "default = [('Slumberfleece', '02235270', '1988-03-24')]\n",
    "\n",
    "for company, number, inception_date in default:\n",
    "    if empty(company):\n",
    "        print('Insert company data for {}'.format(company))\n",
    "        sql = \"\"\"INSERT INTO company \n",
    "(name, description, inception_date, extra_data, company_number)\n",
    "VALUES('{0}', '# {0} Trial Balance Information\\nThis is a list of the trial balance naming convention used.',\n",
    "       '{2}', '---\\n- {0}  # Place to store additional info.\\n...\\n', '{1}')\"\"\".format(\n",
    "                    company, number, inception_date)\n",
    "        print(sql)\n",
    "        cursor.execute(sql)\n",
    "conn.commit\n",
    "conn.close"
   ]
  },
  {
   "cell_type": "code",
   "execution_count": null,
   "metadata": {
    "collapsed": true
   },
   "outputs": [],
   "source": [
    ""
   ]
  }
 ],
 "metadata": {
  "kernelspec": {
   "display_name": "Python 3",
   "language": "python",
   "name": "python3"
  },
  "language_info": {
   "codemirror_mode": {
    "name": "ipython",
    "version": 3.0
   },
   "file_extension": ".py",
   "mimetype": "text/x-python",
   "name": "python",
   "nbconvert_exporter": "python",
   "pygments_lexer": "ipython3",
   "version": "3.5.1"
  }
 },
 "nbformat": 4,
 "nbformat_minor": 0
}