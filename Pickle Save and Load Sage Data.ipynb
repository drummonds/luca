{
 "cells": [
  {
   "cell_type": "markdown",
   "metadata": {},
   "source": [
    "# Pickle Sage Data\n",
    "Extract all the data and then pickle it so that it can be used on another system easily.\n",
    "Then test the pickled data to generated transaction trial balances."
   ]
  },
  {
   "cell_type": "code",
   "execution_count": 1,
   "metadata": {
    "collapsed": false
   },
   "outputs": [
    {
     "name": "stdout",
     "output_type": "stream",
     "text": [
      "56792\n"
     ]
    },
    {
     "data": {
      "text/html": [
       "<div>\n",
       "<table border=\"1\" class=\"dataframe\">\n",
       "  <thead>\n",
       "    <tr style=\"text-align: right;\">\n",
       "      <th></th>\n",
       "      <th>TRAN_NUMBER</th>\n",
       "      <th>TYPE</th>\n",
       "      <th>DATE</th>\n",
       "      <th>ACCOUNT_REF</th>\n",
       "      <th>ALT_REF</th>\n",
       "      <th>INV_REF</th>\n",
       "      <th>DETAILS</th>\n",
       "      <th>TAX_CODE</th>\n",
       "      <th>AMOUNT</th>\n",
       "      <th>FOREIGN_AMOUNT</th>\n",
       "      <th>BANK_FLAG</th>\n",
       "      <th>DATE_BANK_RECONCILED</th>\n",
       "    </tr>\n",
       "  </thead>\n",
       "  <tbody>\n",
       "    <tr>\n",
       "      <th>0</th>\n",
       "      <td>1</td>\n",
       "      <td>SI</td>\n",
       "      <td>2015-02-03</td>\n",
       "      <td>1100</td>\n",
       "      <td>X458</td>\n",
       "      <td>55774</td>\n",
       "      <td>SGL  S/F COTTON TOPPER</td>\n",
       "      <td>T1</td>\n",
       "      <td>64.44</td>\n",
       "      <td>64.44</td>\n",
       "      <td>-</td>\n",
       "      <td>NaN</td>\n",
       "    </tr>\n",
       "    <tr>\n",
       "      <th>1</th>\n",
       "      <td>2</td>\n",
       "      <td>SI</td>\n",
       "      <td>2015-02-03</td>\n",
       "      <td>1100</td>\n",
       "      <td>X458</td>\n",
       "      <td>55774</td>\n",
       "      <td>KNG S/F COTTON TOPPER</td>\n",
       "      <td>T1</td>\n",
       "      <td>80.10</td>\n",
       "      <td>80.10</td>\n",
       "      <td>-</td>\n",
       "      <td>NaN</td>\n",
       "    </tr>\n",
       "  </tbody>\n",
       "</table>\n",
       "</div>"
      ],
      "text/plain": [
       "   TRAN_NUMBER TYPE       DATE  ACCOUNT_REF ALT_REF INV_REF  \\\n",
       "0            1   SI 2015-02-03         1100    X458   55774   \n",
       "1            2   SI 2015-02-03         1100    X458   55774   \n",
       "\n",
       "                  DETAILS TAX_CODE  AMOUNT  FOREIGN_AMOUNT BANK_FLAG  \\\n",
       "0  SGL  S/F COTTON TOPPER       T1   64.44           64.44         -   \n",
       "1   KNG S/F COTTON TOPPER       T1   80.10           80.10         -   \n",
       "\n",
       "  DATE_BANK_RECONCILED  \n",
       "0                  NaN  \n",
       "1                  NaN  "
      ]
     },
     "execution_count": 1,
     "metadata": {},
     "output_type": "execute_result"
    }
   ],
   "source": [
    "import datetime as dt\n",
    "\n",
    "from h3_yearend import p\n",
    "from report import SageData\n",
    "\n",
    "sage_2015 = SageData(2015)\n",
    "df = sage_2015.df\n",
    "print(len(df))\n",
    "df.head(2)"
   ]
  },
  {
   "cell_type": "code",
   "execution_count": 2,
   "metadata": {
    "collapsed": true
   },
   "outputs": [],
   "source": [
    "import pickle\n",
    "pickle.dump(sage_2015, open('sage2015.pickle', 'wb'))"
   ]
  },
  {
   "cell_type": "code",
   "execution_count": null,
   "metadata": {
    "collapsed": true
   },
   "outputs": [],
   "source": []
  },
  {
   "cell_type": "code",
   "execution_count": null,
   "metadata": {
    "collapsed": true
   },
   "outputs": [],
   "source": []
  },
  {
   "cell_type": "markdown",
   "metadata": {
    "collapsed": true
   },
   "source": [
    "# Get transaction trial balance"
   ]
  },
  {
   "cell_type": "code",
   "execution_count": 8,
   "metadata": {
    "collapsed": false
   },
   "outputs": [
    {
     "data": {
      "text/plain": [
       "ACCOUNT_REF\n",
       "30         687.54\n",
       "1001    -74899.48\n",
       "1100    124204.64\n",
       "1104         0.00\n",
       "1115      1479.20\n",
       "dtype: object"
      ]
     },
     "execution_count": 8,
     "metadata": {},
     "output_type": "execute_result"
    }
   ],
   "source": [
    "tb = sage_2015.transactional_trial_balance(dt.date(2015, 1, 1), dt.date(2016, 1, 31))\n",
    "tb.head()"
   ]
  },
  {
   "cell_type": "code",
   "execution_count": 7,
   "metadata": {
    "collapsed": false
   },
   "outputs": [],
   "source": [
    "assert tb.sum() == p(0)"
   ]
  },
  {
   "cell_type": "code",
   "execution_count": null,
   "metadata": {
    "collapsed": true
   },
   "outputs": [],
   "source": []
  }
 ],
 "metadata": {
  "kernelspec": {
   "display_name": "Python 3",
   "language": "python",
   "name": "python3"
  },
  "language_info": {
   "codemirror_mode": {
    "name": "ipython",
    "version": 3
   },
   "file_extension": ".py",
   "mimetype": "text/x-python",
   "name": "python",
   "nbconvert_exporter": "python",
   "pygments_lexer": "ipython3",
   "version": "3.5.1"
  }
 },
 "nbformat": 4,
 "nbformat_minor": 0
}
