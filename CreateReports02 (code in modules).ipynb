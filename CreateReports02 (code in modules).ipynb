{
 "cells": [
  {
   "cell_type": "markdown",
   "metadata": {},
   "source": [
    "# Development of create Excel Management accounts \n",
    "This is the first phase to create a template."
   ]
  },
  {
   "cell_type": "code",
   "execution_count": 1,
   "metadata": {
    "collapsed": false
   },
   "outputs": [],
   "source": [
    "import datetime as dt\n",
    "import pandas as pd\n",
    "\n",
    "import report"
   ]
  },
  {
   "cell_type": "code",
   "execution_count": 2,
   "metadata": {
    "collapsed": false,
    "scrolled": true
   },
   "outputs": [
    {
     "name": "stdout",
     "output_type": "stream",
     "text": [
      "fixed = [13950.0, 10004.049999999999]\n",
      "net current [693640.98999999999, 639991.31000000006]\n",
      "long_term_liabilities = [235302.0, 235607.48999999999]\n"
     ]
    },
    {
     "data": {
      "text/html": [
       "<div>\n",
       "<table border=\"1\" class=\"dataframe\">\n",
       "  <thead>\n",
       "    <tr style=\"text-align: right;\">\n",
       "      <th></th>\n",
       "      <th>TB</th>\n",
       "    </tr>\n",
       "    <tr>\n",
       "      <th>Code</th>\n",
       "      <th></th>\n",
       "    </tr>\n",
       "  </thead>\n",
       "  <tbody>\n",
       "    <tr>\n",
       "      <th>8430</th>\n",
       "      <td>310.97</td>\n",
       "    </tr>\n",
       "    <tr>\n",
       "      <th>8433</th>\n",
       "      <td>75.00</td>\n",
       "    </tr>\n",
       "    <tr>\n",
       "      <th>8435</th>\n",
       "      <td>573.59</td>\n",
       "    </tr>\n",
       "    <tr>\n",
       "      <th>8440</th>\n",
       "      <td>368.91</td>\n",
       "    </tr>\n",
       "    <tr>\n",
       "      <th>9999</th>\n",
       "      <td>0.00</td>\n",
       "    </tr>\n",
       "  </tbody>\n",
       "</table>\n",
       "</div>"
      ],
      "text/plain": [
       "          TB\n",
       "Code        \n",
       "8430  310.97\n",
       "8433   75.00\n",
       "8435  573.59\n",
       "8440  368.91\n",
       "9999    0.00"
      ]
     },
     "execution_count": 2,
     "metadata": {},
     "output_type": "execute_result"
    }
   ],
   "source": [
    "rep = report.PeriodReport(dt.datetime(2014,10,1), \"historic_trial_balances.db\")\n",
    "emr = report.ExcelManagementReport()\n",
    "emr.create_one_report(rep)\n",
    "rep.prior_mtd.tail()"
   ]
  },
  {
   "cell_type": "markdown",
   "metadata": {},
   "source": [
    "# Create a range of reports\n",
    "Create a monthly time series and then a time period"
   ]
  },
  {
   "cell_type": "code",
   "execution_count": 3,
   "metadata": {
    "collapsed": false
   },
   "outputs": [
    {
     "name": "stdout",
     "output_type": "stream",
     "text": [
      "2015-01-31 00:00:00\n",
      "fixed = [9926.0, 3979.0500000000002]\n",
      "net current [783542.25999999989, 770564.14999999991]\n",
      "long_term_liabilities = [235301.85000000001, 235607.48999999999]\n",
      "2015-02-28 00:00:00\n",
      "fixed = [9926.0, 3979.0500000000002]\n",
      "net current [796495.83999999985, 759854.84999999998]\n",
      "long_term_liabilities = [235301.85000000001, 235607.48999999999]\n",
      "2015-03-31 00:00:00\n",
      "fixed = [10613.540000000001, 3979.0500000000002]\n",
      "net current [780789.95999999973, 744060.51000000001]\n",
      "long_term_liabilities = [235301.85000000001, 235607.48999999999]\n",
      "2015-04-30 00:00:00\n",
      "fixed = [10613.540000000001, 4979.4200000000001]\n",
      "net current [766151.44999999995, 732131.84999999986]\n",
      "long_term_liabilities = [235301.85000000001, 235301.85000000001]\n",
      "2015-05-31 00:00:00\n",
      "fixed = [0, 4979.4200000000001]\n",
      "net current [0, 718603.83999999985]\n",
      "long_term_liabilities = [0, 235301.85000000001]\n",
      "2015-06-30 00:00:00\n",
      "fixed = [0, 4979.4200000000001]\n",
      "net current [0, 723929.86999999988]\n",
      "long_term_liabilities = [0, 235301.85000000001]\n",
      "2015-07-31 00:00:00\n",
      "fixed = [0, 7491.6800000000003]\n",
      "net current [0, 718816.70999999996]\n",
      "long_term_liabilities = [0, 235301.85000000001]\n",
      "2015-08-31 00:00:00\n",
      "fixed = [0, 7491.6800000000003]\n",
      "net current [0, 710373.09999999986]\n",
      "long_term_liabilities = [0, 235301.85000000001]\n",
      "2015-09-30 00:00:00\n",
      "fixed = [0, 8001.25]\n",
      "net current [0, 722374.32999999996]\n",
      "long_term_liabilities = [0, 235301.85000000001]\n",
      "2015-10-31 00:00:00\n",
      "fixed = [0, 13950.0]\n",
      "net current [0, 693640.98999999999]\n",
      "long_term_liabilities = [0, 235302.0]\n",
      "2015-11-30 00:00:00\n",
      "fixed = [0, 13950.0]\n",
      "net current [0, 697395.00000000012]\n",
      "long_term_liabilities = [0, 235302.0]\n",
      "2015-12-31 00:00:00\n",
      "fixed = [10613.540000000001, 13949.530000000001]\n",
      "net current [759175.33999999997, 700364.9700000002]\n",
      "long_term_liabilities = [231405.92999999999, 235302.0]\n",
      "2016-01-31 00:00:00\n",
      "fixed = [0, 9926.0]\n",
      "net current [0, 783542.25999999989]\n",
      "long_term_liabilities = [0, 235301.85000000001]\n",
      "2016-02-29 00:00:00\n",
      "fixed = [0, 9926.0]\n",
      "net current [0, 796495.83999999985]\n",
      "long_term_liabilities = [0, 235301.85000000001]\n",
      "2016-03-31 00:00:00\n",
      "fixed = [0, 10613.540000000001]\n",
      "net current [0, 780789.95999999973]\n",
      "long_term_liabilities = [0, 235301.85000000001]\n"
     ]
    }
   ],
   "source": [
    "emr.open()\n",
    "rng = pd.date_range('2015-01-01', periods=15, freq='M').tolist()\n",
    "for month in rng:\n",
    "    print(month)\n",
    "    rep = report.PeriodReport(month, \"historic_trial_balances.db\")\n",
    "    emr.add_sheet_pnl(rep)\n",
    "    emr.add_sheet_bs(rep)\n",
    "emr.close()"
   ]
  },
  {
   "cell_type": "code",
   "execution_count": null,
   "metadata": {
    "collapsed": true
   },
   "outputs": [],
   "source": [
    ""
   ]
  }
 ],
 "metadata": {
  "kernelspec": {
   "display_name": "Python 3",
   "language": "python",
   "name": "python3"
  },
  "language_info": {
   "codemirror_mode": {
    "name": "ipython",
    "version": 3.0
   },
   "file_extension": ".py",
   "mimetype": "text/x-python",
   "name": "python",
   "nbconvert_exporter": "python",
   "pygments_lexer": "ipython3",
   "version": "3.5.1"
  }
 },
 "nbformat": 4,
 "nbformat_minor": 0
}