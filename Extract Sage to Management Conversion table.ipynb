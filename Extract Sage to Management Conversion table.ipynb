{
 "cells": [
  {
   "cell_type": "markdown",
   "metadata": {},
   "source": [
    "# Extract Sage to Management conversion table\n",
    "Read the old conversion matrix and extract a list.\n",
    "Aim to make this a readable output format which is proably a list of lists or dictionary of lists.  The Key will be the output nominal code and the value will be a list of the input nominal codes.  It should perhaps be put into a seperate class so that the test code can be associated with it.\n"
   ]
  },
  {
   "cell_type": "code",
   "execution_count": 1,
   "metadata": {
    "collapsed": false
   },
   "outputs": [
    {
     "name": "stdout",
     "output_type": "stream",
     "text": [
      "['RPT MGT BS', 'BS Fut']\n"
     ]
    }
   ],
   "source": [
    "import math\n",
    "import pandas as pd\n",
    "import sqlite3\n",
    "\n",
    "from h3_yearend import p\n",
    "\n",
    "fn = r'Z:\\Accounts\\MGT-ACCTS\\2016-03\\2016-03 ManagementAccounts.xlsm'\n",
    "xl = pd.ExcelFile(fn)\n",
    "print(xl.sheet_names[-2:])"
   ]
  },
  {
   "cell_type": "markdown",
   "metadata": {},
   "source": [
    "### Read P&L data"
   ]
  },
  {
   "cell_type": "code",
   "execution_count": 14,
   "metadata": {
    "collapsed": false
   },
   "outputs": [
    {
     "data": {
      "text/html": [
       "<div>\n",
       "<table border=\"1\" class=\"dataframe\">\n",
       "  <thead>\n",
       "    <tr style=\"text-align: right;\">\n",
       "      <th></th>\n",
       "      <th>20</th>\n",
       "      <th>21</th>\n",
       "      <th>30</th>\n",
       "      <th>31</th>\n",
       "      <th>40</th>\n",
       "      <th>41</th>\n",
       "      <th>1001</th>\n",
       "      <th>1004</th>\n",
       "      <th>1100</th>\n",
       "      <th>1101</th>\n",
       "      <th>...</th>\n",
       "      <th>8420</th>\n",
       "      <th>8421</th>\n",
       "      <th>8424</th>\n",
       "      <th>8426</th>\n",
       "      <th>8430</th>\n",
       "      <th>8433</th>\n",
       "      <th>8435</th>\n",
       "      <th>8440</th>\n",
       "      <th>9998</th>\n",
       "      <th>9999</th>\n",
       "    </tr>\n",
       "  </thead>\n",
       "  <tbody>\n",
       "    <tr>\n",
       "      <th>10</th>\n",
       "      <td>1</td>\n",
       "      <td>1</td>\n",
       "      <td>1</td>\n",
       "      <td>1</td>\n",
       "      <td>1</td>\n",
       "      <td>1</td>\n",
       "      <td>0</td>\n",
       "      <td>0</td>\n",
       "      <td>0</td>\n",
       "      <td>0</td>\n",
       "      <td>...</td>\n",
       "      <td>0</td>\n",
       "      <td>0</td>\n",
       "      <td>0</td>\n",
       "      <td>0</td>\n",
       "      <td>0</td>\n",
       "      <td>0</td>\n",
       "      <td>0</td>\n",
       "      <td>0</td>\n",
       "      <td>0</td>\n",
       "      <td>0</td>\n",
       "    </tr>\n",
       "    <tr>\n",
       "      <th>1001</th>\n",
       "      <td>0</td>\n",
       "      <td>0</td>\n",
       "      <td>0</td>\n",
       "      <td>0</td>\n",
       "      <td>0</td>\n",
       "      <td>0</td>\n",
       "      <td>1</td>\n",
       "      <td>1</td>\n",
       "      <td>0</td>\n",
       "      <td>0</td>\n",
       "      <td>...</td>\n",
       "      <td>0</td>\n",
       "      <td>0</td>\n",
       "      <td>0</td>\n",
       "      <td>0</td>\n",
       "      <td>0</td>\n",
       "      <td>0</td>\n",
       "      <td>0</td>\n",
       "      <td>0</td>\n",
       "      <td>0</td>\n",
       "      <td>0</td>\n",
       "    </tr>\n",
       "    <tr>\n",
       "      <th>1100</th>\n",
       "      <td>0</td>\n",
       "      <td>0</td>\n",
       "      <td>0</td>\n",
       "      <td>0</td>\n",
       "      <td>0</td>\n",
       "      <td>0</td>\n",
       "      <td>0</td>\n",
       "      <td>0</td>\n",
       "      <td>1</td>\n",
       "      <td>1</td>\n",
       "      <td>...</td>\n",
       "      <td>0</td>\n",
       "      <td>0</td>\n",
       "      <td>0</td>\n",
       "      <td>0</td>\n",
       "      <td>0</td>\n",
       "      <td>0</td>\n",
       "      <td>0</td>\n",
       "      <td>0</td>\n",
       "      <td>0</td>\n",
       "      <td>0</td>\n",
       "    </tr>\n",
       "    <tr>\n",
       "      <th>1102</th>\n",
       "      <td>0</td>\n",
       "      <td>0</td>\n",
       "      <td>0</td>\n",
       "      <td>0</td>\n",
       "      <td>0</td>\n",
       "      <td>0</td>\n",
       "      <td>0</td>\n",
       "      <td>0</td>\n",
       "      <td>0</td>\n",
       "      <td>0</td>\n",
       "      <td>...</td>\n",
       "      <td>0</td>\n",
       "      <td>0</td>\n",
       "      <td>0</td>\n",
       "      <td>0</td>\n",
       "      <td>0</td>\n",
       "      <td>0</td>\n",
       "      <td>0</td>\n",
       "      <td>0</td>\n",
       "      <td>0</td>\n",
       "      <td>0</td>\n",
       "    </tr>\n",
       "    <tr>\n",
       "      <th>1103</th>\n",
       "      <td>0</td>\n",
       "      <td>0</td>\n",
       "      <td>0</td>\n",
       "      <td>0</td>\n",
       "      <td>0</td>\n",
       "      <td>0</td>\n",
       "      <td>0</td>\n",
       "      <td>0</td>\n",
       "      <td>0</td>\n",
       "      <td>0</td>\n",
       "      <td>...</td>\n",
       "      <td>0</td>\n",
       "      <td>0</td>\n",
       "      <td>0</td>\n",
       "      <td>0</td>\n",
       "      <td>0</td>\n",
       "      <td>0</td>\n",
       "      <td>0</td>\n",
       "      <td>0</td>\n",
       "      <td>0</td>\n",
       "      <td>0</td>\n",
       "    </tr>\n",
       "  </tbody>\n",
       "</table>\n",
       "<p>5 rows × 96 columns</p>\n",
       "</div>"
      ],
      "text/plain": [
       "      20    21    30    31    40    41    1001  1004  1100  1101  ...   8420  \\\n",
       "10       1     1     1     1     1     1     0     0     0     0  ...      0   \n",
       "1001     0     0     0     0     0     0     1     1     0     0  ...      0   \n",
       "1100     0     0     0     0     0     0     0     0     1     1  ...      0   \n",
       "1102     0     0     0     0     0     0     0     0     0     0  ...      0   \n",
       "1103     0     0     0     0     0     0     0     0     0     0  ...      0   \n",
       "\n",
       "      8421  8424  8426  8430  8433  8435  8440  9998  9999  \n",
       "10       0     0     0     0     0     0     0     0     0  \n",
       "1001     0     0     0     0     0     0     0     0     0  \n",
       "1100     0     0     0     0     0     0     0     0     0  \n",
       "1102     0     0     0     0     0     0     0     0     0  \n",
       "1103     0     0     0     0     0     0     0     0     0  \n",
       "\n",
       "[5 rows x 96 columns]"
      ]
     },
     "execution_count": 14,
     "metadata": {},
     "output_type": "execute_result"
    }
   ],
   "source": [
    "df = pd.read_excel(xl, 'TX-MIS', skiprows=3, parse_cols='D:BM', index_col=0).transpose()\n",
    "#df.index.names = ['Code']\n",
    "df.head()"
   ]
  },
  {
   "cell_type": "code",
   "execution_count": 15,
   "metadata": {
    "collapsed": false
   },
   "outputs": [
    {
     "data": {
      "text/plain": [
       "array([  10, 1001, 1100, 1102, 1103, 1115, 1200, 1202, 1203, 1204, 2100,\n",
       "       2103, 2104, 2105, 2106, 2107, 2108, 2109, 2110, 2120, 2125, 2126,\n",
       "       4000, 4009, 4905, 5000, 5001, 6100, 6200, 6201, 7000, 7006, 7020,\n",
       "       7100, 7102, 7103, 7105, 7200, 7202, 7204, 7206, 7906, 8100, 8200,\n",
       "       8201, 8204, 8300, 8310, 8400, 8402, 8405, 8408, 8410, 8414, 8420,\n",
       "       8424, 8426, 8430, 8433, 8435, 8440], dtype=int64)"
      ]
     },
     "execution_count": 15,
     "metadata": {},
     "output_type": "execute_result"
    }
   ],
   "source": [
    "df.index.values"
   ]
  },
  {
   "cell_type": "code",
   "execution_count": 16,
   "metadata": {
    "collapsed": false
   },
   "outputs": [
    {
     "data": {
      "text/plain": [
       "array([  20,   21,   30,   31,   40,   41, 1001, 1004, 1100, 1101, 1102,\n",
       "       1104, 1110, 1115, 1117, 1120, 1200, 1205, 1207, 1210, 1212, 1220,\n",
       "       1230, 1232, 1240, 1250, 1252, 1254, 1256, 1260, 1262, 1263, 2100,\n",
       "       2101, 2102, 2105, 2108, 2109, 2200, 2201, 2202, 2204, 2210, 2211,\n",
       "       2220, 2320, 3000, 3200, 3210, 4000, 4009, 4905, 5000, 5001, 6100,\n",
       "       6200, 6201, 7000, 7006, 7020, 7100, 7102, 7103, 7105, 7200, 7202,\n",
       "       7204, 7206, 7503, 7604, 7901, 7906, 8100, 8102, 8200, 8201, 8204,\n",
       "       8300, 8301, 8310, 8400, 8402, 8405, 8408, 8410, 8414, 8420, 8421,\n",
       "       8424, 8426, 8430, 8433, 8435, 8440, 9998, 9999], dtype=int64)"
      ]
     },
     "execution_count": 16,
     "metadata": {},
     "output_type": "execute_result"
    }
   ],
   "source": [
    "df.columns.values"
   ]
  },
  {
   "cell_type": "code",
   "execution_count": 56,
   "metadata": {
    "collapsed": false
   },
   "outputs": [
    {
     "name": "stdout",
     "output_type": "stream",
     "text": [
      "   {\n",
      "     10: (20, 21, 30, 31, 40, 41, ),\n",
      "     1001: (1001, 1004, 1254, 1256, 7906, ),\n",
      "     1100: (1100, 1101, ),\n",
      "     1102: (1102, ),\n",
      "     1103: (1110, 1120, ),\n",
      "     1115: (1104, 1115, 1117, ),\n",
      "     1200: (1200, 1205, 1240, 1250, 1260, 1262, 1263, 9998, 9999, ),\n",
      "     1202: (1207, 1210, 1212, 1252, ),\n",
      "     1203: (1220, ),\n",
      "     1204: (1230, 1232, ),\n",
      "     2100: (2100, 2220, ),\n",
      "     2103: (2101, ),\n",
      "     2104: (2102, ),\n",
      "     2105: (2105, ),\n",
      "     2106: (2320, ),\n",
      "     2107: (2210, 2211, ),\n",
      "     2108: (2200, 2201, 2202, 2204, ),\n",
      "     2109: (2109, ),\n",
      "     2110: (2108, ),\n",
      "     2120: (3000, ),\n",
      "     2125: (3210, ),\n",
      "     2126: (3200, ),\n",
      "     4000: (4000, ),\n",
      "     4009: (4009, ),\n",
      "     4905: (4905, ),\n",
      "     5000: (5000, ),\n",
      "     5001: (5001, ),\n",
      "     6100: (6100, ),\n",
      "     6200: (6200, ),\n",
      "     6201: (6201, ),\n",
      "     7000: (7000, ),\n",
      "     7006: (7006, ),\n",
      "     7020: (7020, ),\n",
      "     7100: (7100, ),\n",
      "     7102: (7102, ),\n",
      "     7103: (7103, ),\n",
      "     7105: (7105, ),\n",
      "     7200: (7200, ),\n",
      "     7202: (7202, ),\n",
      "     7204: (7204, ),\n",
      "     7206: (7206, ),\n",
      "     7906: (),\n",
      "     8100: (8100, 8102, ),\n",
      "     8200: (8200, ),\n",
      "     8201: (7604, 8201, ),\n",
      "     8204: (7901, 8204, ),\n",
      "     8300: (8300, ),\n",
      "     8310: (8310, ),\n",
      "     8400: (8400, ),\n",
      "     8402: (8402, ),\n",
      "     8405: (8301, 8405, ),\n",
      "     8408: (8408, ),\n",
      "     8410: (8410, ),\n",
      "     8414: (8414, ),\n",
      "     8420: (8420, 8421, ),\n",
      "     8424: (8424, ),\n",
      "     8426: (8426, ),\n",
      "     8430: (8430, ),\n",
      "     8433: (8433, ),\n",
      "     8435: (8435, ),\n",
      "     8440: (7503, 8440, ),\n",
      "    }\n"
     ]
    }
   ],
   "source": [
    "def collect(row):\n",
    "    management_nc = row[0]\n",
    "    this_series =  row[1]\n",
    "    result = ''\n",
    "    for k, v in this_series.iteritems():\n",
    "        if v > 0:\n",
    "            result += '{}, '.format(k)\n",
    "    print('     {}: ({}),'.format(management_nc, result))\n",
    "\n",
    "print('   {')\n",
    "for row in df.iterrows():\n",
    "    collect(row)\n",
    "print('    }')\n"
   ]
  },
  {
   "cell_type": "code",
   "execution_count": 34,
   "metadata": {
    "collapsed": false
   },
   "outputs": [
    {
     "data": {
      "text/plain": [
       "pandas.core.series.Series"
      ]
     },
     "execution_count": 34,
     "metadata": {},
     "output_type": "execute_result"
    }
   ],
   "source": [
    "type(r[1])"
   ]
  },
  {
   "cell_type": "code",
   "execution_count": 36,
   "metadata": {
    "collapsed": true
   },
   "outputs": [],
   "source": [
    "s = r[1]"
   ]
  },
  {
   "cell_type": "code",
   "execution_count": 39,
   "metadata": {
    "collapsed": false
   },
   "outputs": [
    {
     "data": {
      "text/plain": [
       "0"
      ]
     },
     "execution_count": 39,
     "metadata": {},
     "output_type": "execute_result"
    }
   ],
   "source": [
    "s.iloc[0]"
   ]
  },
  {
   "cell_type": "code",
   "execution_count": 50,
   "metadata": {
    "collapsed": false
   },
   "outputs": [
    {
     "name": "stdout",
     "output_type": "stream",
     "text": [
      "7503 1\n",
      "8440 1\n"
     ]
    }
   ],
   "source": [
    "for k, v in s.iteritems():\n",
    "    #print(type(e))\n",
    "    if v > 0:\n",
    "        print(k, v)"
   ]
  },
  {
   "cell_type": "code",
   "execution_count": null,
   "metadata": {
    "collapsed": true
   },
   "outputs": [],
   "source": []
  },
  {
   "cell_type": "code",
   "execution_count": null,
   "metadata": {
    "collapsed": true
   },
   "outputs": [],
   "source": []
  },
  {
   "cell_type": "code",
   "execution_count": null,
   "metadata": {
    "collapsed": true
   },
   "outputs": [],
   "source": [
    "aaa"
   ]
  },
  {
   "cell_type": "markdown",
   "metadata": {},
   "source": [
    "## Test load\n",
    "Not worth spending too much time on the loading function as will only be used once.\n",
    "However it does help define the database and introduce the concept of trial balance."
   ]
  },
  {
   "cell_type": "code",
   "execution_count": 3,
   "metadata": {
    "collapsed": false
   },
   "outputs": [],
   "source": [
    "class LoadDatabaseError(Exception):\n",
    "    pass\n",
    "\n",
    "class LoadDatabase():\n",
    "    \n",
    "    def __init__(self, dbname, df):\n",
    "        self.conn = sqlite3.connect(dbname)\n",
    "        self.cursor = self.conn.cursor()\n",
    "        self.load_management_chart_of_accounts()\n",
    "        self.cursor.execute('CREATE TABLE IF NOT EXISTS trial_balance (period text, code integer, balance real)')\n",
    "        self.df=df\n",
    "        \n",
    "    def load_management_chart_of_accounts(self):\n",
    "        \"\"\"Assets - Liabilities - OwnersEquity = 0\n",
    "        Asset - Liability - Equity - Income + Expense = 0\n",
    "        \"\"\"\n",
    "        self.cursor.execute('CREATE TABLE IF NOT EXISTS chart_of_accounts (chart text, code integer, name text, category text)')\n",
    "        coa_name = 'SLF-MA'\n",
    "        if self.empty_coa(coa_name):\n",
    "            coa= {'4000': 'Sales',\n",
    "            '4009': 'Discounts Allowed',\n",
    "            '4905': 'Carriage',\n",
    "            '5000': 'Materials Cost',\n",
    "            '5001': 'Material Cost Adjustment',\n",
    "            '6100': 'Commissions',\n",
    "            '6200': 'Sales Manager',\n",
    "            '6201': 'Advertising',\n",
    "            '7000': 'Factory Wages',\n",
    "            '7006': 'Redundancy Costs',\n",
    "            '7020': 'Delapidations Provision',\n",
    "            '7100': 'Factory Gas & Elec',\n",
    "            '7102': 'Packaging',\n",
    "            '7103': 'Machine Repairs',\n",
    "            '7105': 'Works Sundries',\n",
    "            '7200': 'Factory Depreciation',\n",
    "            '7202': 'Factory Insurance',\n",
    "            '7204': 'Factory Rent & Rates',\n",
    "            '7206': 'Factory Salaries',\n",
    "            '7906': 'Exchange Rate Variance',\n",
    "            '8100': 'Bad Debts',\n",
    "            '8200': 'Audit Fees',\n",
    "            '8201': 'Legal/Professional',\n",
    "            '8204': 'Bank Charges/Interest',\n",
    "            '8300': 'Admin Depreciation',\n",
    "            '8310': 'Gain/Loss on Disposal of Assets',\n",
    "            '8400': 'Admin Gas & Electricity',\n",
    "            '8402': 'Admin Insurance',\n",
    "            '8405': 'Motor Running',\n",
    "            '8408': 'Postage',\n",
    "            '8410': 'Admin Rent & Rates',\n",
    "            '8414': 'Repairs/Maint/Bldgs',\n",
    "            '8420': 'Admin Salaries',\n",
    "            '8424': 'Stationary',\n",
    "            '8426': 'Telephone',\n",
    "            '8430': 'Computer/EDI/Internet',\n",
    "            '8433': 'New Product Development',\n",
    "            '8435': 'Admin Travel',\n",
    "            '8440': 'Admin Sundries'}\n",
    "            for k,v in coa.items():\n",
    "                self.cursor.execute(\"INSERT INTO chart_of_accounts (chart, code, name) VALUES ('{}', {}, '{}')\".format(coa_name, k, v))\n",
    "            self.cursor.execute(\"UPDATE chart_of_accounts SET category='Income' WHERE code in (4000)\")\n",
    "            self.cursor.execute(\"UPDATE chart_of_accounts SET category='Expense' WHERE code > 4000\")\n",
    "\n",
    "        \n",
    "    def __enter__(self):\n",
    "        return self\n",
    "\n",
    "    \n",
    "    def __exit__(self, exc_type, exc_value, traceback):\n",
    "        self.commit()\n",
    "        self.close()\n",
    " \n",
    "\n",
    "    def commit(self):\n",
    "        self.conn.commit()\n",
    "\n",
    "        \n",
    "    def close(self):\n",
    "        self.conn.close()\n",
    " \n",
    "\n",
    "    def empty_coa(self, coa):\n",
    "        \"\"\"Check if this chart of management accounts hasn't been entered.\"\"\"\n",
    "        count=self.cursor.execute(\"SELECT COUNT(*) FROM chart_of_accounts WHERE chart='{}'\".format(coa)).fetchone()[0]\n",
    "        return count==0\n",
    "\n",
    "    \n",
    "    def empty(self, period):\n",
    "        \"\"\"Check if not data for period is in database\"\"\"\n",
    "        count=self.cursor.execute(\"SELECT COUNT(*) FROM trial_balance WHERE period='{}'\".format(period)).fetchone()[0]\n",
    "        return count==0\n",
    "\n",
    "    \n",
    "    def load_mtd_to_database(self, period):\n",
    "        if self.empty(period):\n",
    "            s = self.df['PLTD-{}'.format(period)]\n",
    "            l = s.index.tolist()\n",
    "            for i,v in enumerate(s):\n",
    "                code = str(l[i])\n",
    "                # print(l[i], type(l[i]), str(l[i]), v)\n",
    "                # Insert a row of data\n",
    "                if v == '-' or math.isnan(v):\n",
    "                    v = p(0)\n",
    "                else:\n",
    "                    v = p(v)\n",
    "                process_normally = not( (code=='5001' and (v == p(0))))\n",
    "                if process_normally:                \n",
    "                    if code == '4000':\n",
    "                        v = -v\n",
    "                    self.cursor.execute(\"INSERT INTO trial_balance VALUES ('{}', {}, {})\".format(period, code, v))\n",
    "        else:\n",
    "            raise LoadDatabaseError('{} already is in MTD database'.format(period))"
   ]
  },
  {
   "cell_type": "code",
   "execution_count": 4,
   "metadata": {
    "collapsed": false
   },
   "outputs": [],
   "source": [
    "#LoadDatabase(':memory:')\n",
    "cols = df.columns.values.tolist()\n",
    "with LoadDatabase('historic_trial_balances.db', df) as ld:\n",
    "    for c in cols:\n",
    "        period = c[5:15]\n",
    "        #print('{} {}'.format(c, period))\n",
    "        ld.load_mtd_to_database(period)"
   ]
  },
  {
   "cell_type": "markdown",
   "metadata": {},
   "source": [
    "# Balance sheet data load\n",
    "The balance sheet is a year to date balance sheet and the MTD balance sheet will have to be calculated.\n",
    "I am creating data that is internally consistent.  \n",
    "So for instance there may be rounding errors in the original data which will be folded into the stock account.\n",
    "In addition the Profit and Loss for the current year will come from the profit and loss in the trial balance."
   ]
  },
  {
   "cell_type": "code",
   "execution_count": 5,
   "metadata": {
    "collapsed": false
   },
   "outputs": [
    {
     "data": {
      "text/html": [
       "<div>\n",
       "<table border=\"1\" class=\"dataframe\">\n",
       "  <thead>\n",
       "    <tr style=\"text-align: right;\">\n",
       "      <th></th>\n",
       "      <th>BS-OCT-13</th>\n",
       "      <th>BS-SEP-14</th>\n",
       "      <th>BS-AUG-14</th>\n",
       "      <th>BS-JUL-14</th>\n",
       "      <th>BS-JUN-14</th>\n",
       "      <th>BS-MAY-14</th>\n",
       "      <th>BS-NOV-13</th>\n",
       "      <th>BS-JAN-14</th>\n",
       "      <th>BS-DEC-13</th>\n",
       "      <th>BS-FEB-14</th>\n",
       "      <th>...</th>\n",
       "      <th>BS-APR-14</th>\n",
       "      <th>BS-SEP-13</th>\n",
       "      <th>BS-OCT-14</th>\n",
       "      <th>BS-NOV-14</th>\n",
       "      <th>BS-DEC-14</th>\n",
       "      <th>BS-JAN-15</th>\n",
       "      <th>BS-FEB-15</th>\n",
       "      <th>BS-MAR-15</th>\n",
       "      <th>BS-APR-15</th>\n",
       "      <th>BS-DEC-15</th>\n",
       "    </tr>\n",
       "    <tr>\n",
       "      <th>Code</th>\n",
       "      <th></th>\n",
       "      <th></th>\n",
       "      <th></th>\n",
       "      <th></th>\n",
       "      <th></th>\n",
       "      <th></th>\n",
       "      <th></th>\n",
       "      <th></th>\n",
       "      <th></th>\n",
       "      <th></th>\n",
       "      <th></th>\n",
       "      <th></th>\n",
       "      <th></th>\n",
       "      <th></th>\n",
       "      <th></th>\n",
       "      <th></th>\n",
       "      <th></th>\n",
       "      <th></th>\n",
       "      <th></th>\n",
       "      <th></th>\n",
       "      <th></th>\n",
       "    </tr>\n",
       "  </thead>\n",
       "  <tbody>\n",
       "    <tr>\n",
       "      <th>2109</th>\n",
       "      <td>-1373.44</td>\n",
       "      <td>-3258.03</td>\n",
       "      <td>-13057.90</td>\n",
       "      <td>-26822.14</td>\n",
       "      <td>-33698.15</td>\n",
       "      <td>-32869.92</td>\n",
       "      <td>10351.42</td>\n",
       "      <td>3244.32</td>\n",
       "      <td>4398.54</td>\n",
       "      <td>-1841.93</td>\n",
       "      <td>...</td>\n",
       "      <td>-35826.59</td>\n",
       "      <td>-15205.82</td>\n",
       "      <td>4113</td>\n",
       "      <td>14808</td>\n",
       "      <td>10634</td>\n",
       "      <td>-15151.58</td>\n",
       "      <td>-9228.86</td>\n",
       "      <td>-65470.24</td>\n",
       "      <td>-64349.09</td>\n",
       "      <td>-26316.38</td>\n",
       "    </tr>\n",
       "    <tr>\n",
       "      <th>2110</th>\n",
       "      <td>0.00</td>\n",
       "      <td>0</td>\n",
       "      <td>0.00</td>\n",
       "      <td>NaN</td>\n",
       "      <td>0.00</td>\n",
       "      <td>0.00</td>\n",
       "      <td>0.00</td>\n",
       "      <td>0.00</td>\n",
       "      <td>0.00</td>\n",
       "      <td>0.00</td>\n",
       "      <td>...</td>\n",
       "      <td>0.00</td>\n",
       "      <td>0.00</td>\n",
       "      <td>0</td>\n",
       "      <td>0</td>\n",
       "      <td>0</td>\n",
       "      <td>0.00</td>\n",
       "      <td>0.00</td>\n",
       "      <td>0.00</td>\n",
       "      <td>0.00</td>\n",
       "      <td>0.00</td>\n",
       "    </tr>\n",
       "    <tr>\n",
       "      <th>2120</th>\n",
       "      <td>100.00</td>\n",
       "      <td>100</td>\n",
       "      <td>100.00</td>\n",
       "      <td>100.00</td>\n",
       "      <td>100.00</td>\n",
       "      <td>100.00</td>\n",
       "      <td>100.00</td>\n",
       "      <td>100.00</td>\n",
       "      <td>100.00</td>\n",
       "      <td>100.00</td>\n",
       "      <td>...</td>\n",
       "      <td>100.00</td>\n",
       "      <td>100.00</td>\n",
       "      <td>100</td>\n",
       "      <td>100</td>\n",
       "      <td>100</td>\n",
       "      <td>100.00</td>\n",
       "      <td>100.00</td>\n",
       "      <td>100.00</td>\n",
       "      <td>100.00</td>\n",
       "      <td>100.00</td>\n",
       "    </tr>\n",
       "    <tr>\n",
       "      <th>2125</th>\n",
       "      <td>455617.38</td>\n",
       "      <td>536335</td>\n",
       "      <td>536335.71</td>\n",
       "      <td>536335.71</td>\n",
       "      <td>536334.71</td>\n",
       "      <td>536334.71</td>\n",
       "      <td>455617.38</td>\n",
       "      <td>455617.38</td>\n",
       "      <td>455617.38</td>\n",
       "      <td>536335.71</td>\n",
       "      <td>...</td>\n",
       "      <td>536334.71</td>\n",
       "      <td>455617.38</td>\n",
       "      <td>509970</td>\n",
       "      <td>509970</td>\n",
       "      <td>509970</td>\n",
       "      <td>509969.50</td>\n",
       "      <td>558690.80</td>\n",
       "      <td>558690.80</td>\n",
       "      <td>558690.80</td>\n",
       "      <td>558690.80</td>\n",
       "    </tr>\n",
       "    <tr>\n",
       "      <th>2126</th>\n",
       "      <td>-41329.27</td>\n",
       "      <td>-41361</td>\n",
       "      <td>-53872.78</td>\n",
       "      <td>-45429.17</td>\n",
       "      <td>-42827.27</td>\n",
       "      <td>-48153.30</td>\n",
       "      <td>-27045.13</td>\n",
       "      <td>83218.33</td>\n",
       "      <td>-29967.26</td>\n",
       "      <td>-8209.30</td>\n",
       "      <td>...</td>\n",
       "      <td>-34625.29</td>\n",
       "      <td>-40822.17</td>\n",
       "      <td>-37780</td>\n",
       "      <td>-34027</td>\n",
       "      <td>-31057</td>\n",
       "      <td>48096.91</td>\n",
       "      <td>12329.19</td>\n",
       "      <td>-2689.15</td>\n",
       "      <td>-17327.66</td>\n",
       "      <td>-20407.85</td>\n",
       "    </tr>\n",
       "  </tbody>\n",
       "</table>\n",
       "<p>5 rows × 21 columns</p>\n",
       "</div>"
      ],
      "text/plain": [
       "      BS-OCT-13 BS-SEP-14  BS-AUG-14  BS-JUL-14  BS-JUN-14  BS-MAY-14  \\\n",
       "Code                                                                    \n",
       "2109   -1373.44  -3258.03  -13057.90  -26822.14  -33698.15  -32869.92   \n",
       "2110       0.00         0       0.00        NaN       0.00       0.00   \n",
       "2120     100.00       100     100.00     100.00     100.00     100.00   \n",
       "2125  455617.38    536335  536335.71  536335.71  536334.71  536334.71   \n",
       "2126  -41329.27    -41361  -53872.78  -45429.17  -42827.27  -48153.30   \n",
       "\n",
       "      BS-NOV-13  BS-JAN-14  BS-DEC-13  BS-FEB-14    ...      BS-APR-14  \\\n",
       "Code                                                ...                  \n",
       "2109   10351.42    3244.32    4398.54   -1841.93    ...      -35826.59   \n",
       "2110       0.00       0.00       0.00       0.00    ...           0.00   \n",
       "2120     100.00     100.00     100.00     100.00    ...         100.00   \n",
       "2125  455617.38  455617.38  455617.38  536335.71    ...      536334.71   \n",
       "2126  -27045.13   83218.33  -29967.26   -8209.30    ...      -34625.29   \n",
       "\n",
       "      BS-SEP-13  BS-OCT-14  BS-NOV-14  BS-DEC-14  BS-JAN-15  BS-FEB-15  \\\n",
       "Code                                                                     \n",
       "2109  -15205.82       4113      14808      10634  -15151.58   -9228.86   \n",
       "2110       0.00          0          0          0       0.00       0.00   \n",
       "2120     100.00        100        100        100     100.00     100.00   \n",
       "2125  455617.38     509970     509970     509970  509969.50  558690.80   \n",
       "2126  -40822.17     -37780     -34027     -31057   48096.91   12329.19   \n",
       "\n",
       "      BS-MAR-15  BS-APR-15  BS-DEC-15  \n",
       "Code                                   \n",
       "2109  -65470.24  -64349.09  -26316.38  \n",
       "2110       0.00       0.00       0.00  \n",
       "2120     100.00     100.00     100.00  \n",
       "2125  558690.80  558690.80  558690.80  \n",
       "2126   -2689.15  -17327.66  -20407.85  \n",
       "\n",
       "[5 rows x 21 columns]"
      ]
     },
     "execution_count": 5,
     "metadata": {},
     "output_type": "execute_result"
    }
   ],
   "source": [
    "df_bs = pd.read_excel(xl, 'BS', skiprows=4, parse_cols='C:Y', index_col=0).iloc[:-3]\n",
    "df_bs.index.names = ['Code']\n",
    "df_bs.tail()"
   ]
  },
  {
   "cell_type": "markdown",
   "metadata": {},
   "source": [
    "## Test load Balance Sheet data\n",
    "See comments above for MTD"
   ]
  },
  {
   "cell_type": "code",
   "execution_count": 6,
   "metadata": {
    "collapsed": false
   },
   "outputs": [],
   "source": [
    "class BSLoadDatabase():\n",
    "    \n",
    "    def __init__(self, dbname, df):\n",
    "        self.conn = sqlite3.connect(dbname)\n",
    "        self.cursor = self.conn.cursor()\n",
    "        self.add_management_chart_of_accounts()\n",
    "        self.cursor.execute('CREATE TABLE IF NOT EXISTS trial_balance (period text, code integer, balance real)')\n",
    "        self.df=df\n",
    "        \n",
    "    def add_management_chart_of_accounts(self):\n",
    "        \"\"\"Assets - Liabilities - OwnersEquity = 0\n",
    "        Asset - Liability - Equity - Income + Expense = 0\n",
    "        \"\"\"\n",
    "        # Table is created by MTD\n",
    "        coa_name = 'SLF-MA'\n",
    "        if self.empty_coa(coa_name):\n",
    "            coa= {'10': 'Fixed Assets',\n",
    "            '1001': 'Stock',\n",
    "            '1100': 'Debtors Control Account',\n",
    "            '1102': 'I. N. Rankin Sales Ltd',\n",
    "            '1103': 'Directors Loan A/C',\n",
    "            '1115': 'The Bedding Specialist',\n",
    "            '1200': 'Bank Current Account',\n",
    "            '1202': 'Bank Current USD',\n",
    "            '1203': 'Bank Euro A/c',\n",
    "            '1204': 'Petty Cash',\n",
    "            '2100': 'Creditors Control Account',\n",
    "            '2103': 'I. N. Rankin Oil Ltd',\n",
    "            '2104': 'Gavin Rankin/ D W Trustees',\n",
    "            '2105': 'Notional Tax on Directors Loan',\n",
    "            '2106': 'Corporation Tax',\n",
    "            '2107': 'PAYE & NI',\n",
    "            '2108': 'VAT',\n",
    "            '2109': 'Accruals & Prepayments',\n",
    "            '2110': 'Accumulated Depreciation Provision',\n",
    "            '2120': 'Share Capital',\n",
    "            '2125': 'Profit & Loss Prior Years',\n",
    "            '2126': 'Profit & Loss Current Year'}\n",
    "            for k,v in coa.items():\n",
    "                self.cursor.execute(\"INSERT INTO chart_of_accounts (chart, code, name) VALUES ('{}', {}, '{}')\".\n",
    "                                    format(coa_name, k, v))\n",
    "            self.cursor.execute(\"UPDATE chart_of_accounts SET category='Asset' WHERE code < 2000 or code in (2104, 2105)\")\n",
    "            self.cursor.execute(\"UPDATE chart_of_accounts SET category='Liability' \"+\n",
    "                                \"WHERE code in (2100, 2106, 2107, 2108, 2109, 2110, 2103 )\")\n",
    "            self.cursor.execute(\"UPDATE chart_of_accounts SET category='Equity' WHERE code in (2120, 2125, 2126)\")\n",
    "\n",
    "        \n",
    "    def __enter__(self):\n",
    "        return self\n",
    "\n",
    "    \n",
    "    def __exit__(self, exc_type, exc_value, traceback):\n",
    "        self.commit()\n",
    "        self.close()\n",
    " \n",
    "\n",
    "    def commit(self):\n",
    "        self.conn.commit()\n",
    "\n",
    "        \n",
    "    def close(self):\n",
    "        self.conn.close()\n",
    " \n",
    "\n",
    "    def empty_coa(self, coa):\n",
    "        \"\"\"Check if this chart of management accounts hasn't been entered.\"\"\"\n",
    "        count=self.cursor.execute(\"SELECT COUNT(*) FROM chart_of_accounts WHERE chart='{}' and code < 4000\".\n",
    "                                  format(coa)).fetchone()[0]\n",
    "        return count==0\n",
    "\n",
    "    \n",
    "    def empty(self, period):\n",
    "        \"\"\"Check if no data for Balance sheet period is in database\"\"\"\n",
    "        count=self.cursor.execute(\"SELECT COUNT(*) FROM trial_balance WHERE period='{}' and code < 4000\".\n",
    "                                  format(period)).fetchone()[0]\n",
    "        return count==0\n",
    "\n",
    "\n",
    "    def get_coa(self, coa):\n",
    "        sql = \"SELECT code as Code, name as NC_Name, category as Category  FROM chart_of_accounts WHERE chart = '{}'\".format(coa)\n",
    "        return  pd.read_sql(sql, self.conn, index_col='Code')\n",
    "\n",
    "    \n",
    "    def load_bs_to_database(self, period):\n",
    "        if self.empty(period):\n",
    "            coa=self.get_coa('SLF-MA')\n",
    "            s = self.df['BS-{}'.format(period)]\n",
    "            l = s.index.tolist()\n",
    "            #print(l)\n",
    "            for i,v in enumerate(s):\n",
    "                code = str(int(l[i]))\n",
    "                # print(l[i], type(l[i]), str(l[i]), v)\n",
    "                # Insert a row of data\n",
    "                if v == '-' or math.isnan(v):\n",
    "                    v = p(0)\n",
    "                else:\n",
    "                    v = p(v)\n",
    "                process_normally = not( ((code=='5001') and (v == p(0)))  # leave out end of year adjustements unless needed\n",
    "                                      or (code == '2126'))  # Leave out YTD carried forwad P&L which is done from the trial balance\n",
    "                if process_normally:\n",
    "                    category = coa.ix[int(code)].Category\n",
    "                    negative = category in ('Liability', 'Equity')\n",
    "                    if negative:\n",
    "                        v = -v\n",
    "                    self.cursor.execute(\"INSERT INTO trial_balance VALUES ('YTD-{}', {}, {})\".format(period, code, v))\n",
    "        else:\n",
    "            raise LoadDatabaseError('{} already is in MTD database'.format(period))"
   ]
  },
  {
   "cell_type": "code",
   "execution_count": 7,
   "metadata": {
    "collapsed": false
   },
   "outputs": [],
   "source": [
    "cols_bs = df_bs.columns.values.tolist()\n",
    "with BSLoadDatabase('historic_trial_balances.db', df_bs) as ld:\n",
    "    for c in cols_bs:\n",
    "        period = c[3:9]\n",
    "        #print('{} {}'.format(c, period))\n",
    "        ld.load_bs_to_database(period)"
   ]
  },
  {
   "cell_type": "code",
   "execution_count": null,
   "metadata": {
    "collapsed": true
   },
   "outputs": [],
   "source": []
  },
  {
   "cell_type": "code",
   "execution_count": null,
   "metadata": {
    "collapsed": true
   },
   "outputs": [],
   "source": []
  },
  {
   "cell_type": "code",
   "execution_count": null,
   "metadata": {
    "collapsed": true
   },
   "outputs": [],
   "source": []
  },
  {
   "cell_type": "markdown",
   "metadata": {
    "collapsed": true
   },
   "source": [
    "# Test extract\n",
    "Get data from database and see if can generate report. (Will need to convert old report notebook to module)"
   ]
  },
  {
   "cell_type": "code",
   "execution_count": 8,
   "metadata": {
    "collapsed": false
   },
   "outputs": [
    {
     "data": {
      "text/html": [
       "<div>\n",
       "<table border=\"1\" class=\"dataframe\">\n",
       "  <thead>\n",
       "    <tr style=\"text-align: right;\">\n",
       "      <th></th>\n",
       "      <th>TB</th>\n",
       "    </tr>\n",
       "    <tr>\n",
       "      <th>Code</th>\n",
       "      <th></th>\n",
       "    </tr>\n",
       "  </thead>\n",
       "  <tbody>\n",
       "    <tr>\n",
       "      <th>4000</th>\n",
       "      <td>-144825.44</td>\n",
       "    </tr>\n",
       "    <tr>\n",
       "      <th>4009</th>\n",
       "      <td>2748.55</td>\n",
       "    </tr>\n",
       "    <tr>\n",
       "      <th>4905</th>\n",
       "      <td>3158.55</td>\n",
       "    </tr>\n",
       "    <tr>\n",
       "      <th>5000</th>\n",
       "      <td>93079.08</td>\n",
       "    </tr>\n",
       "    <tr>\n",
       "      <th>6100</th>\n",
       "      <td>831.79</td>\n",
       "    </tr>\n",
       "  </tbody>\n",
       "</table>\n",
       "</div>"
      ],
      "text/plain": [
       "             TB\n",
       "Code           \n",
       "4000 -144825.44\n",
       "4009    2748.55\n",
       "4905    3158.55\n",
       "5000   93079.08\n",
       "6100     831.79"
      ]
     },
     "execution_count": 8,
     "metadata": {},
     "output_type": "execute_result"
    }
   ],
   "source": [
    "con = sqlite3.connect(\"historic_trial_balances.db\")\n",
    "p = 'MTD-OCT-13'\n",
    "sql = \"SELECT code as Code, balance as TB FROM trial_balance WHERE period = '{}'\".format(p)\n",
    "df1 = pd.read_sql(sql, con, index_col='Code')\n",
    "con.close()\n",
    "df1.head()"
   ]
  },
  {
   "cell_type": "markdown",
   "metadata": {},
   "source": [
    "## Get names of Nominal codes\n",
    "First iteration just use number"
   ]
  },
  {
   "cell_type": "code",
   "execution_count": 9,
   "metadata": {
    "collapsed": false
   },
   "outputs": [
    {
     "data": {
      "text/html": [
       "<div>\n",
       "<table border=\"1\" class=\"dataframe\">\n",
       "  <thead>\n",
       "    <tr style=\"text-align: right;\">\n",
       "      <th></th>\n",
       "      <th>NC_Name</th>\n",
       "    </tr>\n",
       "    <tr>\n",
       "      <th>Code</th>\n",
       "      <th></th>\n",
       "    </tr>\n",
       "  </thead>\n",
       "  <tbody>\n",
       "    <tr>\n",
       "      <th>8435</th>\n",
       "      <td>Admin Travel</td>\n",
       "    </tr>\n",
       "    <tr>\n",
       "      <th>8414</th>\n",
       "      <td>Repairs/Maint/Bldgs</td>\n",
       "    </tr>\n",
       "    <tr>\n",
       "      <th>8410</th>\n",
       "      <td>Admin Rent &amp; Rates</td>\n",
       "    </tr>\n",
       "    <tr>\n",
       "      <th>7906</th>\n",
       "      <td>Exchange Rate Variance</td>\n",
       "    </tr>\n",
       "    <tr>\n",
       "      <th>7206</th>\n",
       "      <td>Factory Salaries</td>\n",
       "    </tr>\n",
       "  </tbody>\n",
       "</table>\n",
       "</div>"
      ],
      "text/plain": [
       "                     NC_Name\n",
       "Code                        \n",
       "8435            Admin Travel\n",
       "8414     Repairs/Maint/Bldgs\n",
       "8410      Admin Rent & Rates\n",
       "7906  Exchange Rate Variance\n",
       "7206        Factory Salaries"
      ]
     },
     "execution_count": 9,
     "metadata": {},
     "output_type": "execute_result"
    }
   ],
   "source": [
    "con = sqlite3.connect(\"historic_trial_balances.db\")\n",
    "coa = 'SLF-MA'\n",
    "sql = \"SELECT code as Code, name as NC_Name FROM chart_of_accounts WHERE chart = '{}'\".format(coa)\n",
    "df2 = pd.read_sql(sql, con, index_col='Code')\n",
    "con.close()\n",
    "df2.head()"
   ]
  },
  {
   "cell_type": "markdown",
   "metadata": {
    "collapsed": true
   },
   "source": [
    "# Playground\n"
   ]
  },
  {
   "cell_type": "code",
   "execution_count": null,
   "metadata": {
    "collapsed": false
   },
   "outputs": [],
   "source": [
    "df_bs.iloc[:-3].tail()"
   ]
  },
  {
   "cell_type": "code",
   "execution_count": null,
   "metadata": {
    "collapsed": true
   },
   "outputs": [],
   "source": []
  }
 ],
 "metadata": {
  "kernelspec": {
   "display_name": "Python 3",
   "language": "python",
   "name": "python3"
  },
  "language_info": {
   "codemirror_mode": {
    "name": "ipython",
    "version": 3
   },
   "file_extension": ".py",
   "mimetype": "text/x-python",
   "name": "python",
   "nbconvert_exporter": "python",
   "pygments_lexer": "ipython3",
   "version": "3.5.1"
  }
 },
 "nbformat": 4,
 "nbformat_minor": 0
}
