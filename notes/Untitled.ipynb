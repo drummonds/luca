{
 "cells": [
  {
   "cell_type": "code",
   "execution_count": 2,
   "id": "f7263914-0176-462d-91f8-84623071117a",
   "metadata": {},
   "outputs": [
    {
     "name": "stdout",
     "output_type": "stream",
     "text": [
      "Line = > 2022-07-23T23:59:58 * \"Accrue interest\"\n",
      "\n",
      "Line = >   Expense:PnL    -0.12345\n",
      "\n",
      "Line = >   Liabilities:Client\n",
      "\n",
      "Line = >   \n"
     ]
    }
   ],
   "source": []
  },
  {
   "cell_type": "code",
   "execution_count": 6,
   "id": "a783273b-93ac-4b63-8d41-01c5677ed2c9",
   "metadata": {},
   "outputs": [
    {
     "name": "stdout",
     "output_type": "stream",
     "text": [
      "Line = > 2022-07-23T23:59:58 * \"Accrue interest\"\n",
      "Line = > Expense:PnL    -0.12345\n",
      "Line = > Liabilities:Client\n",
      "Line = > \n"
     ]
    }
   ],
   "source": [
    "class Ledger():\n",
    "    def __init__(self):\n",
    "        pass\n",
    "    \n",
    "    def import_file(self, filename):\n",
    "        file_state = \n",
    "        with open(filename) as f:\n",
    "            for line in f:\n",
    "                line = line.strip()\n",
    "                print(f\"Line = > {line}\")\n",
    "                \n",
    "l = Ledger()\n",
    "l.import_file(\"ledger1.txt\")"
   ]
  },
  {
   "cell_type": "markdown",
   "id": "1c0c20c6-197e-4fd8-94ed-239196125f16",
   "metadata": {},
   "source": [
    "will read in ledger and parse it\n",
    "\n",
    "TODO list\n",
    "- Create accounts as needed\n",
    "- Create as b tree\n",
    "- Balances stored as well\n",
    "- balances before definition\n",
    "- Each journal entry has actual journal entry and perhaps alternative  Eg model ones from a model twin - which should match, or budget ones which are done for the future and may not match"
   ]
  }
 ],
 "metadata": {
  "kernelspec": {
   "display_name": "Python 3 (ipykernel)",
   "language": "python",
   "name": "python3"
  },
  "language_info": {
   "codemirror_mode": {
    "name": "ipython",
    "version": 3
   },
   "file_extension": ".py",
   "mimetype": "text/x-python",
   "name": "python",
   "nbconvert_exporter": "python",
   "pygments_lexer": "ipython3",
   "version": "3.8.10"
  }
 },
 "nbformat": 4,
 "nbformat_minor": 5
}
