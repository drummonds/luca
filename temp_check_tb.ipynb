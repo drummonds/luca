{
 "cells": [
  {
   "cell_type": "markdown",
   "metadata": {},
   "source": [
    "# Test trial balance data in database"
   ]
  },
  {
   "cell_type": "code",
   "execution_count": 1,
   "metadata": {
    "collapsed": true
   },
   "outputs": [],
   "source": [
    "import pandas as pd\n",
    "import sqlite3\n",
    "\n",
    "from h3_yearend import p"
   ]
  },
  {
   "cell_type": "markdown",
   "metadata": {},
   "source": [
    "# Corrections\n",
    "Some of the data has been input incorrectly and needs correcting."
   ]
  },
  {
   "cell_type": "code",
   "execution_count": 3,
   "metadata": {
    "collapsed": false
   },
   "outputs": [
    {
     "name": "stdout",
     "output_type": "stream",
     "text": [
      "DELETE FROM trial_balance WHERE period = 'YTD-DEC-15' and code = 6100\n",
      "INSERT INTO trial_balance VALUES ('YTD-DEC-15', 6100, 15590.9)\n",
      "DELETE FROM trial_balance WHERE period = 'YTD-DEC-15' and code = 8414\n",
      "INSERT INTO trial_balance VALUES ('YTD-DEC-15', 8414, 1547.4)\n",
      "DELETE FROM trial_balance WHERE period = 'YTD-JAN-15' and code = 1001\n",
      "INSERT INTO trial_balance VALUES ('YTD-JAN-15', 1001, 362381.7)\n"
     ]
    }
   ],
   "source": [
    "con = sqlite3.connect(\"historic_trial_balances.db\")\n",
    "cursor = con.cursor()\n",
    "for c in [('YTD-DEC-15', 6100, 15590.9, ),  # Error in Excel spreadsheet\n",
    "          ('YTD-DEC-15', 8414, 1547.4, ),   # Error in Excel spreadsheet\n",
    "          ('YTD-JAN-15', 1001, 362381.70, ),  # Unknown error changing fomr 364193.12 to make BS balance\n",
    "         ]:\n",
    "    sql_d = \"DELETE FROM trial_balance WHERE period = '{}' and code = {}\".format(c[0], c[1]) # no unique index so delete \n",
    "    print(sql_d)\n",
    "    cursor.execute(sql_d)\n",
    "    #  multiple versions\n",
    "    sql = \"INSERT INTO trial_balance VALUES ('{}', {}, {})\".format(c[0], c[1], c[2])\n",
    "    print(sql)\n",
    "    cursor.execute(sql)\n",
    "con.commit()\n",
    "con.close()\n"
   ]
  },
  {
   "cell_type": "code",
   "execution_count": null,
   "metadata": {
    "collapsed": true
   },
   "outputs": [],
   "source": []
  },
  {
   "cell_type": "code",
   "execution_count": null,
   "metadata": {
    "collapsed": true
   },
   "outputs": [],
   "source": []
  },
  {
   "cell_type": "code",
   "execution_count": null,
   "metadata": {
    "collapsed": true
   },
   "outputs": [],
   "source": []
  },
  {
   "cell_type": "code",
   "execution_count": null,
   "metadata": {
    "collapsed": true
   },
   "outputs": [],
   "source": [
    "\n",
    "conn = sqlite3.connect('historic_trial_balances.db')\n",
    "cursor = conn.cursor()\n",
    "\n",
    "def get_coa(coa):\n",
    "    sql = \"SELECT code as Code, name as NC_Name, category as Category  FROM chart_of_accounts WHERE chart = '{}'\".format(coa)\n",
    "    return  pd.read_sql(sql, conn, index_col='Code')\n",
    "\n",
    "coa=get_coa('SLF-MA')"
   ]
  },
  {
   "cell_type": "code",
   "execution_count": 2,
   "metadata": {
    "collapsed": false
   },
   "outputs": [
    {
     "data": {
      "text/plain": [
       "{'MTD-APR-14',\n",
       " 'MTD-APR-15',\n",
       " 'MTD-AUG-14',\n",
       " 'MTD-DEC-13',\n",
       " 'MTD-DEC-14',\n",
       " 'MTD-DEC-15',\n",
       " 'MTD-FEB-14',\n",
       " 'MTD-FEB-15',\n",
       " 'MTD-JAN-14',\n",
       " 'MTD-JAN-15',\n",
       " 'MTD-JUL-14',\n",
       " 'MTD-JUL-15',\n",
       " 'MTD-JUN-14',\n",
       " 'MTD-MAR-14',\n",
       " 'MTD-MAR-15',\n",
       " 'MTD-MAY-14',\n",
       " 'MTD-NOV-13',\n",
       " 'MTD-NOV-14',\n",
       " 'MTD-OCT-13',\n",
       " 'MTD-OCT-14',\n",
       " 'MTD-SEP-13',\n",
       " 'MTD-SEP-14',\n",
       " 'YTD-APR-14',\n",
       " 'YTD-APR-15',\n",
       " 'YTD-AUG-14',\n",
       " 'YTD-DEC-13',\n",
       " 'YTD-DEC-14',\n",
       " 'YTD-DEC-15',\n",
       " 'YTD-FEB-14',\n",
       " 'YTD-FEB-15',\n",
       " 'YTD-JAN-14',\n",
       " 'YTD-JAN-15',\n",
       " 'YTD-JUL-14',\n",
       " 'YTD-JUL-15',\n",
       " 'YTD-JUN-14',\n",
       " 'YTD-MAR-14',\n",
       " 'YTD-MAR-15',\n",
       " 'YTD-MAY-14',\n",
       " 'YTD-NOV-13',\n",
       " 'YTD-NOV-14',\n",
       " 'YTD-OCT-13',\n",
       " 'YTD-OCT-14',\n",
       " 'YTD-SEP-13',\n",
       " 'YTD-SEP-14'}"
      ]
     },
     "execution_count": 2,
     "metadata": {},
     "output_type": "execute_result"
    }
   ],
   "source": [
    "con = sqlite3.connect(\"historic_trial_balances.db\")\n",
    "sql = \"SELECT * FROM trial_balance\"\n",
    "df2 = pd.read_sql(sql, con)\n",
    "con.close()\n",
    "df2.tail()\n",
    "set(df2['period'].tolist())"
   ]
  },
  {
   "cell_type": "code",
   "execution_count": 41,
   "metadata": {
    "collapsed": false,
    "scrolled": true
   },
   "outputs": [
    {
     "name": "stdout",
     "output_type": "stream",
     "text": [
      "-----\n",
      ">> OCT-14\n",
      "MTD-OCT-14 -4425.40\n",
      "YTD-OCT-14 -845.03\n",
      "-----\n",
      ">> NOV-14\n",
      "MTD-NOV-14 -3933.83\n",
      "YTD-NOV-14 -0.08\n",
      "-----\n",
      ">> MAR-15\n",
      "MTD-MAR-15 15018.34\n",
      "YTD-MAR-15 4299.19\n",
      "-----\n",
      ">> APR-15\n",
      "MTD-APR-15 14638.51\n",
      "YTD-APR-15 973.55\n",
      "-----\n",
      ">> MAY-15\n",
      "MTD-MAY-15 0.00\n",
      "YTD-MAY-15 0.00\n",
      "-----\n",
      ">> DEC-15\n",
      "MTD-DEC-15 6837.50\n",
      "YTD-DEC-15 -799.00\n"
     ]
    }
   ],
   "source": [
    "for period in ('OCT-14', 'NOV-14', 'MAR-15', 'APR-15', 'MAY-15', 'DEC-15'):\n",
    "    print('-----')\n",
    "    print('>> {}'.format(period))\n",
    "    for prefix in ('MTD-', 'YTD-', ):\n",
    "        tb = prefix + period\n",
    "        con = sqlite3.connect(\"historic_trial_balances.db\")\n",
    "        sql = \"SELECT code as Code, balance as TB FROM trial_balance WHERE period = '{}'\".format(tb)\n",
    "        df1 = pd.read_sql(sql, con, index_col='Code')\n",
    "        con.close()\n",
    "        print('{} {}'.format(tb, p(df1['TB'].sum())))\n",
    "        # print(df1)"
   ]
  },
  {
   "cell_type": "code",
   "execution_count": 29,
   "metadata": {
    "collapsed": false
   },
   "outputs": [
    {
     "data": {
      "text/plain": [
       "Decimal('-6726.90')"
      ]
     },
     "execution_count": 29,
     "metadata": {},
     "output_type": "execute_result"
    }
   ],
   "source": [
    "p(df1['TB'].sum())"
   ]
  },
  {
   "cell_type": "code",
   "execution_count": 39,
   "metadata": {
    "collapsed": false
   },
   "outputs": [
    {
     "name": "stdout",
     "output_type": "stream",
     "text": [
      "              TB\n",
      "Code            \n",
      "4000 -1496178.37\n",
      "4009    34550.90\n",
      "4905    35866.66\n",
      "5000   920189.26\n",
      "6200    26024.18\n",
      "6201     6213.85\n",
      "7000   106124.34\n",
      "7006        0.00\n",
      "7020        0.00\n",
      "7100     8250.00\n",
      "7102    29935.53\n",
      "7103     1038.41\n",
      "7105    10143.92\n",
      "7200      105.00\n",
      "7202    10120.00\n",
      "7204    83511.15\n",
      "7206    16310.95\n",
      "7906        0.00\n",
      "8100        1.21\n",
      "8200     3300.00\n",
      "8201     1123.50\n",
      "8204     1713.29\n",
      "8300     2020.00\n",
      "8310        0.00\n",
      "8400     1375.00\n",
      "8402     5262.99\n",
      "8405    10243.02\n",
      "8408      894.44\n",
      "8410    22220.00\n",
      "8414     4547.40\n",
      "8420   135545.57\n",
      "8424     2769.57\n",
      "8426     7966.54\n",
      "8430     6869.37\n",
      "8433     1235.00\n",
      "8435     1506.38\n",
      "8440     6218.89\n",
      "9999        0.00\n",
      "10      10613.54\n",
      "1001   235986.42\n",
      "1100   277026.42\n",
      "1102        0.00\n",
      "1103    31181.08\n",
      "1115    67841.16\n",
      "1200    87485.92\n",
      "1202    58270.26\n",
      "1203        0.00\n",
      "1204      586.12\n",
      "2100   -13480.90\n",
      "2103  -231405.93\n",
      "2104    26017.94\n",
      "2105        0.00\n",
      "2106        0.00\n",
      "2107    -9308.70\n",
      "2108   -28746.76\n",
      "2109    26316.38\n",
      "2110        0.00\n",
      "2120     -100.00\n",
      "2125  -558690.80\n",
      "6100    15590.90\n"
     ]
    }
   ],
   "source": [
    "print(df1)"
   ]
  },
  {
   "cell_type": "code",
   "execution_count": 12,
   "metadata": {
    "collapsed": false
   },
   "outputs": [
    {
     "data": {
      "text/plain": [
       "TB    13680.95\n",
       "dtype: float64"
      ]
     },
     "execution_count": 12,
     "metadata": {},
     "output_type": "execute_result"
    }
   ],
   "source": [
    "df1[df1.index > 3000].sum()"
   ]
  },
  {
   "cell_type": "code",
   "execution_count": null,
   "metadata": {
    "collapsed": true
   },
   "outputs": [],
   "source": []
  }
 ],
 "metadata": {
  "kernelspec": {
   "display_name": "Python 3",
   "language": "python",
   "name": "python3"
  },
  "language_info": {
   "codemirror_mode": {
    "name": "ipython",
    "version": 3
   },
   "file_extension": ".py",
   "mimetype": "text/x-python",
   "name": "python",
   "nbconvert_exporter": "python",
   "pygments_lexer": "ipython3",
   "version": "3.5.1"
  }
 },
 "nbformat": 4,
 "nbformat_minor": 0
}
