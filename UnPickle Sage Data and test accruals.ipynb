{
 "cells": [
  {
   "cell_type": "markdown",
   "metadata": {},
   "source": [
    "# UnPickle Sage Data\n",
    "Unpickle data created on another system with Sage.  Should then be able to create a transaction trial balances."
   ]
  },
  {
   "cell_type": "code",
   "execution_count": 1,
   "metadata": {
    "collapsed": false
   },
   "outputs": [],
   "source": [
    "import datetime as dt\n",
    "import pandas as pd\n",
    "\n",
    "from h3_yearend import p\n"
   ]
  },
  {
   "cell_type": "code",
   "execution_count": 2,
   "metadata": {
    "collapsed": false
   },
   "outputs": [
    {
     "name": "stdout",
     "output_type": "stream",
     "text": [
      "56830\n"
     ]
    },
    {
     "data": {
      "text/html": [
       "<div>\n",
       "<table border=\"1\" class=\"dataframe\">\n",
       "  <thead>\n",
       "    <tr style=\"text-align: right;\">\n",
       "      <th></th>\n",
       "      <th>TRAN_NUMBER</th>\n",
       "      <th>TYPE</th>\n",
       "      <th>DATE</th>\n",
       "      <th>ACCOUNT_REF</th>\n",
       "      <th>ALT_REF</th>\n",
       "      <th>INV_REF</th>\n",
       "      <th>DETAILS</th>\n",
       "      <th>TAX_CODE</th>\n",
       "      <th>AMOUNT</th>\n",
       "      <th>FOREIGN_AMOUNT</th>\n",
       "      <th>BANK_FLAG</th>\n",
       "      <th>DATE_BANK_RECONCILED</th>\n",
       "    </tr>\n",
       "  </thead>\n",
       "  <tbody>\n",
       "    <tr>\n",
       "      <th>0</th>\n",
       "      <td>1</td>\n",
       "      <td>SI</td>\n",
       "      <td>2015-02-03</td>\n",
       "      <td>1100</td>\n",
       "      <td>X458</td>\n",
       "      <td>55774</td>\n",
       "      <td>SGL  S/F COTTON TOPPER</td>\n",
       "      <td>T1</td>\n",
       "      <td>64.44</td>\n",
       "      <td>64.44</td>\n",
       "      <td>-</td>\n",
       "      <td>NaN</td>\n",
       "    </tr>\n",
       "    <tr>\n",
       "      <th>1</th>\n",
       "      <td>2</td>\n",
       "      <td>SI</td>\n",
       "      <td>2015-02-03</td>\n",
       "      <td>1100</td>\n",
       "      <td>X458</td>\n",
       "      <td>55774</td>\n",
       "      <td>KNG S/F COTTON TOPPER</td>\n",
       "      <td>T1</td>\n",
       "      <td>80.10</td>\n",
       "      <td>80.10</td>\n",
       "      <td>-</td>\n",
       "      <td>NaN</td>\n",
       "    </tr>\n",
       "  </tbody>\n",
       "</table>\n",
       "</div>"
      ],
      "text/plain": [
       "   TRAN_NUMBER TYPE       DATE  ACCOUNT_REF ALT_REF INV_REF  \\\n",
       "0            1   SI 2015-02-03         1100    X458   55774   \n",
       "1            2   SI 2015-02-03         1100    X458   55774   \n",
       "\n",
       "                  DETAILS TAX_CODE  AMOUNT  FOREIGN_AMOUNT BANK_FLAG  \\\n",
       "0  SGL  S/F COTTON TOPPER       T1   64.44           64.44         -   \n",
       "1   KNG S/F COTTON TOPPER       T1   80.10           80.10         -   \n",
       "\n",
       "  DATE_BANK_RECONCILED  \n",
       "0                  NaN  \n",
       "1                  NaN  "
      ]
     },
     "execution_count": 2,
     "metadata": {},
     "output_type": "execute_result"
    }
   ],
   "source": [
    "import pickle\n",
    "sage_2015 = pickle.load(open('sage2015.pickle', 'rb'))\n",
    "df = sage_2015.df\n",
    "print(len(df))\n",
    "df.head(2)"
   ]
  },
  {
   "cell_type": "markdown",
   "metadata": {
    "collapsed": true
   },
   "source": [
    "# Get Data for one year for one nominal account"
   ]
  },
  {
   "cell_type": "code",
   "execution_count": 3,
   "metadata": {
    "collapsed": false
   },
   "outputs": [
    {
     "data": {
      "text/html": [
       "<div>\n",
       "<table border=\"1\" class=\"dataframe\">\n",
       "  <thead>\n",
       "    <tr style=\"text-align: right;\">\n",
       "      <th></th>\n",
       "      <th>TRAN_NUMBER</th>\n",
       "      <th>TYPE</th>\n",
       "      <th>DATE</th>\n",
       "      <th>ACCOUNT_REF</th>\n",
       "      <th>ALT_REF</th>\n",
       "      <th>INV_REF</th>\n",
       "      <th>DETAILS</th>\n",
       "      <th>TAX_CODE</th>\n",
       "      <th>AMOUNT</th>\n",
       "      <th>FOREIGN_AMOUNT</th>\n",
       "      <th>BANK_FLAG</th>\n",
       "      <th>DATE_BANK_RECONCILED</th>\n",
       "    </tr>\n",
       "  </thead>\n",
       "  <tbody>\n",
       "    <tr>\n",
       "      <th>3252</th>\n",
       "      <td>1482</td>\n",
       "      <td>PI</td>\n",
       "      <td>2015-02-19</td>\n",
       "      <td>2109</td>\n",
       "      <td>BTP001</td>\n",
       "      <td>A05</td>\n",
       "      <td>Phone</td>\n",
       "      <td>T1</td>\n",
       "      <td>1147.73</td>\n",
       "      <td>1147.73</td>\n",
       "      <td>-</td>\n",
       "      <td>NaN</td>\n",
       "    </tr>\n",
       "    <tr>\n",
       "      <th>3255</th>\n",
       "      <td>1483</td>\n",
       "      <td>PI</td>\n",
       "      <td>2015-02-11</td>\n",
       "      <td>2109</td>\n",
       "      <td>BTP001</td>\n",
       "      <td>A06</td>\n",
       "      <td>Phone</td>\n",
       "      <td>T9</td>\n",
       "      <td>158.31</td>\n",
       "      <td>158.31</td>\n",
       "      <td>-</td>\n",
       "      <td>NaN</td>\n",
       "    </tr>\n",
       "    <tr>\n",
       "      <th>3288</th>\n",
       "      <td>1494</td>\n",
       "      <td>PI</td>\n",
       "      <td>2015-02-10</td>\n",
       "      <td>2109</td>\n",
       "      <td>EON001</td>\n",
       "      <td>A17</td>\n",
       "      <td>Electricity Bill</td>\n",
       "      <td>T5</td>\n",
       "      <td>7.26</td>\n",
       "      <td>7.26</td>\n",
       "      <td>-</td>\n",
       "      <td>NaN</td>\n",
       "    </tr>\n",
       "    <tr>\n",
       "      <th>3291</th>\n",
       "      <td>1495</td>\n",
       "      <td>PI</td>\n",
       "      <td>2015-02-10</td>\n",
       "      <td>2109</td>\n",
       "      <td>EON001</td>\n",
       "      <td>A18</td>\n",
       "      <td>Electricity Bill</td>\n",
       "      <td>T5</td>\n",
       "      <td>9.35</td>\n",
       "      <td>9.35</td>\n",
       "      <td>-</td>\n",
       "      <td>NaN</td>\n",
       "    </tr>\n",
       "    <tr>\n",
       "      <th>3294</th>\n",
       "      <td>1496</td>\n",
       "      <td>PC</td>\n",
       "      <td>2015-02-11</td>\n",
       "      <td>2109</td>\n",
       "      <td>EON001</td>\n",
       "      <td>A18</td>\n",
       "      <td>Electricity Bill on reading</td>\n",
       "      <td>T5</td>\n",
       "      <td>-0.20</td>\n",
       "      <td>-0.20</td>\n",
       "      <td>-</td>\n",
       "      <td>NaN</td>\n",
       "    </tr>\n",
       "  </tbody>\n",
       "</table>\n",
       "</div>"
      ],
      "text/plain": [
       "      TRAN_NUMBER TYPE       DATE  ACCOUNT_REF ALT_REF INV_REF  \\\n",
       "3252         1482   PI 2015-02-19         2109  BTP001     A05   \n",
       "3255         1483   PI 2015-02-11         2109  BTP001     A06   \n",
       "3288         1494   PI 2015-02-10         2109  EON001     A17   \n",
       "3291         1495   PI 2015-02-10         2109  EON001     A18   \n",
       "3294         1496   PC 2015-02-11         2109  EON001     A18   \n",
       "\n",
       "                          DETAILS TAX_CODE   AMOUNT  FOREIGN_AMOUNT BANK_FLAG  \\\n",
       "3252                        Phone       T1  1147.73         1147.73         -   \n",
       "3255                        Phone       T9   158.31          158.31         -   \n",
       "3288             Electricity Bill       T5     7.26            7.26         -   \n",
       "3291             Electricity Bill       T5     9.35            9.35         -   \n",
       "3294  Electricity Bill on reading       T5    -0.20           -0.20         -   \n",
       "\n",
       "     DATE_BANK_RECONCILED  \n",
       "3252                  NaN  \n",
       "3255                  NaN  \n",
       "3288                  NaN  \n",
       "3291                  NaN  \n",
       "3294                  NaN  "
      ]
     },
     "execution_count": 3,
     "metadata": {},
     "output_type": "execute_result"
    }
   ],
   "source": [
    "# tb = sage_2015.transactional_trial_balance(dt.date(2015, 1, 1), dt.date(2016, 1, 31))\n",
    "# tb.head()\n",
    "accruals = df[(df['ACCOUNT_REF'] == 2109) & (df['DATE'] >= dt.date(2015, 2, 1)) & (df['DATE'] <= dt.date(2016, 1, 31))]\n",
    "accruals.head()"
   ]
  },
  {
   "cell_type": "markdown",
   "metadata": {
    "collapsed": true
   },
   "source": [
    "## Temporarily save data to spreadsheet so that the data can be eyeballed.\n",
    "Accruals (2109) is creditors account which is a liability so should negative."
   ]
  },
  {
   "cell_type": "code",
   "execution_count": 4,
   "metadata": {
    "collapsed": false
   },
   "outputs": [
    {
     "name": "stdout",
     "output_type": "stream",
     "text": [
      "-3051.36\n"
     ]
    }
   ],
   "source": [
    "print(p(accruals['AMOUNT'].sum()))"
   ]
  },
  {
   "cell_type": "code",
   "execution_count": 10,
   "metadata": {
    "collapsed": false
   },
   "outputs": [],
   "source": [
    "def save_to_excel(df, filename):\n",
    "    temp = df.copy()\n",
    "    temp['DATE']=[str(d)[0:10] for d in temp['DATE']]\n",
    "    temp['DATE_BANK_RECONCILED']=[str(d)[0:10] for d in temp['DATE_BANK_RECONCILED']]\n",
    "    with pd.ExcelWriter(filename) as writer:\n",
    "        temp.to_excel(writer,'Accruals 2109')\n",
    "save_to_excel(df, ('Accruals 2109 for checking.xlsx'))"
   ]
  },
  {
   "cell_type": "markdown",
   "metadata": {},
   "source": [
    "## Summary need to Categorise\n",
    "There are 260 entries - need to categorise them and summarise them.  Then deal with each group.  Start with Monthly \n",
    "accruals."
   ]
  },
  {
   "cell_type": "code",
   "execution_count": 11,
   "metadata": {
    "collapsed": false
   },
   "outputs": [
    {
     "name": "stderr",
     "output_type": "stream",
     "text": [
      "C:\\Anaconda3\\lib\\site-packages\\ipykernel\\__main__.py:7: SettingWithCopyWarning: \n",
      "A value is trying to be set on a copy of a slice from a DataFrame.\n",
      "Try using .loc[row_indexer,col_indexer] = value instead\n",
      "\n",
      "See the caveats in the documentation: http://pandas.pydata.org/pandas-docs/stable/indexing.html#indexing-view-versus-copy\n"
     ]
    }
   ],
   "source": [
    "def categorise(row):\n",
    "    result = 'Unknown'\n",
    "    if row['DETAILS'] == 'Monthly Accruals':\n",
    "        result = 'Monthly Accruals'\n",
    "    return result\n",
    "\n",
    "accruals['Category'] = accruals.apply(categorise, axis=1)"
   ]
  },
  {
   "cell_type": "code",
   "execution_count": 12,
   "metadata": {
    "collapsed": false
   },
   "outputs": [
    {
     "data": {
      "text/html": [
       "<div>\n",
       "<table border=\"1\" class=\"dataframe\">\n",
       "  <thead>\n",
       "    <tr style=\"text-align: right;\">\n",
       "      <th></th>\n",
       "      <th>TYPE</th>\n",
       "    </tr>\n",
       "    <tr>\n",
       "      <th>Category</th>\n",
       "      <th></th>\n",
       "    </tr>\n",
       "  </thead>\n",
       "  <tbody>\n",
       "    <tr>\n",
       "      <th>Monthly Accruals</th>\n",
       "      <td>12</td>\n",
       "    </tr>\n",
       "    <tr>\n",
       "      <th>Unknown</th>\n",
       "      <td>248</td>\n",
       "    </tr>\n",
       "  </tbody>\n",
       "</table>\n",
       "</div>"
      ],
      "text/plain": [
       "                  TYPE\n",
       "Category              \n",
       "Monthly Accruals    12\n",
       "Unknown            248"
      ]
     },
     "execution_count": 12,
     "metadata": {},
     "output_type": "execute_result"
    }
   ],
   "source": [
    "pd.pivot_table(accruals,index=[\"Category\"], values=['TYPE'], aggfunc='count')"
   ]
  },
  {
   "cell_type": "code",
   "execution_count": 49,
   "metadata": {
    "collapsed": false
   },
   "outputs": [
    {
     "data": {
      "text/plain": [
       "[5991, 6005, 6019, 8784, 8797, 12265, 12278, 15521, 15534, 16455, 18815, 21534]"
      ]
     },
     "execution_count": 49,
     "metadata": {},
     "output_type": "execute_result"
    }
   ],
   "source": [
    "accruals_list = list(accruals[accruals['Category']=='Monthly Accruals']['TRAN_NUMBER'])\n",
    "assert len(accruals_list) == 12\n",
    "accruals_list"
   ]
  },
  {
   "cell_type": "markdown",
   "metadata": {},
   "source": [
    "### Look around and accruals and see how to get whole transaction\n",
    "Is there an explicit link or going to need to seom type of inference"
   ]
  },
  {
   "cell_type": "code",
   "execution_count": 14,
   "metadata": {
    "collapsed": false
   },
   "outputs": [
    {
     "data": {
      "text/html": [
       "<div>\n",
       "<table border=\"1\" class=\"dataframe\">\n",
       "  <thead>\n",
       "    <tr style=\"text-align: right;\">\n",
       "      <th></th>\n",
       "      <th>TRAN_NUMBER</th>\n",
       "      <th>TYPE</th>\n",
       "      <th>DATE</th>\n",
       "      <th>ACCOUNT_REF</th>\n",
       "      <th>ALT_REF</th>\n",
       "      <th>INV_REF</th>\n",
       "      <th>DETAILS</th>\n",
       "      <th>TAX_CODE</th>\n",
       "      <th>AMOUNT</th>\n",
       "      <th>FOREIGN_AMOUNT</th>\n",
       "      <th>BANK_FLAG</th>\n",
       "      <th>DATE_BANK_RECONCILED</th>\n",
       "    </tr>\n",
       "  </thead>\n",
       "  <tbody>\n",
       "    <tr>\n",
       "      <th>14890</th>\n",
       "      <td>5986</td>\n",
       "      <td>JD</td>\n",
       "      <td>2015-02-28</td>\n",
       "      <td>8402</td>\n",
       "      <td>8402</td>\n",
       "      <td>Accruals Draft</td>\n",
       "      <td>Admin Insurance</td>\n",
       "      <td>T9</td>\n",
       "      <td>170</td>\n",
       "      <td>170</td>\n",
       "      <td>-</td>\n",
       "      <td>NaN</td>\n",
       "    </tr>\n",
       "    <tr>\n",
       "      <th>14891</th>\n",
       "      <td>5987</td>\n",
       "      <td>JD</td>\n",
       "      <td>2015-02-28</td>\n",
       "      <td>8405</td>\n",
       "      <td>8405</td>\n",
       "      <td>Accruals Draft</td>\n",
       "      <td>Admin Motor</td>\n",
       "      <td>T9</td>\n",
       "      <td>365</td>\n",
       "      <td>365</td>\n",
       "      <td>-</td>\n",
       "      <td>NaN</td>\n",
       "    </tr>\n",
       "    <tr>\n",
       "      <th>14892</th>\n",
       "      <td>5988</td>\n",
       "      <td>JD</td>\n",
       "      <td>2015-02-28</td>\n",
       "      <td>8410</td>\n",
       "      <td>8410</td>\n",
       "      <td>Accruals Draft</td>\n",
       "      <td>Admin Rent &amp; Rates</td>\n",
       "      <td>T9</td>\n",
       "      <td>2020</td>\n",
       "      <td>2020</td>\n",
       "      <td>-</td>\n",
       "      <td>NaN</td>\n",
       "    </tr>\n",
       "    <tr>\n",
       "      <th>14893</th>\n",
       "      <td>5989</td>\n",
       "      <td>JD</td>\n",
       "      <td>2015-02-28</td>\n",
       "      <td>8426</td>\n",
       "      <td>8426</td>\n",
       "      <td>Accruals Draft</td>\n",
       "      <td>Admin Telephones</td>\n",
       "      <td>T9</td>\n",
       "      <td>700</td>\n",
       "      <td>700</td>\n",
       "      <td>-</td>\n",
       "      <td>NaN</td>\n",
       "    </tr>\n",
       "    <tr>\n",
       "      <th>14894</th>\n",
       "      <td>5990</td>\n",
       "      <td>JD</td>\n",
       "      <td>2015-02-28</td>\n",
       "      <td>8430</td>\n",
       "      <td>8430</td>\n",
       "      <td>Accruals Draft</td>\n",
       "      <td>Admin IT/EDI</td>\n",
       "      <td>T9</td>\n",
       "      <td>130</td>\n",
       "      <td>130</td>\n",
       "      <td>-</td>\n",
       "      <td>NaN</td>\n",
       "    </tr>\n",
       "    <tr>\n",
       "      <th>14895</th>\n",
       "      <td>5991</td>\n",
       "      <td>JC</td>\n",
       "      <td>2015-02-28</td>\n",
       "      <td>2109</td>\n",
       "      <td>2109</td>\n",
       "      <td>Accruals Draft</td>\n",
       "      <td>Monthly Accruals</td>\n",
       "      <td>T9</td>\n",
       "      <td>-13400</td>\n",
       "      <td>-13400</td>\n",
       "      <td>-</td>\n",
       "      <td>NaN</td>\n",
       "    </tr>\n",
       "    <tr>\n",
       "      <th>14896</th>\n",
       "      <td>5992</td>\n",
       "      <td>JD</td>\n",
       "      <td>2015-03-31</td>\n",
       "      <td>7100</td>\n",
       "      <td>7100</td>\n",
       "      <td>Accruals Draft Mar15</td>\n",
       "      <td>Works Gas &amp; Elec</td>\n",
       "      <td>T9</td>\n",
       "      <td>750</td>\n",
       "      <td>750</td>\n",
       "      <td>-</td>\n",
       "      <td>NaN</td>\n",
       "    </tr>\n",
       "    <tr>\n",
       "      <th>14897</th>\n",
       "      <td>5993</td>\n",
       "      <td>JD</td>\n",
       "      <td>2015-03-31</td>\n",
       "      <td>7105</td>\n",
       "      <td>7105</td>\n",
       "      <td>Accruals Draft Mar15</td>\n",
       "      <td>Works Sundries</td>\n",
       "      <td>T9</td>\n",
       "      <td>135</td>\n",
       "      <td>135</td>\n",
       "      <td>-</td>\n",
       "      <td>NaN</td>\n",
       "    </tr>\n",
       "    <tr>\n",
       "      <th>14898</th>\n",
       "      <td>5994</td>\n",
       "      <td>JD</td>\n",
       "      <td>2015-03-31</td>\n",
       "      <td>7200</td>\n",
       "      <td>7200</td>\n",
       "      <td>Accruals Draft Mar15</td>\n",
       "      <td>Works Depreciation</td>\n",
       "      <td>T9</td>\n",
       "      <td>35</td>\n",
       "      <td>35</td>\n",
       "      <td>-</td>\n",
       "      <td>NaN</td>\n",
       "    </tr>\n",
       "    <tr>\n",
       "      <th>14899</th>\n",
       "      <td>5995</td>\n",
       "      <td>JD</td>\n",
       "      <td>2015-03-31</td>\n",
       "      <td>7202</td>\n",
       "      <td>7202</td>\n",
       "      <td>Accruals Draft Mar15</td>\n",
       "      <td>Works Insurance</td>\n",
       "      <td>T9</td>\n",
       "      <td>920</td>\n",
       "      <td>920</td>\n",
       "      <td>-</td>\n",
       "      <td>NaN</td>\n",
       "    </tr>\n",
       "    <tr>\n",
       "      <th>14900</th>\n",
       "      <td>5996</td>\n",
       "      <td>JD</td>\n",
       "      <td>2015-03-31</td>\n",
       "      <td>7204</td>\n",
       "      <td>7204</td>\n",
       "      <td>Accruals Draft Mar15</td>\n",
       "      <td>Works Rent &amp; Rates</td>\n",
       "      <td>T9</td>\n",
       "      <td>7500</td>\n",
       "      <td>7500</td>\n",
       "      <td>-</td>\n",
       "      <td>NaN</td>\n",
       "    </tr>\n",
       "  </tbody>\n",
       "</table>\n",
       "</div>"
      ],
      "text/plain": [
       "       TRAN_NUMBER TYPE       DATE  ACCOUNT_REF ALT_REF               INV_REF  \\\n",
       "14890         5986   JD 2015-02-28         8402    8402        Accruals Draft   \n",
       "14891         5987   JD 2015-02-28         8405    8405        Accruals Draft   \n",
       "14892         5988   JD 2015-02-28         8410    8410        Accruals Draft   \n",
       "14893         5989   JD 2015-02-28         8426    8426        Accruals Draft   \n",
       "14894         5990   JD 2015-02-28         8430    8430        Accruals Draft   \n",
       "14895         5991   JC 2015-02-28         2109    2109        Accruals Draft   \n",
       "14896         5992   JD 2015-03-31         7100    7100  Accruals Draft Mar15   \n",
       "14897         5993   JD 2015-03-31         7105    7105  Accruals Draft Mar15   \n",
       "14898         5994   JD 2015-03-31         7200    7200  Accruals Draft Mar15   \n",
       "14899         5995   JD 2015-03-31         7202    7202  Accruals Draft Mar15   \n",
       "14900         5996   JD 2015-03-31         7204    7204  Accruals Draft Mar15   \n",
       "\n",
       "                  DETAILS TAX_CODE  AMOUNT  FOREIGN_AMOUNT BANK_FLAG  \\\n",
       "14890     Admin Insurance       T9     170             170         -   \n",
       "14891         Admin Motor       T9     365             365         -   \n",
       "14892  Admin Rent & Rates       T9    2020            2020         -   \n",
       "14893    Admin Telephones       T9     700             700         -   \n",
       "14894        Admin IT/EDI       T9     130             130         -   \n",
       "14895    Monthly Accruals       T9  -13400          -13400         -   \n",
       "14896    Works Gas & Elec       T9     750             750         -   \n",
       "14897      Works Sundries       T9     135             135         -   \n",
       "14898  Works Depreciation       T9      35              35         -   \n",
       "14899     Works Insurance       T9     920             920         -   \n",
       "14900  Works Rent & Rates       T9    7500            7500         -   \n",
       "\n",
       "      DATE_BANK_RECONCILED  \n",
       "14890                  NaN  \n",
       "14891                  NaN  \n",
       "14892                  NaN  \n",
       "14893                  NaN  \n",
       "14894                  NaN  \n",
       "14895                  NaN  \n",
       "14896                  NaN  \n",
       "14897                  NaN  \n",
       "14898                  NaN  \n",
       "14899                  NaN  \n",
       "14900                  NaN  "
      ]
     },
     "execution_count": 14,
     "metadata": {},
     "output_type": "execute_result"
    }
   ],
   "source": [
    "df[(df['TRAN_NUMBER'] >= 5991-5) & (df['TRAN_NUMBER'] <= 5991+5)]"
   ]
  },
  {
   "cell_type": "markdown",
   "metadata": {},
   "source": [
    "## Given a transaction number find the journal entries\n",
    "- Find transaction\n",
    "- go forwards until not JC,JD and same date\n",
    "- go backwards until not JC,JD and same date (collecting stop if no long the same or if all adds up to zero)\n",
    "- if not including target restart going backwards until target included.\n",
    "- Make sure all adds up to Zero"
   ]
  },
  {
   "cell_type": "code",
   "execution_count": 47,
   "metadata": {
    "collapsed": false
   },
   "outputs": [
    {
     "name": "stdout",
     "output_type": "stream",
     "text": [
      "End of transactions is 5991 on 2015-02-28 00:00:00\n"
     ]
    },
    {
     "data": {
      "text/plain": [
       "{2109: Decimal('-13400.00'),\n",
       " 7100: Decimal('750.00'),\n",
       " 7105: Decimal('135.00'),\n",
       " 7200: Decimal('35.00'),\n",
       " 7202: Decimal('920.00'),\n",
       " 7204: Decimal('7500.00'),\n",
       " 8200: Decimal('300.00'),\n",
       " 8300: Decimal('250.00'),\n",
       " 8400: Decimal('125.00'),\n",
       " 8402: Decimal('170.00'),\n",
       " 8405: Decimal('365.00'),\n",
       " 8410: Decimal('2020.00'),\n",
       " 8426: Decimal('700.00'),\n",
       " 8430: Decimal('130.00')}"
      ]
     },
     "execution_count": 47,
     "metadata": {},
     "output_type": "execute_result"
    }
   ],
   "source": [
    "class TransactionError(Exception):\n",
    "    pass\n",
    "\n",
    "def get_entry(df, number, direction=1):  # Default direction is searching forwards\n",
    "    transactions = df[(df['TRAN_NUMBER'] == number)]\n",
    "    if len(transactions) > 0:  #  there may be more eg PI consists of three transactions.\n",
    "        return transactions.iloc[0]\n",
    "    else:  # probably item has been deleted so try next one\n",
    "        # TODO make sure code works at beginging and end of data.  Currently raises a \n",
    "        #  transaction error\n",
    "        min = df['TRAN_NUMBER'].min()\n",
    "        max = df['TRAN_NUMBER'].max()\n",
    "        if number < min:\n",
    "            raise TransactionError('Searching for transaction and are looking for ' +\n",
    "                                  'a transaction less than the minimum. {}'.format(number))\n",
    "        elif number > max:\n",
    "            raise TransactionError('Searching for transaction and are looking for ' +\n",
    "                                  'a transaction greater than the maximum. {}'.format(number))\n",
    "        else:\n",
    "            return get_entry(df, number+direction, direction)  # Recursivly get next\n",
    "\n",
    "class Transaction:\n",
    "    \n",
    "    def __init__(self):\n",
    "        self.transaction = {}\n",
    "    \n",
    "    def sum(self):\n",
    "        result = p(0)\n",
    "        for k,v in iter(self.transaction.items()):\n",
    "            result += v\n",
    "        return result\n",
    "\n",
    "    def append(self, nominal_code, value):\n",
    "        if nominal_code in self.transaction:\n",
    "            raise TransactionError('Attempting to add two entries to the same nominal code {} into {}'.\\\n",
    "                                   format(nominal_code, self.transaction))\n",
    "        else:\n",
    "            self.transaction[nominal_code] = value\n",
    "        \n",
    "    def is_valid(self):\n",
    "        return (len(self.transaction)  > 0) and (self.sum() == p(0))\n",
    "\n",
    "\n",
    "def return_transaction(df, one_entry):\n",
    "    \n",
    "    def journal_matches(test, date):\n",
    "        return (test['DATE'] == date) and (test['TYPE'] in ('JC', 'JD'))\n",
    "\n",
    "    def search_backwards(one_entry, start, date):\n",
    "        #Search backwards adding transactions until complete and one_entry in transactions\n",
    "        index = start\n",
    "        transaction = Transaction()\n",
    "        test = get_entry(df, index, direction=-1)\n",
    "        while journal_matches(test, date):\n",
    "            if test['TYPE'] == 'JD':\n",
    "                sign=1\n",
    "            else:\n",
    "                sign=-1\n",
    "            transaction.append(test['ACCOUNT_REF'],  p(test['AMOUNT']))  # p(sign) *\n",
    "            if transaction.is_valid():\n",
    "                if index <= one_entry:  # Found the transaction\n",
    "                    return transaction\n",
    "                else:  # there are probably two or more transactions on the same day\n",
    "                    return search_backward(one_entry, index, date)\n",
    "            index -= 1  # Else keep on trying to add transactions until it is valid\n",
    "            test = get_entry(df, index, direction=-1)\n",
    "        raise TransactionError(\"\"\"The transaction could not be found or \n",
    "doesn't add up to zero.{} {}. Start = {}\"\"\".format(\n",
    "                transaction.sum(), transaction.transaction, start))\n",
    "        \n",
    "    index = one_entry\n",
    "    test = get_entry(df, index)\n",
    "    date = test['DATE']\n",
    "    test = get_entry(df, index+1)\n",
    "    while journal_matches(test, date):\n",
    "        test = get_entry(df, index)\n",
    "        index += 1\n",
    "    high_water_mark = index\n",
    "    print('End of transactions is {} on {}'.format(index, date))\n",
    "    return search_backwards(one_entry, high_water_mark, date)\n",
    "    \n",
    "a = return_transaction(df, 5991)\n",
    "a.transaction"
   ]
  },
  {
   "cell_type": "code",
   "execution_count": 48,
   "metadata": {
    "collapsed": false
   },
   "outputs": [
    {
     "name": "stdout",
     "output_type": "stream",
     "text": [
      "End of transactions is 5991 on 2015-02-28 00:00:00\n",
      "End of transactions is 6005 on 2015-03-31 00:00:00\n",
      "End of transactions is 6019 on 2015-04-30 00:00:00\n",
      "End of transactions is 8784 on 2015-05-31 00:00:00\n",
      "End of transactions is 8797 on 2015-06-30 00:00:00\n",
      "End of transactions is 12265 on 2015-07-31 00:00:00\n",
      "End of transactions is 12278 on 2015-08-31 00:00:00\n",
      "End of transactions is 15521 on 2015-09-30 00:00:00\n",
      "End of transactions is 15534 on 2015-10-31 00:00:00\n",
      "End of transactions is 16461 on 2015-11-30 00:00:00\n"
     ]
    },
    {
     "ename": "TransactionError",
     "evalue": "The transaction could not be found or \ndoesn't add up to zero.0.00 {}. Start = 16461",
     "output_type": "error",
     "traceback": [
      "\u001b[1;31m---------------------------------------------------------------------------\u001b[0m",
      "\u001b[1;31mTransactionError\u001b[0m                          Traceback (most recent call last)",
      "\u001b[1;32m<ipython-input-48-1d13a98d1074>\u001b[0m in \u001b[0;36m<module>\u001b[1;34m()\u001b[0m\n\u001b[1;32m----> 1\u001b[1;33m \u001b[1;33m[\u001b[0m\u001b[0mreturn_transaction\u001b[0m\u001b[1;33m(\u001b[0m\u001b[0mdf\u001b[0m\u001b[1;33m,\u001b[0m\u001b[0mx\u001b[0m\u001b[1;33m)\u001b[0m \u001b[1;32mfor\u001b[0m \u001b[0mx\u001b[0m \u001b[1;32min\u001b[0m \u001b[0maccruals_list\u001b[0m\u001b[1;33m]\u001b[0m\u001b[1;33m\u001b[0m\u001b[0m\n\u001b[0m",
      "\u001b[1;32m<ipython-input-48-1d13a98d1074>\u001b[0m in \u001b[0;36m<listcomp>\u001b[1;34m(.0)\u001b[0m\n\u001b[1;32m----> 1\u001b[1;33m \u001b[1;33m[\u001b[0m\u001b[0mreturn_transaction\u001b[0m\u001b[1;33m(\u001b[0m\u001b[0mdf\u001b[0m\u001b[1;33m,\u001b[0m\u001b[0mx\u001b[0m\u001b[1;33m)\u001b[0m \u001b[1;32mfor\u001b[0m \u001b[0mx\u001b[0m \u001b[1;32min\u001b[0m \u001b[0maccruals_list\u001b[0m\u001b[1;33m]\u001b[0m\u001b[1;33m\u001b[0m\u001b[0m\n\u001b[0m",
      "\u001b[1;32m<ipython-input-47-147420190449>\u001b[0m in \u001b[0;36mreturn_transaction\u001b[1;34m(df, one_entry)\u001b[0m\n\u001b[0;32m     75\u001b[0m     \u001b[0mhigh_water_mark\u001b[0m \u001b[1;33m=\u001b[0m \u001b[0mindex\u001b[0m\u001b[1;33m\u001b[0m\u001b[0m\n\u001b[0;32m     76\u001b[0m     \u001b[0mprint\u001b[0m\u001b[1;33m(\u001b[0m\u001b[1;34m'End of transactions is {} on {}'\u001b[0m\u001b[1;33m.\u001b[0m\u001b[0mformat\u001b[0m\u001b[1;33m(\u001b[0m\u001b[0mindex\u001b[0m\u001b[1;33m,\u001b[0m \u001b[0mdate\u001b[0m\u001b[1;33m)\u001b[0m\u001b[1;33m)\u001b[0m\u001b[1;33m\u001b[0m\u001b[0m\n\u001b[1;32m---> 77\u001b[1;33m     \u001b[1;32mreturn\u001b[0m \u001b[0msearch_backwards\u001b[0m\u001b[1;33m(\u001b[0m\u001b[0mone_entry\u001b[0m\u001b[1;33m,\u001b[0m \u001b[0mhigh_water_mark\u001b[0m\u001b[1;33m,\u001b[0m \u001b[0mdate\u001b[0m\u001b[1;33m)\u001b[0m\u001b[1;33m\u001b[0m\u001b[0m\n\u001b[0m\u001b[0;32m     78\u001b[0m \u001b[1;33m\u001b[0m\u001b[0m\n\u001b[0;32m     79\u001b[0m \u001b[0ma\u001b[0m \u001b[1;33m=\u001b[0m \u001b[0mreturn_transaction\u001b[0m\u001b[1;33m(\u001b[0m\u001b[0mdf\u001b[0m\u001b[1;33m,\u001b[0m \u001b[1;36m5991\u001b[0m\u001b[1;33m)\u001b[0m\u001b[1;33m\u001b[0m\u001b[0m\n",
      "\u001b[1;32m<ipython-input-47-147420190449>\u001b[0m in \u001b[0;36msearch_backwards\u001b[1;34m(one_entry, start, date)\u001b[0m\n\u001b[0;32m     64\u001b[0m         raise TransactionError(\"\"\"The transaction could not be found or \n\u001b[0;32m     65\u001b[0m doesn't add up to zero.{} {}. Start = {}\"\"\".format(\n\u001b[1;32m---> 66\u001b[1;33m                 transaction.sum(), transaction.transaction, start))\n\u001b[0m\u001b[0;32m     67\u001b[0m \u001b[1;33m\u001b[0m\u001b[0m\n\u001b[0;32m     68\u001b[0m     \u001b[0mindex\u001b[0m \u001b[1;33m=\u001b[0m \u001b[0mone_entry\u001b[0m\u001b[1;33m\u001b[0m\u001b[0m\n",
      "\u001b[1;31mTransactionError\u001b[0m: The transaction could not be found or \ndoesn't add up to zero.0.00 {}. Start = 16461"
     ]
    }
   ],
   "source": [
    "[return_transaction(df,x) for x in accruals_list]"
   ]
  },
  {
   "cell_type": "code",
   "execution_count": 43,
   "metadata": {
    "collapsed": false
   },
   "outputs": [
    {
     "data": {
      "text/plain": [
       "22648"
      ]
     },
     "execution_count": 43,
     "metadata": {},
     "output_type": "execute_result"
    }
   ],
   "source": [
    " df['TRAN_NUMBER'].max()"
   ]
  },
  {
   "cell_type": "code",
   "execution_count": null,
   "metadata": {
    "collapsed": true
   },
   "outputs": [],
   "source": []
  },
  {
   "cell_type": "code",
   "execution_count": null,
   "metadata": {
    "collapsed": true
   },
   "outputs": [],
   "source": []
  },
  {
   "cell_type": "code",
   "execution_count": null,
   "metadata": {
    "collapsed": true
   },
   "outputs": [],
   "source": []
  },
  {
   "cell_type": "code",
   "execution_count": null,
   "metadata": {
    "collapsed": true
   },
   "outputs": [],
   "source": []
  }
 ],
 "metadata": {
  "kernelspec": {
   "display_name": "Python 3",
   "language": "python",
   "name": "python3"
  },
  "language_info": {
   "codemirror_mode": {
    "name": "ipython",
    "version": 3
   },
   "file_extension": ".py",
   "mimetype": "text/x-python",
   "name": "python",
   "nbconvert_exporter": "python",
   "pygments_lexer": "ipython3",
   "version": "3.5.1"
  }
 },
 "nbformat": 4,
 "nbformat_minor": 0
}
